{
 "cells": [
  {
   "cell_type": "code",
   "execution_count": 1,
   "metadata": {
    "collapsed": true
   },
   "outputs": [],
   "source": [
    "%matplotlib inline"
   ]
  },
  {
   "cell_type": "code",
   "execution_count": 2,
   "metadata": {
    "collapsed": true
   },
   "outputs": [],
   "source": [
    "from Bio import Phylo\n",
    "import numpy as np\n",
    "\n",
    "from matplotlib import pyplot as plt"
   ]
  },
  {
   "cell_type": "markdown",
   "metadata": {},
   "source": [
    "# Functions to get variance-covariance matrix"
   ]
  },
  {
   "cell_type": "code",
   "execution_count": 3,
   "metadata": {
    "collapsed": true
   },
   "outputs": [],
   "source": [
    "def get_distance_matrix_recursive(tree):\n",
    "    assert tree.is_bifurcating()\n",
    "    initial = np.zeros((len(tree.get_terminals()),len(tree.get_terminals())))\n",
    "    recurse, finished_list = recursive_clade(initial, tree.root, finished=[])\n",
    "#     recurse = recurse/2\n",
    "    return recurse\n",
    "\n",
    "def recursive_clade(vcv_matrix, initial_clade, finished=[]):\n",
    "    if len(initial_clade) == 3:\n",
    "        if not set(initial_clade[0].get_terminals()).issubset(set(finished)):\n",
    "            clade = initial_clade[0]        \n",
    "            vcv_matrix[len(finished):len(finished)+len(clade.get_terminals()), len(finished):len(finished)+len(clade.get_terminals())] += clade.branch_length\n",
    "            vcv_matrix, finished = recursive_clade(vcv_matrix, clade, finished)\n",
    "\n",
    "        if not set(initial_clade[1].get_terminals()).issubset(set(finished)):\n",
    "            clade = initial_clade[1]\n",
    "            vcv_matrix[len(finished):len(finished)+len(clade.get_terminals()), len(finished):len(finished)+len(clade.get_terminals())] += clade.branch_length\n",
    "            vcv_matrix, finished = recursive_clade(vcv_matrix, clade, finished)\n",
    "        \n",
    "        if not set(initial_clade[2].get_terminals()).issubset(set(finished)):\n",
    "            clade = initial_clade[2]\n",
    "            vcv_matrix[len(finished):len(finished)+len(clade.get_terminals()), len(finished):len(finished)+len(clade.get_terminals())] += clade.branch_length\n",
    "            vcv_matrix, finished = recursive_clade(vcv_matrix, clade, finished)\n",
    "    \n",
    "    elif len(initial_clade) == 2:\n",
    "        if not set(initial_clade[0].get_terminals()).issubset(set(finished)):\n",
    "            clade = initial_clade[0]        \n",
    "            vcv_matrix[len(finished):len(finished)+len(clade.get_terminals()), len(finished):len(finished)+len(clade.get_terminals())] += clade.branch_length\n",
    "            vcv_matrix, finished = recursive_clade(vcv_matrix, clade, finished)\n",
    "\n",
    "        if not set(initial_clade[1].get_terminals()).issubset(set(finished)):\n",
    "            clade = initial_clade[1]\n",
    "            vcv_matrix[len(finished):len(finished)+len(clade.get_terminals()), len(finished):len(finished)+len(clade.get_terminals())] += clade.branch_length\n",
    "            vcv_matrix, finished = recursive_clade(vcv_matrix, clade, finished)\n",
    "\n",
    "    elif len(initial_clade) == 0:\n",
    "        finished.append(initial_clade)\n",
    "    \n",
    "    else:\n",
    "        print(\"ERROR: APPEARS TO BE A NON-BINARY TREE. MATRIX GENERATION WILL PROBABLY FAIL\")\n",
    "    return vcv_matrix, finished"
   ]
  },
  {
   "cell_type": "markdown",
   "metadata": {},
   "source": [
    "# Reading in and processing test-trees"
   ]
  },
  {
   "cell_type": "code",
   "execution_count": 59,
   "metadata": {
    "collapsed": false
   },
   "outputs": [
    {
     "name": "stdout",
     "output_type": "stream",
     "text": [
      "11\n"
     ]
    }
   ],
   "source": [
    "# tree = Phylo.read('../../Tree_rooting/Data/euk_trees/KOG0001.faa.aln.nwk.Rooted.MADAJH', 'newick')\n",
    "# tree = Phylo.read('/Users/adamhockenberry/Downloads/BM_Folder/BM_Tree_Test.txt', 'newick')\n",
    "tree = Phylo.read('/Users/adamhockenberry/Downloads/BM_Folder/paper_tree.txt', 'newick')\n",
    "\n",
    "# tree.root_at_midpoint()\n",
    "print(len(tree.get_terminals()))\n",
    "initial_order = tree.get_terminals()\n",
    "dicty = {}\n",
    "for i,j in enumerate(initial_order):\n",
    "    dicty[j.name] = i"
   ]
  },
  {
   "cell_type": "code",
   "execution_count": 60,
   "metadata": {
    "collapsed": false
   },
   "outputs": [
    {
     "data": {
      "text/plain": [
       "[Clade(branch_length=0.3, name='PV22'),\n",
       " Clade(branch_length=0.3, name='BH10'),\n",
       " Clade(branch_length=0.5, name='BRU'),\n",
       " Clade(branch_length=0.7, name='HXB'),\n",
       " Clade(branch_length=3.3, name='SF2'),\n",
       " Clade(branch_length=3.7, name='CDC'),\n",
       " Clade(branch_length=3.0, name='WMJ2'),\n",
       " Clade(branch_length=4.3, name='RF'),\n",
       " Clade(branch_length=6.3, name='ELI'),\n",
       " Clade(branch_length=6.1, name='MAL'),\n",
       " Clade(branch_length=9.3, name='Z3')]"
      ]
     },
     "execution_count": 60,
     "metadata": {},
     "output_type": "execute_result"
    }
   ],
   "source": [
    "tree.get_terminals()"
   ]
  },
  {
   "cell_type": "code",
   "execution_count": 61,
   "metadata": {
    "collapsed": false
   },
   "outputs": [],
   "source": [
    "blah = next(tree.find_elements('PV22'))\n",
    "blah.branch_length += 2\n",
    "blah = next(tree.find_elements('BH10'))\n",
    "blah.branch_length += 2"
   ]
  },
  {
   "cell_type": "code",
   "execution_count": 62,
   "metadata": {
    "collapsed": false
   },
   "outputs": [
    {
     "data": {
      "text/plain": [
       "[Clade(branch_length=2.3, name='PV22'),\n",
       " Clade(branch_length=2.3, name='BH10'),\n",
       " Clade(branch_length=0.5, name='BRU'),\n",
       " Clade(branch_length=0.7, name='HXB'),\n",
       " Clade(branch_length=3.3, name='SF2'),\n",
       " Clade(branch_length=3.7, name='CDC'),\n",
       " Clade(branch_length=3.0, name='WMJ2'),\n",
       " Clade(branch_length=4.3, name='RF'),\n",
       " Clade(branch_length=6.3, name='ELI'),\n",
       " Clade(branch_length=6.1, name='MAL'),\n",
       " Clade(branch_length=9.3, name='Z3')]"
      ]
     },
     "execution_count": 62,
     "metadata": {},
     "output_type": "execute_result"
    }
   ],
   "source": [
    "tree.get_terminals()"
   ]
  },
  {
   "cell_type": "code",
   "execution_count": null,
   "metadata": {
    "collapsed": true
   },
   "outputs": [],
   "source": []
  },
  {
   "cell_type": "markdown",
   "metadata": {},
   "source": [
    "# Using root, get basic variance-covariance method ala Felsenstein\n",
    "\n",
    "So this is the basic method proposed in Altschull et al (ACL) and it works in my implementation"
   ]
  },
  {
   "cell_type": "code",
   "execution_count": 72,
   "metadata": {
    "collapsed": false
   },
   "outputs": [
    {
     "name": "stdout",
     "output_type": "stream",
     "text": [
      "[ 0.00618368  0.00618368  0.03091839  0.02826824  0.05803556  0.05526387\n",
      "  0.09896767  0.09544918  0.13742311  0.14192878  0.34137785]\n",
      "['PV22', 'BH10', 'BRU', 'HXB', 'SF2', 'CDC', 'WMJ2', 'RF', 'ELI', 'MAL', 'Z3']\n"
     ]
    }
   ],
   "source": [
    "matrix = get_distance_matrix_recursive(tree)\n",
    "matrix = np.linalg.inv(matrix)\n",
    "# print(matrix)\n",
    "print(matrix.sum(axis=1)/matrix.sum())\n",
    "#####HACKING\n",
    "# testy = matrix.sum(axis=1)/matrix.sum()\n",
    "# testy = 1/testy\n",
    "# summy = np.sum(testy)\n",
    "# print(testy/summy)\n",
    "#####\n",
    "print([i.name for i in initial_order])"
   ]
  },
  {
   "cell_type": "code",
   "execution_count": 73,
   "metadata": {
    "collapsed": false
   },
   "outputs": [
    {
     "data": {
      "text/plain": [
       "<matplotlib.colorbar.Colorbar at 0x11ace6ba8>"
      ]
     },
     "execution_count": 73,
     "metadata": {},
     "output_type": "execute_result"
    },
    {
     "data": {
      "image/png": "[encoded data removed]",
      "text/plain": [
       "<matplotlib.figure.Figure at 0x11a697748>"
      ]
     },
     "metadata": {},
     "output_type": "display_data"
    }
   ],
   "source": [
    "fig, ax = plt.subplots()\n",
    "cbar = ax.matshow(matrix)\n",
    "plt.colorbar(cbar)"
   ]
  },
  {
   "cell_type": "code",
   "execution_count": 74,
   "metadata": {
    "collapsed": false
   },
   "outputs": [
    {
     "data": {
      "text/plain": [
       "(array([ 4.,  2.,  2.,  1.,  1.,  0.,  0.,  0.,  0.,  1.]),\n",
       " array([ 0.00618368,  0.0397031 ,  0.07322251,  0.10674193,  0.14026135,\n",
       "         0.17378076,  0.20730018,  0.2408196 ,  0.27433901,  0.30785843,\n",
       "         0.34137785]),\n",
       " <a list of 10 Patch objects>)"
      ]
     },
     "execution_count": 74,
     "metadata": {},
     "output_type": "execute_result"
    },
    {
     "data": {
      "image/png": "[encoded data removed]",
      "text/plain": [
       "<matplotlib.figure.Figure at 0x11a974390>"
      ]
     },
     "metadata": {},
     "output_type": "display_data"
    }
   ],
   "source": [
    "fig, ax = plt.subplots()\n",
    "ax.hist(matrix.sum(axis=1)/matrix.sum())"
   ]
  },
  {
   "cell_type": "code",
   "execution_count": 75,
   "metadata": {
    "collapsed": false
   },
   "outputs": [
    {
     "data": {
      "image/png": "[encoded data removed]",
      "text/plain": [
       "<matplotlib.figure.Figure at 0x11a9c9128>"
      ]
     },
     "metadata": {},
     "output_type": "display_data"
    }
   ],
   "source": [
    "Phylo.draw(tree)"
   ]
  },
  {
   "cell_type": "markdown",
   "metadata": {},
   "source": [
    "# Next, I think, this is the method proposed via Stone and Sidow"
   ]
  },
  {
   "cell_type": "code",
   "execution_count": null,
   "metadata": {
    "collapsed": false
   },
   "outputs": [],
   "source": [
    "tree = Phylo.read('/Users/adamhockenberry/Downloads/BM_Folder/paper_tree.txt', 'newick')\n",
    "initial_order = tree.get_terminals()\n",
    "dicty = {}\n",
    "for i,j in enumerate(initial_order):\n",
    "    dicty[j.name] = i\n",
    "\n",
    "\n",
    "sub_tree_outgroups = []\n",
    "bls = []\n",
    "for i in tree.get_nonterminals():\n",
    "    sub_tree_outgroups.append([{'name': taxon_name.name} for taxon_name in i.get_terminals()])\n",
    "    bls.append(i.branch_length)\n",
    "for i in tree.get_terminals():\n",
    "    sub_tree_outgroups.append({'name': i.name})\n",
    "    bls.append(i.branch_length)\n",
    "\n",
    "\n",
    "\n",
    "\n",
    "matrix_tot = np.zeros((len(tree.get_terminals()),len(tree.get_terminals())))\n",
    "total_len = 0\n",
    "for outgroup,bl in zip(sub_tree_outgroups, bls):\n",
    "    if bl == None:\n",
    "        continue\n",
    "    tree = Phylo.read('/Users/adamhockenberry/Downloads/BM_Folder/paper_tree.txt', 'newick')\n",
    "#     print('###')\n",
    "    tree.root_with_outgroup(outgroup)\n",
    "    new_order = tree.get_terminals()\n",
    "    idx = [dicty[i.name] for i in new_order]\n",
    "#     print('!!!!!', idx)\n",
    "    matrix = get_distance_matrix_recursive(tree)\n",
    "    print(matrix)\n",
    "    matrix = matrix[idx]\n",
    "    matrix = matrix.T\n",
    "    matrix = matrix[idx]\n",
    "    matrix = matrix.T\n",
    "    matrix = np.linalg.inv(matrix)\n",
    "    print(matrix)\n",
    "    matrix_tot += (matrix * bl)\n",
    "    total_len += bl\n",
    "#     matrix_tot += matrix"
   ]
  },
  {
   "cell_type": "code",
   "execution_count": null,
   "metadata": {
    "collapsed": false
   },
   "outputs": [],
   "source": [
    "matrix_tot = matrix_tot/total_len\n",
    "matrix_tot = np.linalg.inv(matrix_tot)\n",
    "print(matrix_tot.sum(axis=1)/matrix_tot.sum())\n",
    "print([i.name for i in initial_order])\n"
   ]
  },
  {
   "cell_type": "code",
   "execution_count": null,
   "metadata": {
    "collapsed": false
   },
   "outputs": [],
   "source": [
    "tree.root.total_branch_length()"
   ]
  },
  {
   "cell_type": "code",
   "execution_count": null,
   "metadata": {
    "collapsed": false
   },
   "outputs": [],
   "source": [
    "np.sum(bls[1:])"
   ]
  },
  {
   "cell_type": "code",
   "execution_count": null,
   "metadata": {
    "collapsed": false
   },
   "outputs": [],
   "source": [
    "matrix_tot/total_len"
   ]
  },
  {
   "cell_type": "code",
   "execution_count": null,
   "metadata": {
    "collapsed": false
   },
   "outputs": [],
   "source": [
    "np.linalg.inv(matrix_tot/total_len)"
   ]
  },
  {
   "cell_type": "code",
   "execution_count": null,
   "metadata": {
    "collapsed": true
   },
   "outputs": [],
   "source": []
  },
  {
   "cell_type": "code",
   "execution_count": null,
   "metadata": {
    "collapsed": true
   },
   "outputs": [],
   "source": []
  },
  {
   "cell_type": "code",
   "execution_count": null,
   "metadata": {
    "collapsed": true
   },
   "outputs": [],
   "source": []
  },
  {
   "cell_type": "code",
   "execution_count": null,
   "metadata": {
    "collapsed": true
   },
   "outputs": [],
   "source": []
  },
  {
   "cell_type": "markdown",
   "metadata": {},
   "source": [
    "# Trying a better GSC implementation\n",
    "\n",
    "And crushing it, I might add (but I need to account for zero branch lengths)"
   ]
  },
  {
   "cell_type": "code",
   "execution_count": 114,
   "metadata": {
    "collapsed": true
   },
   "outputs": [],
   "source": [
    "from io import StringIO\n",
    "from collections import defaultdict\n",
    "\n",
    "import pandas as pd"
   ]
  },
  {
   "cell_type": "code",
   "execution_count": 115,
   "metadata": {
    "collapsed": false
   },
   "outputs": [],
   "source": [
    "# tree = Phylo.read(StringIO('(((A:20, B:20):30,C:50):30, D:80)'), 'newick', rooted=False)\n",
    "# tree = Phylo.read('../../Phylogenetic_couplings/scratch/current/testy.newick', 'newick')\n",
    "# tree = Phylo.read('../../Tree_rooting/Data/euk_trees/KOG0001.faa.aln.nwk.Rooted.MADAJH', 'newick')\n",
    "tree = Phylo.read('/Users/adamhockenberry/Downloads/BM_Folder/BM_Tree_Test.txt', 'newick')\n",
    "# tree = Phylo.read('/Users/adamhockenberry/Downloads/BM_Folder/paper_tree.txt', 'newick')\n",
    "tree.root_at_midpoint()"
   ]
  },
  {
   "cell_type": "code",
   "execution_count": 116,
   "metadata": {
    "collapsed": false
   },
   "outputs": [
    {
     "data": {
      "text/plain": [
       "[Clade(branch_length=0.46, name='zf'),\n",
       " Clade(branch_length=0.0, name='chim'),\n",
       " Clade(branch_length=0.0, name='hum'),\n",
       " Clade(branch_length=0.02, name='rat'),\n",
       " Clade(branch_length=0.02, name='mou'),\n",
       " Clade(branch_length=0.05, name='ele'),\n",
       " Clade(branch_length=0.05, name='arm'),\n",
       " Clade(branch_length=0.21, name='pla'),\n",
       " Clade(branch_length=0.19, name='ch'),\n",
       " Clade(branch_length=0.36, name='xen')]"
      ]
     },
     "execution_count": 116,
     "metadata": {},
     "output_type": "execute_result"
    }
   ],
   "source": [
    "tree.get_terminals()"
   ]
  },
  {
   "cell_type": "code",
   "execution_count": 117,
   "metadata": {
    "collapsed": false
   },
   "outputs": [
    {
     "data": {
      "image/png": "[encoded data removed]",
      "text/plain": [
       "<matplotlib.figure.Figure at 0x11b558c88>"
      ]
     },
     "metadata": {},
     "output_type": "display_data"
    }
   ],
   "source": [
    "Phylo.draw(tree)"
   ]
  },
  {
   "cell_type": "code",
   "execution_count": 193,
   "metadata": {
    "collapsed": false
   },
   "outputs": [],
   "source": [
    "all_depths_dict = tree.depths(unit_branch_lengths=True)\n",
    "all_depths_dict = {key: all_depths_dict[key] for key in tree.get_nonterminals()}\n",
    "all_depths_reverse_dict = defaultdict(list)\n",
    "for key, val in all_depths_dict.items():\n",
    "    all_depths_reverse_dict[val].append(key)\n",
    "\n",
    "max_depth = max(all_depths_reverse_dict.keys())\n",
    "ids, bls = zip(*[(clade.name, clade.branch_length) for clade in tree.get_terminals()])\n",
    "weights_df = pd.DataFrame(index=ids)\n",
    "weights_df[max_depth+1] = bls\n",
    "    \n",
    "for i in range(max_depth, 0, -1):\n",
    "    weights_df[i] = weights_df[i+1]\n",
    "    for clade in all_depths_reverse_dict[i]:\n",
    "        aterms = clade.clades[0].get_terminals()\n",
    "        bterms = clade.clades[1].get_terminals()\n",
    "        a = weights_df.loc[[term.name for term in aterms]][i]\n",
    "        b = weights_df.loc[[term.name for term in bterms]][i]\n",
    "        atot = np.sum(a)\n",
    "        btot = np.sum(b)\n",
    "        tot_weights = atot+btot\n",
    "        if tot_weights != 0:\n",
    "            afrac = (atot/tot_weights)/len(a)\n",
    "            bfrac = (btot/tot_weights)/len(b)\n",
    "        else:\n",
    "            afrac = 0.5/len(a)\n",
    "            bfrac = 0.5/len(b)\n",
    "        for term in aterms:\n",
    "            weights_df.set_value(term.name, i, weights_df.loc[term.name][i]+(clade.branch_length*afrac))\n",
    "        for term in bterms:\n",
    "            weights_df.set_value(term.name, i, weights_df.loc[term.name][i]+(clade.branch_length*bfrac))"
   ]
  },
  {
   "cell_type": "code",
   "execution_count": 200,
   "metadata": {
    "collapsed": false
   },
   "outputs": [
    {
     "data": {
      "text/html": [
       "<div>\n",
       "<style>\n",
       "    .dataframe thead tr:only-child th {\n",
       "        text-align: right;\n",
       "    }\n",
       "\n",
       "    .dataframe thead th {\n",
       "        text-align: left;\n",
       "    }\n",
       "\n",
       "    .dataframe tbody tr th {\n",
       "        vertical-align: top;\n",
       "    }\n",
       "</style>\n",
       "<table border=\"1\" class=\"dataframe\">\n",
       "  <thead>\n",
       "    <tr style=\"text-align: right;\">\n",
       "      <th></th>\n",
       "      <th>8</th>\n",
       "      <th>7</th>\n",
       "      <th>6</th>\n",
       "      <th>5</th>\n",
       "      <th>4</th>\n",
       "      <th>3</th>\n",
       "      <th>2</th>\n",
       "      <th>1</th>\n",
       "    </tr>\n",
       "  </thead>\n",
       "  <tbody>\n",
       "    <tr>\n",
       "      <th>zf</th>\n",
       "      <td>0.46</td>\n",
       "      <td>0.460</td>\n",
       "      <td>0.460</td>\n",
       "      <td>0.460000</td>\n",
       "      <td>0.460000</td>\n",
       "      <td>0.460000</td>\n",
       "      <td>0.460000</td>\n",
       "      <td>0.460000</td>\n",
       "    </tr>\n",
       "    <tr>\n",
       "      <th>chim</th>\n",
       "      <td>0.00</td>\n",
       "      <td>0.015</td>\n",
       "      <td>0.016</td>\n",
       "      <td>0.019810</td>\n",
       "      <td>0.031310</td>\n",
       "      <td>0.037560</td>\n",
       "      <td>0.041933</td>\n",
       "      <td>0.046324</td>\n",
       "    </tr>\n",
       "    <tr>\n",
       "      <th>hum</th>\n",
       "      <td>0.00</td>\n",
       "      <td>0.015</td>\n",
       "      <td>0.016</td>\n",
       "      <td>0.019810</td>\n",
       "      <td>0.031310</td>\n",
       "      <td>0.037560</td>\n",
       "      <td>0.041933</td>\n",
       "      <td>0.046324</td>\n",
       "    </tr>\n",
       "    <tr>\n",
       "      <th>rat</th>\n",
       "      <td>0.02</td>\n",
       "      <td>0.060</td>\n",
       "      <td>0.064</td>\n",
       "      <td>0.067810</td>\n",
       "      <td>0.079310</td>\n",
       "      <td>0.085560</td>\n",
       "      <td>0.089933</td>\n",
       "      <td>0.094324</td>\n",
       "    </tr>\n",
       "    <tr>\n",
       "      <th>mou</th>\n",
       "      <td>0.02</td>\n",
       "      <td>0.060</td>\n",
       "      <td>0.064</td>\n",
       "      <td>0.067810</td>\n",
       "      <td>0.079310</td>\n",
       "      <td>0.085560</td>\n",
       "      <td>0.089933</td>\n",
       "      <td>0.094324</td>\n",
       "    </tr>\n",
       "    <tr>\n",
       "      <th>ele</th>\n",
       "      <td>0.05</td>\n",
       "      <td>0.050</td>\n",
       "      <td>0.050</td>\n",
       "      <td>0.054762</td>\n",
       "      <td>0.066262</td>\n",
       "      <td>0.072512</td>\n",
       "      <td>0.076886</td>\n",
       "      <td>0.081276</td>\n",
       "    </tr>\n",
       "    <tr>\n",
       "      <th>arm</th>\n",
       "      <td>0.05</td>\n",
       "      <td>0.050</td>\n",
       "      <td>0.050</td>\n",
       "      <td>0.050000</td>\n",
       "      <td>0.062500</td>\n",
       "      <td>0.068750</td>\n",
       "      <td>0.073124</td>\n",
       "      <td>0.077514</td>\n",
       "    </tr>\n",
       "    <tr>\n",
       "      <th>pla</th>\n",
       "      <td>0.21</td>\n",
       "      <td>0.210</td>\n",
       "      <td>0.210</td>\n",
       "      <td>0.210000</td>\n",
       "      <td>0.210000</td>\n",
       "      <td>0.232500</td>\n",
       "      <td>0.236874</td>\n",
       "      <td>0.241264</td>\n",
       "    </tr>\n",
       "    <tr>\n",
       "      <th>ch</th>\n",
       "      <td>0.19</td>\n",
       "      <td>0.190</td>\n",
       "      <td>0.190</td>\n",
       "      <td>0.190000</td>\n",
       "      <td>0.190000</td>\n",
       "      <td>0.190000</td>\n",
       "      <td>0.199383</td>\n",
       "      <td>0.203773</td>\n",
       "    </tr>\n",
       "    <tr>\n",
       "      <th>xen</th>\n",
       "      <td>0.36</td>\n",
       "      <td>0.360</td>\n",
       "      <td>0.360</td>\n",
       "      <td>0.360000</td>\n",
       "      <td>0.360000</td>\n",
       "      <td>0.360000</td>\n",
       "      <td>0.360000</td>\n",
       "      <td>0.374876</td>\n",
       "    </tr>\n",
       "  </tbody>\n",
       "</table>\n",
       "</div>"
      ],
      "text/plain": [
       "         8      7      6         5         4         3         2         1\n",
       "zf    0.46  0.460  0.460  0.460000  0.460000  0.460000  0.460000  0.460000\n",
       "chim  0.00  0.015  0.016  0.019810  0.031310  0.037560  0.041933  0.046324\n",
       "hum   0.00  0.015  0.016  0.019810  0.031310  0.037560  0.041933  0.046324\n",
       "rat   0.02  0.060  0.064  0.067810  0.079310  0.085560  0.089933  0.094324\n",
       "mou   0.02  0.060  0.064  0.067810  0.079310  0.085560  0.089933  0.094324\n",
       "ele   0.05  0.050  0.050  0.054762  0.066262  0.072512  0.076886  0.081276\n",
       "arm   0.05  0.050  0.050  0.050000  0.062500  0.068750  0.073124  0.077514\n",
       "pla   0.21  0.210  0.210  0.210000  0.210000  0.232500  0.236874  0.241264\n",
       "ch    0.19  0.190  0.190  0.190000  0.190000  0.190000  0.199383  0.203773\n",
       "xen   0.36  0.360  0.360  0.360000  0.360000  0.360000  0.360000  0.374876"
      ]
     },
     "execution_count": 200,
     "metadata": {},
     "output_type": "execute_result"
    }
   ],
   "source": [
    "weights_df"
   ]
  },
  {
   "cell_type": "code",
   "execution_count": 201,
   "metadata": {
    "collapsed": true
   },
   "outputs": [],
   "source": [
    "testy_df = weights_df.loc[['xen', 'ch']]"
   ]
  },
  {
   "cell_type": "code",
   "execution_count": null,
   "metadata": {
    "collapsed": true
   },
   "outputs": [],
   "source": []
  },
  {
   "cell_type": "code",
   "execution_count": null,
   "metadata": {
    "collapsed": true
   },
   "outputs": [],
   "source": []
  },
  {
   "cell_type": "code",
   "execution_count": null,
   "metadata": {
    "collapsed": true
   },
   "outputs": [],
   "source": []
  },
  {
   "cell_type": "code",
   "execution_count": 197,
   "metadata": {
    "collapsed": true
   },
   "outputs": [],
   "source": [
    "import weighting_methods"
   ]
  },
  {
   "cell_type": "code",
   "execution_count": 198,
   "metadata": {
    "collapsed": false
   },
   "outputs": [
    {
     "data": {
      "text/plain": [
       "defaultdict(<function weighting_methods.GSC_adhock.<locals>.<lambda>>,\n",
       "            {Clade(branch_length=0.02, name='mou'): 0.094323917384523448,\n",
       "             Clade(branch_length=0.46, name='zf'): 0.46,\n",
       "             Clade(branch_length=0.02, name='rat'): 0.094323917384523448,\n",
       "             Clade(branch_length=0.05, name='arm'): 0.077514393574999646,\n",
       "             Clade(branch_length=0.0, name='hum'): 0.046323917384523447,\n",
       "             Clade(branch_length=0.19, name='ch'): 0.20377321191715131,\n",
       "             Clade(branch_length=0.05, name='ele'): 0.08127629833690439,\n",
       "             Clade(branch_length=0.0, name='chim'): 0.046323917384523447,\n",
       "             Clade(branch_length=0.36, name='xen'): 0.37487603305785122,\n",
       "             Clade(branch_length=0.21, name='pla'): 0.24126439357499962})"
      ]
     },
     "execution_count": 198,
     "metadata": {},
     "output_type": "execute_result"
    }
   ],
   "source": [
    "weighting_methods.GSC_adhock(tree)"
   ]
  },
  {
   "cell_type": "markdown",
   "metadata": {},
   "source": [
    "** Can normalize by setting mean equal to 1 **"
   ]
  },
  {
   "cell_type": "code",
   "execution_count": null,
   "metadata": {
    "collapsed": false
   },
   "outputs": [],
   "source": [
    "tot = np.sum(list(weights_dict.values()))\n",
    "entries = len(weights_dict.keys())\n",
    "for key, val in weights_dict.items():\n",
    "    weights_dict[key] = val/tot*entries\n",
    "weights_dict"
   ]
  },
  {
   "cell_type": "code",
   "execution_count": null,
   "metadata": {
    "collapsed": false
   },
   "outputs": [],
   "source": [
    "np.sum(list(weights_dict.values()))"
   ]
  },
  {
   "cell_type": "markdown",
   "metadata": {},
   "source": [
    "** Or setting the max to 1**"
   ]
  },
  {
   "cell_type": "code",
   "execution_count": null,
   "metadata": {
    "collapsed": false
   },
   "outputs": [],
   "source": [
    "max_val = np.max(list(weights_dict.values()))\n",
    "for key, val in weights_dict.items():\n",
    "    weights_dict[key] = val/max_val\n",
    "weights_dict"
   ]
  },
  {
   "cell_type": "code",
   "execution_count": null,
   "metadata": {
    "collapsed": false
   },
   "outputs": [],
   "source": [
    "np.sum(list(weights_dict.values()))"
   ]
  },
  {
   "cell_type": "code",
   "execution_count": null,
   "metadata": {
    "collapsed": true
   },
   "outputs": [],
   "source": []
  },
  {
   "cell_type": "code",
   "execution_count": null,
   "metadata": {
    "collapsed": true
   },
   "outputs": [],
   "source": []
  },
  {
   "cell_type": "code",
   "execution_count": null,
   "metadata": {
    "collapsed": true
   },
   "outputs": [],
   "source": []
  },
  {
   "cell_type": "markdown",
   "metadata": {},
   "source": [
    "# Center of mass root"
   ]
  },
  {
   "cell_type": "code",
   "execution_count": null,
   "metadata": {
    "collapsed": false
   },
   "outputs": [],
   "source": [
    "com_clade = False\n",
    "com_clade_score = 1\n",
    "tree_tot = tree.total_branch_length()\n",
    "for clade in tree.get_nonterminals():\n",
    "    print('####', clade)\n",
    "    if clade != tree.root:\n",
    "        clade_bl = clade.total_branch_length()-clade.branch_length\n",
    "    else:\n",
    "        clade_bl = clade.total_branch_length()\n",
    "    print(clade_bl)\n",
    "    print(tree_tot-clade_bl)\n",
    "    if np.abs(clade_bl/tree_tot) < com_clade_score:\n",
    "        com_clade = clade\n",
    "        com_clade_score = np.abs(0.5-(clade_bl/tree_tot))\n",
    "\n"
   ]
  },
  {
   "cell_type": "code",
   "execution_count": null,
   "metadata": {
    "collapsed": false
   },
   "outputs": [],
   "source": [
    "com_clade_score"
   ]
  },
  {
   "cell_type": "code",
   "execution_count": null,
   "metadata": {
    "collapsed": false
   },
   "outputs": [],
   "source": [
    "after = com_clade.total_branch_length()-com_clade.branch_length\n",
    "before = tree_tot - after\n",
    "print(before, after)"
   ]
  },
  {
   "cell_type": "code",
   "execution_count": null,
   "metadata": {
    "collapsed": false
   },
   "outputs": [],
   "source": [
    "com_clade.get_terminals()"
   ]
  },
  {
   "cell_type": "code",
   "execution_count": null,
   "metadata": {
    "collapsed": false
   },
   "outputs": [],
   "source": [
    "tree = Phylo.read('../scratch/current/testy.newick', 'newick', rooted=False)"
   ]
  },
  {
   "cell_type": "code",
   "execution_count": null,
   "metadata": {
    "collapsed": false
   },
   "outputs": [],
   "source": [
    "len(tree.get_terminals())"
   ]
  },
  {
   "cell_type": "code",
   "execution_count": null,
   "metadata": {
    "collapsed": false
   },
   "outputs": [],
   "source": [
    "len(tree.root.clades[0].get_terminals())"
   ]
  },
  {
   "cell_type": "code",
   "execution_count": null,
   "metadata": {
    "collapsed": false
   },
   "outputs": [],
   "source": [
    "len(tree.root.clades[1].get_terminals())"
   ]
  },
  {
   "cell_type": "code",
   "execution_count": null,
   "metadata": {
    "collapsed": false
   },
   "outputs": [],
   "source": [
    "len(tree.root.clades[2].get_terminals())"
   ]
  },
  {
   "cell_type": "code",
   "execution_count": null,
   "metadata": {
    "collapsed": false
   },
   "outputs": [],
   "source": [
    "tree.root_at_midpoint()\n",
    "print(len(tree.get_terminals()))"
   ]
  },
  {
   "cell_type": "code",
   "execution_count": null,
   "metadata": {
    "collapsed": false
   },
   "outputs": [],
   "source": [
    "len(tree.root.clades[0].get_terminals())"
   ]
  },
  {
   "cell_type": "code",
   "execution_count": null,
   "metadata": {
    "collapsed": false
   },
   "outputs": [],
   "source": [
    "len(tree.root.clades[1].get_terminals())"
   ]
  },
  {
   "cell_type": "code",
   "execution_count": null,
   "metadata": {
    "collapsed": false
   },
   "outputs": [],
   "source": [
    "for clade in tree.get_nonterminals():\n",
    "    if len(clade.clades) != 2:\n",
    "        print('wtf')"
   ]
  },
  {
   "cell_type": "code",
   "execution_count": null,
   "metadata": {
    "collapsed": true
   },
   "outputs": [],
   "source": []
  },
  {
   "cell_type": "code",
   "execution_count": null,
   "metadata": {
    "collapsed": true
   },
   "outputs": [],
   "source": []
  },
  {
   "cell_type": "code",
   "execution_count": null,
   "metadata": {
    "collapsed": true
   },
   "outputs": [],
   "source": []
  },
  {
   "cell_type": "code",
   "execution_count": null,
   "metadata": {
    "collapsed": true
   },
   "outputs": [],
   "source": [
    "tree = Phylo.read('../scratch/current/testy.newick', 'newick', rooted=False)\n",
    "tree.root_with_outgroup(tree.get_terminals()[0])"
   ]
  },
  {
   "cell_type": "code",
   "execution_count": null,
   "metadata": {
    "collapsed": false
   },
   "outputs": [],
   "source": [
    "depths = tree.depths()\n",
    "max_depth = max(list(depths.values()))\n",
    "clade1 = [i for i,j in depths.items() if j == max_depth]\n",
    "print(clade1)"
   ]
  },
  {
   "cell_type": "code",
   "execution_count": null,
   "metadata": {
    "collapsed": false
   },
   "outputs": [],
   "source": [
    "tree.root_with_outgroup(longest[0])\n",
    "depths = tree.depths()\n",
    "max_depth = max(list(depths.values()))\n",
    "clade2 = [i for i,j in depths.items() if j == max_depth]"
   ]
  },
  {
   "cell_type": "code",
   "execution_count": null,
   "metadata": {
    "collapsed": false
   },
   "outputs": [],
   "source": [
    "clade2"
   ]
  },
  {
   "cell_type": "code",
   "execution_count": null,
   "metadata": {
    "collapsed": true
   },
   "outputs": [],
   "source": [
    "tree = mp_from_clades(clade1, clade2, depths[clade2[0]], tree)"
   ]
  },
  {
   "cell_type": "code",
   "execution_count": null,
   "metadata": {
    "collapsed": true
   },
   "outputs": [],
   "source": []
  },
  {
   "cell_type": "code",
   "execution_count": null,
   "metadata": {
    "collapsed": true
   },
   "outputs": [],
   "source": []
  },
  {
   "cell_type": "code",
   "execution_count": null,
   "metadata": {
    "collapsed": true
   },
   "outputs": [],
   "source": []
  },
  {
   "cell_type": "markdown",
   "metadata": {},
   "source": [
    "# Testing"
   ]
  },
  {
   "cell_type": "code",
   "execution_count": 83,
   "metadata": {
    "collapsed": false
   },
   "outputs": [],
   "source": [
    "import weighting_methods\n",
    "from io import StringIO"
   ]
  },
  {
   "cell_type": "code",
   "execution_count": 101,
   "metadata": {
    "collapsed": false
   },
   "outputs": [
    {
     "data": {
      "image/png": "[encoded data removed]",
      "text/plain": [
       "<matplotlib.figure.Figure at 0x11b93cd68>"
      ]
     },
     "metadata": {},
     "output_type": "display_data"
    }
   ],
   "source": [
    "# tree = Phylo.read('/Users/adamhockenberry/Downloads/BM_Folder/paper_tree.txt', 'newick')\n",
    "tree = Phylo.read(StringIO('(((A:20, B:20):30,C:50):30, D:80)'), 'newick', rooted=False)\n",
    "Phylo.draw(tree)"
   ]
  },
  {
   "cell_type": "code",
   "execution_count": 102,
   "metadata": {
    "collapsed": true
   },
   "outputs": [],
   "source": [
    "weights_dict = weighting_methods.GSC_adhock(tree)"
   ]
  },
  {
   "cell_type": "code",
   "execution_count": 103,
   "metadata": {
    "collapsed": false
   },
   "outputs": [
    {
     "data": {
      "text/plain": [
       "dict_values([62.5, 43.75, 43.75, 80.0])"
      ]
     },
     "execution_count": 103,
     "metadata": {},
     "output_type": "execute_result"
    }
   ],
   "source": [
    "weights_dict.values()"
   ]
  },
  {
   "cell_type": "code",
   "execution_count": 104,
   "metadata": {
    "collapsed": false
   },
   "outputs": [
    {
     "data": {
      "image/png": "[encoded data removed]",
      "text/plain": [
       "<matplotlib.figure.Figure at 0x11b933710>"
      ]
     },
     "metadata": {},
     "output_type": "display_data"
    }
   ],
   "source": [
    "tree.root_with_outgroup(['A', 'B'], outgroup_branch_length=15)\n",
    "Phylo.draw(tree)"
   ]
  },
  {
   "cell_type": "code",
   "execution_count": 99,
   "metadata": {
    "collapsed": false
   },
   "outputs": [
    {
     "name": "stdout",
     "output_type": "stream",
     "text": [
      "4\n",
      "3\n",
      "2\n"
     ]
    }
   ],
   "source": [
    "for internal in tree.get_nonterminals():\n",
    "    print(len(internal.get_terminals()))"
   ]
  },
  {
   "cell_type": "code",
   "execution_count": null,
   "metadata": {
    "collapsed": true
   },
   "outputs": [],
   "source": []
  },
  {
   "cell_type": "code",
   "execution_count": null,
   "metadata": {
    "collapsed": true
   },
   "outputs": [],
   "source": []
  },
  {
   "cell_type": "code",
   "execution_count": null,
   "metadata": {
    "collapsed": true
   },
   "outputs": [],
   "source": []
  },
  {
   "cell_type": "code",
   "execution_count": null,
   "metadata": {
    "collapsed": true
   },
   "outputs": [],
   "source": []
  }
 ],
 "metadata": {
  "kernelspec": {
   "display_name": "Python 3",
   "language": "python",
   "name": "python3"
  },
  "language_info": {
   "codemirror_mode": {
    "name": "ipython",
    "version": 3
   },
   "file_extension": ".py",
   "mimetype": "text/x-python",
   "name": "python",
   "nbconvert_exporter": "python",
   "pygments_lexer": "ipython3",
   "version": "3.4.5"
  },
  "toc": {
   "colors": {
    "hover_highlight": "#DAA520",
    "navigate_num": "#000000",
    "navigate_text": "#333333",
    "running_highlight": "#FF0000",
    "selected_highlight": "#FFD700",
    "sidebar_border": "#EEEEEE",
    "wrapper_background": "#FFFFFF"
   },
   "moveMenuLeft": true,
   "nav_menu": {
    "height": "120px",
    "width": "252px"
   },
   "navigate_menu": true,
   "number_sections": true,
   "sideBar": true,
   "threshold": 4,
   "toc_cell": false,
   "toc_section_display": "block",
   "toc_window_display": false,
   "widenNotebook": false
  }
 },
 "nbformat": 4,
 "nbformat_minor": 2
}
