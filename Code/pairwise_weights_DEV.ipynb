{
 "cells": [
  {
   "cell_type": "code",
   "execution_count": 1,
   "metadata": {
    "collapsed": true
   },
   "outputs": [],
   "source": [
    "%matplotlib inline\n",
    "%load_ext autoreload\n",
    "%autoreload 2"
   ]
  },
  {
   "cell_type": "code",
   "execution_count": 16,
   "metadata": {
    "collapsed": false
   },
   "outputs": [],
   "source": [
    "from Bio import Phylo\n",
    "from io import StringIO\n",
    "import numpy as np\n",
    "\n",
    "import pandas as pd\n",
    "import itertools\n",
    "from matplotlib import pyplot as plt"
   ]
  },
  {
   "cell_type": "code",
   "execution_count": 3,
   "metadata": {
    "collapsed": true
   },
   "outputs": [],
   "source": [
    "import pairwise_weighting"
   ]
  },
  {
   "cell_type": "code",
   "execution_count": 4,
   "metadata": {
    "collapsed": false
   },
   "outputs": [],
   "source": [
    "tree = Phylo.read('/Users/adamhockenberry/Downloads/BM_Folder/paper_tree.txt', 'newick')\n",
    "# tree = Phylo.read('/Users/adamhockenberry/Projects/Tree_rooting/Data/OMA_group_data/eukaryotes/processed_OMA_trees/OMAGroup_489052.treefile.NoZeroTerms.Rooted.MADAJH', 'newick')\n",
    "# tree = Phylo.read(StringIO('(((A:20, B:20):30,C:50):30, D:80)'), 'newick', rooted=False)\n",
    "# tree = Phylo.read(StringIO('((A:25,B:25):25, C:50)'), 'newick', rooted=False)\n",
    "# tree = Phylo.read(StringIO('(((A:2, Aprime:2):23,B:25):25, C:50)'), 'newick', rooted=False)\n",
    "# tree = Phylo.read(StringIO('(((A:3, B:5):4,C:9):5, (D:7, E:3):15)'), 'newick', rooted=False)"
   ]
  },
  {
   "cell_type": "code",
   "execution_count": 5,
   "metadata": {
    "collapsed": false
   },
   "outputs": [
    {
     "data": {
      "image/png": "[encoded data removed]",
      "text/plain": [
       "<matplotlib.figure.Figure at 0x104114be0>"
      ]
     },
     "metadata": {},
     "output_type": "display_data"
    }
   ],
   "source": [
    "Phylo.draw(tree)"
   ]
  },
  {
   "cell_type": "code",
   "execution_count": null,
   "metadata": {
    "collapsed": false
   },
   "outputs": [],
   "source": [
    "# tree.root_with_outgroup(['A', 'B', 'C'], outgroup_branch_length=5)\n",
    "# tree.root.clades[0].branch_length = 15.\n",
    "# Phylo.draw(tree)"
   ]
  },
  {
   "cell_type": "code",
   "execution_count": null,
   "metadata": {
    "collapsed": false
   },
   "outputs": [],
   "source": [
    "# term_count = len(tree.get_terminals())\n",
    "# starting_matrix = np.zeros((term_count, term_count))\n",
    "# terms = [i.name for i in tree.get_terminals()]\n",
    "# tree.root.branch_length = 0.\n",
    "\n",
    "# starting_df = pd.DataFrame(starting_matrix, index=terms, columns=terms)\n",
    "# ending_df = recursive_TEST_df(tree.root, tree, starting_df)\n",
    "# tree.root.branch_length = None\n",
    "# ending_df"
   ]
  },
  {
   "cell_type": "code",
   "execution_count": 42,
   "metadata": {
    "collapsed": false
   },
   "outputs": [],
   "source": [
    "term_count = len(tree.get_terminals())\n",
    "starting_matrix_weighted = np.zeros((term_count, term_count))\n",
    "starting_matrix_raw = np.zeros((term_count, term_count))\n",
    "tree.root.branch_length = 0.\n",
    "term_pairs = enumerate(tree.get_terminals())\n",
    "term_pairs = [(pair[1], pair[0]) for pair in term_pairs]\n",
    "term_dict = dict(term_pairs)\n",
    "\n",
    "ending_matrix_weighted, ending_matrix_raw, finished\\\n",
    "        = pairwise_weighting.pairwise_distances_recursive(tree.root, tree,\\\n",
    "                                                          starting_matrix_weighted,\\\n",
    "                                                          starting_matrix_raw,\\\n",
    "                                                          term_dict, [])\n",
    "tree.root.branch_length = None"
   ]
  },
  {
   "cell_type": "code",
   "execution_count": 43,
   "metadata": {
    "collapsed": false
   },
   "outputs": [],
   "source": [
    "ending_matrix_normalized = np.divide(ending_matrix_weighted, ending_matrix_raw,\\\n",
    "                                     out=np.zeros_like(ending_matrix_weighted), where=ending_matrix_raw!=0)\n"
   ]
  },
  {
   "cell_type": "code",
   "execution_count": 44,
   "metadata": {
    "collapsed": false
   },
   "outputs": [
    {
     "data": {
      "text/plain": [
       "<matplotlib.colorbar.Colorbar at 0x11b998e80>"
      ]
     },
     "execution_count": 44,
     "metadata": {},
     "output_type": "execute_result"
    },
    {
     "data": {
      "image/png": "[encoded data removed]",
      "text/plain": [
       "<matplotlib.figure.Figure at 0x11ca71cc0>"
      ]
     },
     "metadata": {},
     "output_type": "display_data"
    }
   ],
   "source": [
    "fig, ax_arr = plt.subplots(ncols=3, nrows=1, figsize=(12,6))\n",
    "data = ax_arr[0].matshow(ending_matrix_raw)\n",
    "fig.colorbar(data, ax=ax_arr[0])\n",
    "data = ax_arr[1].matshow(ending_matrix_weighted)\n",
    "fig.colorbar(data, ax=ax_arr[1])\n",
    "data = ax_arr[2].matshow(matrix_normalized)\n",
    "fig.colorbar(data, ax=ax_arr[2])\n",
    "\n",
    "\n"
   ]
  },
  {
   "cell_type": "code",
   "execution_count": 45,
   "metadata": {
    "collapsed": false
   },
   "outputs": [
    {
     "data": {
      "text/plain": [
       "<matplotlib.collections.PathCollection at 0x11cacd160>"
      ]
     },
     "execution_count": 45,
     "metadata": {},
     "output_type": "execute_result"
    },
    {
     "data": {
      "image/png": "[encoded data removed]",
      "text/plain": [
       "<matplotlib.figure.Figure at 0x11cacd6d8>"
      ]
     },
     "metadata": {},
     "output_type": "display_data"
    }
   ],
   "source": [
    "fig, ax = plt.subplots()\n",
    "ax.scatter(ending_matrix_weighted.flatten(), ending_matrix_normalized.flatten())"
   ]
  },
  {
   "cell_type": "markdown",
   "metadata": {},
   "source": [
    "# A (slow) way to test the construction of the raw matrix at least"
   ]
  },
  {
   "cell_type": "code",
   "execution_count": 41,
   "metadata": {
    "collapsed": false
   },
   "outputs": [
    {
     "name": "stdout",
     "output_type": "stream",
     "text": [
      "PV22 PV22 0\n",
      "PV22 BH10 0.6\n",
      "PV22 BRU 0.9\n",
      "PV22 HXB 1.2\n",
      "PV22 SF2 6.199999999999999\n",
      "PV22 CDC 6.7\n",
      "PV22 WMJ2 6.5\n",
      "PV22 RF 8.2\n",
      "PV22 ELI 14.7\n",
      "PV22 MAL 14.5\n",
      "PV22 Z3 18.5\n",
      "BH10 PV22 0.6\n",
      "BH10 BH10 0\n",
      "BH10 BRU 0.9\n",
      "BH10 HXB 1.2\n",
      "BH10 SF2 6.199999999999999\n",
      "BH10 CDC 6.7\n",
      "BH10 WMJ2 6.5\n",
      "BH10 RF 8.2\n",
      "BH10 ELI 14.7\n",
      "BH10 MAL 14.5\n",
      "BH10 Z3 18.5\n",
      "BRU PV22 0.9\n",
      "BRU BH10 0.9\n",
      "BRU BRU 0\n",
      "BRU HXB 1.2999999999999998\n",
      "BRU SF2 6.3\n",
      "BRU CDC 6.800000000000001\n",
      "BRU WMJ2 6.6\n",
      "BRU RF 8.3\n",
      "BRU ELI 14.799999999999999\n",
      "BRU MAL 14.6\n",
      "BRU Z3 18.6\n",
      "HXB PV22 1.2\n",
      "HXB BH10 1.2\n",
      "HXB BRU 1.2999999999999998\n",
      "HXB HXB 0\n",
      "HXB SF2 6.3999999999999995\n",
      "HXB CDC 6.9\n",
      "HXB WMJ2 6.7\n",
      "HXB RF 8.399999999999999\n",
      "HXB ELI 14.899999999999999\n",
      "HXB MAL 14.7\n",
      "HXB Z3 18.700000000000003\n",
      "SF2 PV22 6.199999999999999\n",
      "SF2 BH10 6.199999999999999\n",
      "SF2 BRU 6.3\n",
      "SF2 HXB 6.3999999999999995\n",
      "SF2 SF2 0\n",
      "SF2 CDC 7.1\n",
      "SF2 WMJ2 6.9\n",
      "SF2 RF 8.6\n",
      "SF2 ELI 15.1\n",
      "SF2 MAL 14.9\n",
      "SF2 Z3 18.900000000000002\n",
      "CDC PV22 6.7\n",
      "CDC BH10 6.7\n",
      "CDC BRU 6.800000000000001\n",
      "CDC HXB 6.9\n",
      "CDC SF2 7.1\n",
      "CDC CDC 0\n",
      "CDC WMJ2 7.2\n",
      "CDC RF 8.9\n",
      "CDC ELI 15.399999999999999\n",
      "CDC MAL 15.2\n",
      "CDC Z3 19.200000000000003\n",
      "WMJ2 PV22 6.5\n",
      "WMJ2 BH10 6.5\n",
      "WMJ2 BRU 6.6\n",
      "WMJ2 HXB 6.7\n",
      "WMJ2 SF2 6.9\n",
      "WMJ2 CDC 7.2\n",
      "WMJ2 WMJ2 0\n",
      "WMJ2 RF 7.699999999999999\n",
      "WMJ2 ELI 14.2\n",
      "WMJ2 MAL 14.0\n",
      "WMJ2 Z3 18.0\n",
      "RF PV22 8.2\n",
      "RF BH10 8.2\n",
      "RF BRU 8.3\n",
      "RF HXB 8.399999999999999\n",
      "RF SF2 8.6\n",
      "RF CDC 8.9\n",
      "RF WMJ2 7.699999999999999\n",
      "RF RF 0\n",
      "RF ELI 15.1\n",
      "RF MAL 14.9\n",
      "RF Z3 18.900000000000002\n",
      "ELI PV22 14.7\n",
      "ELI BH10 14.7\n",
      "ELI BRU 14.799999999999999\n",
      "ELI HXB 14.899999999999999\n",
      "ELI SF2 15.1\n",
      "ELI CDC 15.399999999999999\n",
      "ELI WMJ2 14.2\n",
      "ELI RF 15.1\n",
      "ELI ELI 0\n",
      "ELI MAL 12.399999999999999\n",
      "ELI Z3 20.2\n",
      "MAL PV22 14.5\n",
      "MAL BH10 14.5\n",
      "MAL BRU 14.6\n",
      "MAL HXB 14.7\n",
      "MAL SF2 14.9\n",
      "MAL CDC 15.2\n",
      "MAL WMJ2 14.0\n",
      "MAL RF 14.9\n",
      "MAL ELI 12.399999999999999\n",
      "MAL MAL 0\n",
      "MAL Z3 20.0\n",
      "Z3 PV22 18.5\n",
      "Z3 BH10 18.5\n",
      "Z3 BRU 18.6\n",
      "Z3 HXB 18.700000000000003\n",
      "Z3 SF2 18.900000000000002\n",
      "Z3 CDC 19.200000000000003\n",
      "Z3 WMJ2 18.0\n",
      "Z3 RF 18.900000000000002\n",
      "Z3 ELI 20.2\n",
      "Z3 MAL 20.0\n",
      "Z3 Z3 0\n"
     ]
    },
    {
     "data": {
      "text/plain": [
       "False"
      ]
     },
     "execution_count": 41,
     "metadata": {},
     "output_type": "execute_result"
    }
   ],
   "source": [
    "listy = []\n",
    "for i in tree.get_terminals():\n",
    "    row = []\n",
    "    for j in tree.get_terminals():\n",
    "        row.append(tree.distance(i,j))\n",
    "        print(i.name, j.name, tree.distance(i,j))\n",
    "    listy.append(row)\n",
    "inefficient_matrix = np.array(listy)\n",
    "np.array_equal(ending_matrix_raw, inefficient_matrix)"
   ]
  },
  {
   "cell_type": "code",
   "execution_count": 11,
   "metadata": {
    "collapsed": false
   },
   "outputs": [
    {
     "name": "stdout",
     "output_type": "stream",
     "text": [
      "1.7763568394e-15\n"
     ]
    }
   ],
   "source": [
    "print(np.max(ending_matrix_raw-inefficient_matrix))"
   ]
  },
  {
   "cell_type": "code",
   "execution_count": null,
   "metadata": {
    "collapsed": false
   },
   "outputs": [],
   "source": []
  },
  {
   "cell_type": "code",
   "execution_count": null,
   "metadata": {
    "collapsed": true
   },
   "outputs": [],
   "source": []
  },
  {
   "cell_type": "code",
   "execution_count": null,
   "metadata": {
    "collapsed": true
   },
   "outputs": [],
   "source": []
  },
  {
   "cell_type": "code",
   "execution_count": null,
   "metadata": {
    "collapsed": true
   },
   "outputs": [],
   "source": []
  },
  {
   "cell_type": "code",
   "execution_count": null,
   "metadata": {
    "collapsed": true
   },
   "outputs": [],
   "source": []
  }
 ],
 "metadata": {
  "kernelspec": {
   "display_name": "Python 3",
   "language": "python",
   "name": "python3"
  },
  "language_info": {
   "codemirror_mode": {
    "name": "ipython",
    "version": 3
   },
   "file_extension": ".py",
   "mimetype": "text/x-python",
   "name": "python",
   "nbconvert_exporter": "python",
   "pygments_lexer": "ipython3",
   "version": "3.4.5"
  },
  "toc": {
   "colors": {
    "hover_highlight": "#DAA520",
    "navigate_num": "#000000",
    "navigate_text": "#333333",
    "running_highlight": "#FF0000",
    "selected_highlight": "#FFD700",
    "sidebar_border": "#EEEEEE",
    "wrapper_background": "#FFFFFF"
   },
   "moveMenuLeft": true,
   "nav_menu": {
    "height": "12px",
    "width": "252px"
   },
   "navigate_menu": true,
   "number_sections": true,
   "sideBar": true,
   "threshold": 4,
   "toc_cell": false,
   "toc_section_display": "block",
   "toc_window_display": false,
   "widenNotebook": false
  }
 },
 "nbformat": 4,
 "nbformat_minor": 2
}
