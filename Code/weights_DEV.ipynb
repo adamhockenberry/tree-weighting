{
 "cells": [
  {
   "cell_type": "code",
   "execution_count": 1,
   "metadata": {
    "collapsed": false
   },
   "outputs": [],
   "source": [
    "%matplotlib inline\n",
    "%load_ext autoreload\n",
    "%autoreload 2"
   ]
  },
  {
   "cell_type": "code",
   "execution_count": 2,
   "metadata": {
    "collapsed": true
   },
   "outputs": [],
   "source": [
    "from Bio import Phylo, SeqIO\n",
    "import numpy as np\n",
    "\n",
    "import random\n",
    "from matplotlib import pyplot as plt\n",
    "\n",
    "from io import StringIO\n",
    "from collections import defaultdict\n",
    "\n",
    "import pandas as pd\n",
    "from scipy.optimize import minimize\n",
    "from scipy import stats"
   ]
  },
  {
   "cell_type": "code",
   "execution_count": 3,
   "metadata": {
    "collapsed": false
   },
   "outputs": [],
   "source": [
    "import weighting_methods"
   ]
  },
  {
   "cell_type": "markdown",
   "metadata": {},
   "source": [
    "# Reading in and processing test-trees"
   ]
  },
  {
   "cell_type": "code",
   "execution_count": null,
   "metadata": {
    "collapsed": false
   },
   "outputs": [],
   "source": [
    "# tree = Phylo.read('../../Tree_rooting/Data/raw_OMA_trees/OMAGroup_479938.mafft.afa.treefile.Rooted.MPAJH', 'newick')\n",
    "tree = Phylo.read('/Users/adamhockenberry/Downloads/BM_Folder/paper_tree.txt', 'newick')\n",
    "# tree = Phylo.read(StringIO('(((A:20, B:20):30,C:50):30, D:80)'), 'newick', rooted=False)\n",
    "# tree = Phylo.read('../../Tree_rooting/Data/euk_trees/KOG0001.faa.aln.nwk.Rooted.MADAJH', 'newick')\n",
    "# tree = Phylo.read('../../Phylogenetic_couplings/Data/psicov150_aln_pdb/raw_trees/1a3aA.newick', 'newick')\n",
    "\n",
    "\n",
    "\n",
    "\n",
    "print(len(tree.get_terminals()))\n",
    "# tree = trim_zero_bls(tree)\n",
    "# tree.root_at_midpoint()\n",
    "# print(len(tree.get_terminals()))\n",
    "# initial_order = tree.get_terminals()\n",
    "# dicty = {}\n",
    "# for i,j in enumerate(initial_order):\n",
    "#     dicty[j.name] = i"
   ]
  },
  {
   "cell_type": "code",
   "execution_count": null,
   "metadata": {
    "collapsed": false
   },
   "outputs": [],
   "source": [
    "tree.get_terminals()"
   ]
  },
  {
   "cell_type": "code",
   "execution_count": null,
   "metadata": {
    "collapsed": false
   },
   "outputs": [],
   "source": [
    "if len(tree.get_terminals()) < 100:\n",
    "    Phylo.draw(tree)"
   ]
  },
  {
   "cell_type": "markdown",
   "metadata": {},
   "source": [
    "# Using root, get basic variance-covariance method ala Felsenstein\n",
    "\n",
    "So this is the basic method proposed in Altschull et al (ACL) and it works in my implementation (assuming no zero branch lengths)"
   ]
  },
  {
   "cell_type": "code",
   "execution_count": null,
   "metadata": {
    "collapsed": false
   },
   "outputs": [],
   "source": [
    "tree.root_at_midpoint()\n",
    "weights_dict_acl, rooted_tree = weighting_methods.ACL_adhock(tree)"
   ]
  },
  {
   "cell_type": "code",
   "execution_count": null,
   "metadata": {
    "collapsed": false
   },
   "outputs": [],
   "source": [
    "np.sum(list(weights_dict_acl.values()))"
   ]
  },
  {
   "cell_type": "markdown",
   "metadata": {},
   "source": [
    "# Stone and Sidow proposed \"Branch_Manager\" which I at one point implemented and subsequently deleted. Their code works and at the moment I don't see the point.\n",
    "\n",
    "I, of course, deleted solely because I've gotten a much better grasp on these methods so if I decide to re-write don't want to even deal with the previous monstrosity that surely existed below"
   ]
  },
  {
   "cell_type": "code",
   "execution_count": null,
   "metadata": {
    "collapsed": true
   },
   "outputs": [],
   "source": []
  },
  {
   "cell_type": "markdown",
   "metadata": {},
   "source": [
    "# GSC implementation!\n",
    "\n",
    "There are a few free parameter choices that I haven't fully settled on so as of now GSC methods are really a cluster of related methods all producing slightly different outputs.\n",
    "\n",
    "Of note, GSC values are highly dependent on the location of the tree root."
   ]
  },
  {
   "cell_type": "code",
   "execution_count": null,
   "metadata": {
    "collapsed": false
   },
   "outputs": [],
   "source": [
    "weights_dict = weighting_methods.GSC_adhock(tree)\n",
    "normed_weights_dict = weighting_methods.normalize_GSC_weights(weights_dict, tree)\n",
    "print(np.sum([i[-1] for i in weights_dict.values()]), tree.total_branch_length())\n",
    "print(np.sum([i[-1] for i in normed_weights_dict.values()]), tree.total_branch_length())"
   ]
  },
  {
   "cell_type": "code",
   "execution_count": null,
   "metadata": {
    "collapsed": true
   },
   "outputs": [],
   "source": []
  },
  {
   "cell_type": "code",
   "execution_count": null,
   "metadata": {
    "collapsed": false
   },
   "outputs": [],
   "source": [
    "weights_dict_v2 = weighting_methods.GSC_adhock_modified(tree)\n",
    "normed_weights_dict_v2 = weighting_methods.normalize_GSC_weights(weights_dict_v2, tree)\n",
    "\n",
    "print(np.sum([i[-1] for i in weights_dict_v2.values()]), tree.total_branch_length())\n",
    "print(np.sum([i[-1] for i in normed_weights_dict_v2.values()]), tree.total_branch_length())"
   ]
  },
  {
   "cell_type": "code",
   "execution_count": null,
   "metadata": {
    "collapsed": false
   },
   "outputs": [],
   "source": [
    "a = [i[-1] for i in weights_dict.values()]\n",
    "b = [i[-1] for i in normed_weights_dict.values()]\n",
    "c = [i[-1] for i in weights_dict_v2.values()]\n",
    "d = [i[-1] for i in normed_weights_dict_v2.values()]\n",
    "e = [i for i in weights_dict_acl.values()]\n",
    "\n",
    "a = np.array(a)/np.mean(a)\n",
    "b = np.array(b)/np.mean(b)\n",
    "c = np.array(c)/np.mean(c)\n",
    "d = np.array(d)/np.mean(d)\n",
    "e = np.array(e)/np.mean(e)"
   ]
  },
  {
   "cell_type": "code",
   "execution_count": null,
   "metadata": {
    "collapsed": false
   },
   "outputs": [],
   "source": [
    "fig, ax_arr = plt.subplots(ncols=2, nrows=1)\n",
    "ax_arr[0].hist(a)\n",
    "ax_arr[0].hist(b)\n",
    "ax_arr[1].hist(c)\n",
    "ax_arr[1].hist(d)"
   ]
  },
  {
   "cell_type": "code",
   "execution_count": null,
   "metadata": {
    "collapsed": false
   },
   "outputs": [],
   "source": [
    "np.std(a), np.std(b), np.std(c), np.std(d), np.std(e)"
   ]
  },
  {
   "cell_type": "code",
   "execution_count": null,
   "metadata": {
    "collapsed": false
   },
   "outputs": [],
   "source": []
  },
  {
   "cell_type": "code",
   "execution_count": null,
   "metadata": {
    "collapsed": true
   },
   "outputs": [],
   "source": []
  },
  {
   "cell_type": "code",
   "execution_count": null,
   "metadata": {
    "collapsed": true
   },
   "outputs": [],
   "source": []
  },
  {
   "cell_type": "markdown",
   "metadata": {},
   "source": [
    "# Scratch"
   ]
  },
  {
   "cell_type": "code",
   "execution_count": null,
   "metadata": {
    "collapsed": false
   },
   "outputs": [],
   "source": [
    "for term_a in tree.get_terminals():\n",
    "    for term_b in tree.get_terminals():\n",
    "        print(term_a.name, term_b.name, (weights_dict_v2[term_a][-1]*weights_dict_v2[term_b][-1])/\\\n",
    "        (2*np.sqrt(weights_dict_v2[term_a][-1]*weights_dict_v2[term_b][-1])))"
   ]
  },
  {
   "cell_type": "code",
   "execution_count": null,
   "metadata": {
    "collapsed": true
   },
   "outputs": [],
   "source": []
  },
  {
   "cell_type": "code",
   "execution_count": null,
   "metadata": {
    "collapsed": true
   },
   "outputs": [],
   "source": []
  },
  {
   "cell_type": "code",
   "execution_count": null,
   "metadata": {
    "collapsed": true
   },
   "outputs": [],
   "source": []
  },
  {
   "cell_type": "code",
   "execution_count": null,
   "metadata": {
    "collapsed": true
   },
   "outputs": [],
   "source": []
  },
  {
   "cell_type": "code",
   "execution_count": null,
   "metadata": {
    "collapsed": true
   },
   "outputs": [],
   "source": []
  },
  {
   "cell_type": "markdown",
   "metadata": {},
   "source": [
    "# Henikoff weights"
   ]
  },
  {
   "cell_type": "code",
   "execution_count": null,
   "metadata": {
    "collapsed": true
   },
   "outputs": [],
   "source": [
    "from Bio import SeqIO\n",
    "from collections import Counter\n",
    "from scipy import stats"
   ]
  },
  {
   "cell_type": "code",
   "execution_count": null,
   "metadata": {
    "collapsed": false
   },
   "outputs": [],
   "source": [
    "# records = list(SeqIO.parse('../../Tree_rooting/Data/Tria_et_al_data/'\n",
    "#                            'eukaryotes/ingroup/aln/KOG0018.faa.aln', 'fasta'))\n",
    "# tree = Phylo.read('../../Tree_rooting/Data/Tria_et_al_data/'\n",
    "#                   'eukaryotes/processed_trees/KOG0018.faa.aln.nwk.Rooted.MADAJH', 'newick')\n",
    "\n",
    "records = list(SeqIO.parse('../../Tree_rooting/Data/OMA_group_data/eukaryotes/aligned_OMA_groups/'\n",
    "                           'OMAGroup_833097.mafft.afa', 'fasta'))\n",
    "tree = Phylo.read('../../Tree_rooting/Data/OMA_group_data/eukaryotes/processed_OMA_trees/'\n",
    "                           'OMAGroup_833097.treefile.Rooted.MADAJH', 'newick')"
   ]
  },
  {
   "cell_type": "code",
   "execution_count": null,
   "metadata": {
    "collapsed": false
   },
   "outputs": [],
   "source": [
    "print(len(records))\n",
    "seqs = np.array([list(record.seq) for record in records])\n",
    "print(seqs.shape)\n",
    "seqs_T = seqs.T\n",
    "print(seqs_T.shape)"
   ]
  },
  {
   "cell_type": "code",
   "execution_count": null,
   "metadata": {
    "collapsed": true
   },
   "outputs": [],
   "source": [
    "# seqs = np.array([list('GYVGS'),\n",
    "#                  list('GFDGF'),\n",
    "#                  list('GYDGF'),\n",
    "#                  list('GYQGG')])\n",
    "# seqs_T = seqs.T"
   ]
  },
  {
   "cell_type": "code",
   "execution_count": null,
   "metadata": {
    "collapsed": false
   },
   "outputs": [],
   "source": [
    "weights_T = []\n",
    "all_weights = []\n",
    "for i in seqs_T[:]:\n",
    "    counter_dict = Counter(i)\n",
    "    del counter_dict['-']\n",
    "    r = len(counter_dict.keys())\n",
    "    positions = np.sum(list(counter_dict.values()))\n",
    "    weights_dict = {}\n",
    "    for key, val in counter_dict.items():\n",
    "    ####Adjust (or don't) according to the percentage of gaps in the sequence\n",
    "        weights_dict[key] = 1./(r*val)\n",
    "    temp_array = np.zeros(i.shape)\n",
    "    for key, val in weights_dict.items():\n",
    "        np.place(temp_array, i==key, [val])\n",
    "    temp_array = temp_array * (positions/seqs_T.shape[1])\n",
    "    weights_T.append(temp_array)\n",
    "weights_T = np.array(weights_T)\n",
    "all_weights = weights_T.T\n",
    "all_weights = np.sum(all_weights, axis=1)"
   ]
  },
  {
   "cell_type": "code",
   "execution_count": null,
   "metadata": {
    "collapsed": false
   },
   "outputs": [],
   "source": [
    "all_weights = all_weights/np.mean(all_weights)\n",
    "print(np.sum(all_weights))"
   ]
  },
  {
   "cell_type": "code",
   "execution_count": null,
   "metadata": {
    "collapsed": false
   },
   "outputs": [],
   "source": [
    "# all_weights = np.sum(all_weights, axis=1)"
   ]
  },
  {
   "cell_type": "code",
   "execution_count": null,
   "metadata": {
    "collapsed": false
   },
   "outputs": [],
   "source": [
    "# all_weights = all_weights_T.T\n",
    "# all_weights = np.sum(all_weights, axis=1)"
   ]
  },
  {
   "cell_type": "code",
   "execution_count": null,
   "metadata": {
    "collapsed": false
   },
   "outputs": [],
   "source": [
    "all_weights"
   ]
  },
  {
   "cell_type": "code",
   "execution_count": null,
   "metadata": {
    "collapsed": false
   },
   "outputs": [],
   "source": [
    "weights_dict = weighting_methods.GSC_adhock(tree)\n",
    "normed_weights_dict = weighting_methods.normalize_GSC_weights(weights_dict, tree)\n",
    "# acl_dict, x = weighting_methods.ACL_adhock(tree)"
   ]
  },
  {
   "cell_type": "code",
   "execution_count": null,
   "metadata": {
    "collapsed": false
   },
   "outputs": [],
   "source": [
    "a = []\n",
    "b = []\n",
    "c = []\n",
    "# d = []\n",
    "for i, record in enumerate(records):\n",
    "#     if tree.find_any(record.id) not in acl_dict.keys():\n",
    "#         continue\n",
    "    a.append(all_weights[i])\n",
    "    b.append(weights_dict[tree.find_any(record.id)][-1])\n",
    "    c.append(normed_weights_dict[tree.find_any(record.id)][-1])\n",
    "#     d.append(acl_dict[tree.find_any(record.id)])\n",
    "\n",
    "\n",
    "a = np.array(a)/np.mean(a)\n",
    "b = np.array(b)/np.mean(b)\n",
    "c = np.array(c)/np.mean(c)\n",
    "# d = np.array(d)/np.mean(d)"
   ]
  },
  {
   "cell_type": "code",
   "execution_count": null,
   "metadata": {
    "collapsed": false
   },
   "outputs": [],
   "source": [
    "fig, ax_arr = plt.subplots(ncols=3, figsize=(16,3))\n",
    "ax_arr[0].plot(a,b, 'bo')\n",
    "ax_arr[1].plot(a,c, 'bo')\n",
    "ax_arr[2].plot(b,c, 'bo')"
   ]
  },
  {
   "cell_type": "code",
   "execution_count": null,
   "metadata": {
    "collapsed": false
   },
   "outputs": [],
   "source": [
    "print(stats.spearmanr(a,b),'\\n',stats.spearmanr(a,c),'\\n',stats.spearmanr(b,c))"
   ]
  },
  {
   "cell_type": "code",
   "execution_count": null,
   "metadata": {
    "collapsed": false
   },
   "outputs": [],
   "source": [
    "# print(stats.spearmanr(a,d),'\\n',stats.spearmanr(b,d),'\\n',stats.spearmanr(c,d))"
   ]
  },
  {
   "cell_type": "code",
   "execution_count": null,
   "metadata": {
    "collapsed": false
   },
   "outputs": [],
   "source": [
    "fig, ax_arr = plt.subplots(nrows=2, ncols=2, figsize=(12,8))\n",
    "ax_arr[0,0].hist(a,normed=True)\n",
    "ax_arr[0,1].hist(b, normed=True)\n",
    "ax_arr[1,0].hist(c, normed=True)\n",
    "ax_arr[1,1].hist(d, normed=True)"
   ]
  },
  {
   "cell_type": "code",
   "execution_count": null,
   "metadata": {
    "collapsed": true
   },
   "outputs": [],
   "source": []
  },
  {
   "cell_type": "markdown",
   "metadata": {},
   "source": [
    "# Krogh and Mitchison max-ent"
   ]
  },
  {
   "cell_type": "code",
   "execution_count": 22,
   "metadata": {
    "collapsed": false
   },
   "outputs": [],
   "source": [
    "# records = list(SeqIO.parse('../../Tree_rooting/Data/Tria_et_al_data/'\n",
    "#                            'eukaryotes/ingroup/aln/KOG0018.faa.aln', 'fasta'))\n",
    "# tree = Phylo.read('../../Tree_rooting/Data/Tria_et_al_data/'\n",
    "#                   'eukaryotes/processed_trees/KOG0018.faa.aln.nwk.Rooted.MADAJH', 'newick')\n",
    "\n",
    "# records = list(SeqIO.parse('../../Tree_rooting/Data/OMA_group_data/eukaryotes/aligned_OMA_groups/'\n",
    "#                            'OMAGroup_833097.mafft.afa', 'fasta'))\n",
    "# tree = Phylo.read('../../Tree_rooting/Data/OMA_group_data/eukaryotes/processed_OMA_trees/'\n",
    "#                            'OMAGroup_833097.treefile.Rooted.MADAJH', 'newick')\n",
    "\n",
    "records = list(SeqIO.parse('../../Phylogenetic_couplings/Data/psicov150_aln_pdb/'\n",
    "                           'aln_fasta_max1k/1aoeA.fasta', 'fasta'))\n",
    "tree = Phylo.read('../../Phylogenetic_couplings/Data/psicov150_aln_pdb/'\n",
    "                  'mp_root_trees/1aoeA.newick', 'newick')"
   ]
  },
  {
   "cell_type": "code",
   "execution_count": 23,
   "metadata": {
    "collapsed": false
   },
   "outputs": [
    {
     "name": "stdout",
     "output_type": "stream",
     "text": [
      "1001\n",
      "(1001, 192)\n",
      "(192, 1001)\n"
     ]
    }
   ],
   "source": [
    "print(len(records))\n",
    "seqs = np.array([list(record.seq) for record in records])\n",
    "print(seqs.shape)\n",
    "seqs_T = seqs.T\n",
    "print(seqs_T.shape)"
   ]
  },
  {
   "cell_type": "code",
   "execution_count": 24,
   "metadata": {
    "collapsed": false
   },
   "outputs": [
    {
     "name": "stdout",
     "output_type": "stream",
     "text": [
      "(192192,)\n",
      "(1001,)\n",
      "(192, 1001)\n"
     ]
    }
   ],
   "source": [
    "initial_shape = seqs_T.shape\n",
    "flat_seqs = seqs_T.flatten()\n",
    "order, flat_array = np.unique(flat_seqs, return_inverse=True)\n",
    "assert order[0] == '-'\n",
    "print(flat_array.shape)\n",
    "replaced_seqs_T = flat_array.reshape(initial_shape)\n",
    "initial_weights = np.full(replaced_seqs_T[0].shape, fill_value=1./replaced_seqs_T[0].shape[0])\n",
    "print(initial_weights.shape)\n",
    "print(replaced_seqs_T.shape)"
   ]
  },
  {
   "cell_type": "code",
   "execution_count": 25,
   "metadata": {
    "collapsed": true
   },
   "outputs": [],
   "source": [
    "def total_ent_fxn(weights, seqs):\n",
    "    bin_counts = np.apply_along_axis(lambda x: np.bincount(x, weights=weights, minlength=22),\\\n",
    "                                     axis=1, arr=seqs)\n",
    "    all_ents = stats.entropy(bin_counts.T)\n",
    "    return -1*np.sum(all_ents)\n",
    "\n",
    "def total_ent_fxn_weighted(weights, seqs):\n",
    "    bin_counts = np.apply_along_axis(lambda x: np.bincount(x, weights=weights, minlength=22),\\\n",
    "                                     axis=1, arr=seqs)\n",
    "    trunc_bin_counts = bin_counts[:,1:]\n",
    "    ungapped_frac = np.sum(trunc_bin_counts, axis=1)/np.sum(bin_counts, axis=1)\n",
    "    all_ents = stats.entropy(trunc_bin_counts.T)\n",
    "    scaled_ents = all_ents*ungapped_frac\n",
    "    return -1*np.sum(scaled_ents)\n",
    "\n",
    "def total_ent_fxn_sim_ann(weights, seqs):\n",
    "    scaled_weights = weights/np.sum(weights)\n",
    "    bin_counts = np.apply_along_axis(lambda x: np.bincount(x, weights=weights, minlength=22),\\\n",
    "                                     axis=1, arr=seqs)\n",
    "    all_ents = stats.entropy(bin_counts.T)\n",
    "    return -1*np.sum(all_ents)"
   ]
  },
  {
   "cell_type": "code",
   "execution_count": 26,
   "metadata": {
    "collapsed": false
   },
   "outputs": [
    {
     "ename": "KeyboardInterrupt",
     "evalue": "",
     "output_type": "error",
     "traceback": [
      "\u001b[0;31m---------------------------------------------------------------------------\u001b[0m",
      "\u001b[0;31mKeyboardInterrupt\u001b[0m                         Traceback (most recent call last)",
      "\u001b[0;32m<ipython-input-26-1c959c2634b8>\u001b[0m in \u001b[0;36m<module>\u001b[0;34m()\u001b[0m\n\u001b[1;32m      9\u001b[0m \u001b[0;31m# res = minimize(total_ent_fxn, initial_weights, args=(replaced_seqs_T),\\\u001b[0m\u001b[0;34m\u001b[0m\u001b[0;34m\u001b[0m\u001b[0m\n\u001b[1;32m     10\u001b[0m \u001b[0;31m#                method='SLSQP', bounds=bnds, constraints=cons, options=options)\u001b[0m\u001b[0;34m\u001b[0m\u001b[0;34m\u001b[0m\u001b[0m\n\u001b[0;32m---> 11\u001b[0;31m \u001b[0mres_gap\u001b[0m \u001b[0;34m=\u001b[0m \u001b[0mminimize\u001b[0m\u001b[0;34m(\u001b[0m\u001b[0mtotal_ent_fxn_weighted\u001b[0m\u001b[0;34m,\u001b[0m \u001b[0minitial_weights\u001b[0m\u001b[0;34m,\u001b[0m \u001b[0margs\u001b[0m\u001b[0;34m=\u001b[0m\u001b[0;34m(\u001b[0m\u001b[0mreplaced_seqs_T\u001b[0m\u001b[0;34m)\u001b[0m\u001b[0;34m,\u001b[0m               \u001b[0mmethod\u001b[0m\u001b[0;34m=\u001b[0m\u001b[0;34m'SLSQP'\u001b[0m\u001b[0;34m,\u001b[0m \u001b[0mbounds\u001b[0m\u001b[0;34m=\u001b[0m\u001b[0mbnds\u001b[0m\u001b[0;34m,\u001b[0m \u001b[0mconstraints\u001b[0m\u001b[0;34m=\u001b[0m\u001b[0mcons\u001b[0m\u001b[0;34m,\u001b[0m \u001b[0moptions\u001b[0m\u001b[0;34m=\u001b[0m\u001b[0moptions\u001b[0m\u001b[0;34m)\u001b[0m\u001b[0;34m\u001b[0m\u001b[0m\n\u001b[0m\u001b[1;32m     12\u001b[0m \u001b[0;31m# res_sim_ann = basinhopping(total_ent_fxn_sim_ann, initial_weights,\\\u001b[0m\u001b[0;34m\u001b[0m\u001b[0;34m\u001b[0m\u001b[0m\n\u001b[1;32m     13\u001b[0m \u001b[0;31m#                            minimizer_kwargs={\"method\": \"BFGS\", \"args\": replaced_seqs_T,\\\u001b[0m\u001b[0;34m\u001b[0m\u001b[0;34m\u001b[0m\u001b[0m\n",
      "\u001b[0;32m/Users/adamhockenberry/.pyenv/versions/anaconda3-2.0.1/lib/python3.4/site-packages/scipy/optimize/_minimize.py\u001b[0m in \u001b[0;36mminimize\u001b[0;34m(fun, x0, args, method, jac, hess, hessp, bounds, constraints, tol, callback, options)\u001b[0m\n\u001b[1;32m    456\u001b[0m     \u001b[0;32melif\u001b[0m \u001b[0mmeth\u001b[0m \u001b[0;34m==\u001b[0m \u001b[0;34m'slsqp'\u001b[0m\u001b[0;34m:\u001b[0m\u001b[0;34m\u001b[0m\u001b[0m\n\u001b[1;32m    457\u001b[0m         return _minimize_slsqp(fun, x0, args, jac, bounds,\n\u001b[0;32m--> 458\u001b[0;31m                                constraints, callback=callback, **options)\n\u001b[0m\u001b[1;32m    459\u001b[0m     \u001b[0;32melif\u001b[0m \u001b[0mmeth\u001b[0m \u001b[0;34m==\u001b[0m \u001b[0;34m'dogleg'\u001b[0m\u001b[0;34m:\u001b[0m\u001b[0;34m\u001b[0m\u001b[0m\n\u001b[1;32m    460\u001b[0m         return _minimize_dogleg(fun, x0, args, jac, hess,\n",
      "\u001b[0;32m/Users/adamhockenberry/.pyenv/versions/anaconda3-2.0.1/lib/python3.4/site-packages/scipy/optimize/slsqp.py\u001b[0m in \u001b[0;36m_minimize_slsqp\u001b[0;34m(func, x0, args, jac, bounds, constraints, maxiter, ftol, iprint, disp, eps, callback, **unknown_options)\u001b[0m\n\u001b[1;32m    408\u001b[0m \u001b[0;34m\u001b[0m\u001b[0m\n\u001b[1;32m    409\u001b[0m         \u001b[0;31m# Call SLSQP\u001b[0m\u001b[0;34m\u001b[0m\u001b[0;34m\u001b[0m\u001b[0m\n\u001b[0;32m--> 410\u001b[0;31m         \u001b[0mslsqp\u001b[0m\u001b[0;34m(\u001b[0m\u001b[0mm\u001b[0m\u001b[0;34m,\u001b[0m \u001b[0mmeq\u001b[0m\u001b[0;34m,\u001b[0m \u001b[0mx\u001b[0m\u001b[0;34m,\u001b[0m \u001b[0mxl\u001b[0m\u001b[0;34m,\u001b[0m \u001b[0mxu\u001b[0m\u001b[0;34m,\u001b[0m \u001b[0mfx\u001b[0m\u001b[0;34m,\u001b[0m \u001b[0mc\u001b[0m\u001b[0;34m,\u001b[0m \u001b[0mg\u001b[0m\u001b[0;34m,\u001b[0m \u001b[0ma\u001b[0m\u001b[0;34m,\u001b[0m \u001b[0macc\u001b[0m\u001b[0;34m,\u001b[0m \u001b[0mmajiter\u001b[0m\u001b[0;34m,\u001b[0m \u001b[0mmode\u001b[0m\u001b[0;34m,\u001b[0m \u001b[0mw\u001b[0m\u001b[0;34m,\u001b[0m \u001b[0mjw\u001b[0m\u001b[0;34m)\u001b[0m\u001b[0;34m\u001b[0m\u001b[0m\n\u001b[0m\u001b[1;32m    411\u001b[0m \u001b[0;34m\u001b[0m\u001b[0m\n\u001b[1;32m    412\u001b[0m         \u001b[0;31m# call callback if major iteration has incremented\u001b[0m\u001b[0;34m\u001b[0m\u001b[0;34m\u001b[0m\u001b[0m\n",
      "\u001b[0;31mKeyboardInterrupt\u001b[0m: "
     ]
    }
   ],
   "source": [
    "#Says the sum of all variables must be zero\n",
    "cons = ({'type': 'eq', 'fun': lambda x: 1- np.sum(x)})\n",
    "options = {'maxiter':500}\n",
    "\n",
    "\n",
    "#Required to have non negative values\n",
    "bnds = tuple((10e-16,1) for x in initial_weights)\n",
    "\n",
    "# res = minimize(total_ent_fxn, initial_weights, args=(replaced_seqs_T),\\\n",
    "#                method='SLSQP', bounds=bnds, constraints=cons, options=options)\n",
    "res_gap = minimize(total_ent_fxn_weighted, initial_weights, args=(replaced_seqs_T),\\\n",
    "               method='SLSQP', bounds=bnds, constraints=cons, options=options)\n",
    "# res_sim_ann = basinhopping(total_ent_fxn_sim_ann, initial_weights,\\\n",
    "#                            minimizer_kwargs={\"method\": \"BFGS\", \"args\": replaced_seqs_T,\\\n",
    "#                                             \"options\": options})"
   ]
  },
  {
   "cell_type": "code",
   "execution_count": null,
   "metadata": {
    "collapsed": false
   },
   "outputs": [],
   "source": [
    "# res"
   ]
  },
  {
   "cell_type": "code",
   "execution_count": 21,
   "metadata": {
    "collapsed": false
   },
   "outputs": [
    {
     "data": {
      "text/plain": [
       "     fun: -442.10777414453412\n",
       "     jac: array([ -1.95770264e-01,   5.54733276e-02,   1.27608173e+02,\n",
       "         1.21872726e+02,   6.98719025e-01,   1.59759521e-01,\n",
       "         2.80754089e-01,  -1.21595764e+00,   1.33144379e-01,\n",
       "         2.37503052e-02,   4.17175293e-02,   4.17175293e-02,\n",
       "         1.22925690e+02,  -1.44851685e-01,  -1.10549927e-02,\n",
       "         1.06410557e+02,   7.32574463e-02,   1.31498299e+01,\n",
       "         3.55987549e-02,  -2.00576782e-02,  -2.00576782e-02,\n",
       "        -2.59433746e-01,  -1.69982910e-02,   1.26800537e-02,\n",
       "         1.53161362e+02,   4.44335938e-02,   1.51036659e+02,\n",
       "        -1.00656891e+00,  -1.00656891e+00,   1.25006897e+02,\n",
       "         1.14222603e+02,   1.32890175e+02,   6.40736389e+00,\n",
       "         2.71141815e+00,   2.77608490e+00,  -1.81327820e-01,\n",
       "         1.24501423e+02,   4.69078064e-01,  -3.23638916e-02,\n",
       "         5.44204712e-02,   1.39325714e+00,  -2.22320557e-02,\n",
       "         7.88116455e-03,   2.51125832e+01,   2.60517578e+01,\n",
       "         1.42142258e+01,   1.72452545e+00,   2.06743622e+00,\n",
       "         5.43945312e+00,   1.07919556e+02,   4.78458557e+01,\n",
       "        -1.52878952e+00,   5.92180634e+00,   1.56616211e-01,\n",
       "         1.48124695e-02,   1.84860229e-02,  -1.88316345e-01,\n",
       "         7.74421692e-02,   7.03731537e-01,   3.60884094e+00,\n",
       "         6.69505692e+01,   1.14156727e+02,  -5.24559021e-01,\n",
       "         2.11251450e+00,  -3.87344360e-02,   7.91758118e+01,\n",
       "         2.17881927e+01,   1.52705372e+02,   4.65126038e-02,\n",
       "         1.11931377e+02,   4.77114868e+00,   3.10627365e+01,\n",
       "         8.47672882e+01,   6.92412148e+01,   1.05270157e+01,\n",
       "         1.32089996e+00,   4.94289398e-01,   7.75629997e+01,\n",
       "        -2.83756256e-01,   5.91770172e+00,   1.06437035e+01,\n",
       "         3.58113632e+01,  -2.22843170e-01,  -1.36997223e-01,\n",
       "         2.73536682e+00,   3.89062119e+00,   1.61235809e-01,\n",
       "         5.04302979e-02,   5.04302979e-02,   5.30014038e-02,\n",
       "         9.68150597e+01,   8.74119949e+01,   3.73485413e+01,\n",
       "         3.16330223e+01,   8.68507385e-01,   4.07003479e+01,\n",
       "         4.54854355e+01,   5.85465431e+01,   3.43639145e+01,\n",
       "         4.55421448e-01,   8.46344376e+00,   8.39620895e+01,\n",
       "         4.22752380e-01,   2.49088287e-01,  -1.54312134e-01,\n",
       "         1.30964279e+00,  -2.20840454e-01,   1.28574326e+02,\n",
       "        -2.38838196e-01,   1.20098114e-01,   3.91824532e+01,\n",
       "         8.25195312e-02,   1.16933578e+02,   1.09462357e+01,\n",
       "        -3.15170288e-01,   3.58564758e+00,   1.08665466e-01,\n",
       "         9.11879730e+01,  -1.95194244e-01,   7.89009094e+00,\n",
       "         8.64616394e+00,  -4.15695190e-01,   8.29075623e+00,\n",
       "         9.95013428e+00,   1.50493279e+01,   5.54509354e+00,\n",
       "        -5.74096680e-01,   6.13059998e-01,   2.25900230e+01,\n",
       "         1.74003601e-01,   1.48872375e-01,   8.18899155e+00,\n",
       "        -7.99179077e-02,  -1.00082397e-01,   4.22729492e-01,\n",
       "         1.46006420e+02,   5.77140808e-01,   1.72427368e+00,\n",
       "         7.14645386e-02,  -1.21427917e+00,   1.75354004e-01,\n",
       "         1.12533569e-02,  -1.05285645e-03,   3.99696350e-01,\n",
       "         3.99696350e-01,   3.33480835e-02,   6.52465820e-02,\n",
       "        -9.14955139e-02,   1.03553772e-01,   3.73777084e+01,\n",
       "         8.57730865e-01,   1.60091438e+01,   1.85972595e+01,\n",
       "         3.09415054e+00,   1.83689880e+01,   2.17886314e+01,\n",
       "         8.63761902e-01,   1.36808495e+02,   2.67183304e+00,\n",
       "        -7.55928040e-01,  -2.04086304e-02,   7.93266296e-01,\n",
       "         1.09096222e+01,   1.77409439e+01,   7.48705292e+00,\n",
       "         1.64701424e+01,   4.76463013e+01,   5.85163651e+01,\n",
       "         7.51889000e+01,  -1.59119415e+00,  -4.91348267e-01,\n",
       "         6.10229340e+01,   7.57942696e+01,   1.53542145e+02,\n",
       "         7.72839813e+01,   5.72925682e+01,   7.30638733e+01,\n",
       "         1.66958199e+01,   8.22357864e+01,   7.41334839e+01,\n",
       "         8.47124825e+01,   7.10535431e+01,   1.81840057e+01,\n",
       "         7.93093719e+01,   8.96877365e+01,   1.05090324e+02,\n",
       "        -2.59323120e-02,   1.36054585e+02,   5.35329437e+01,\n",
       "        -1.51145935e-01,   1.29836273e+00,   1.68565239e+02,\n",
       "         1.53099823e+00,   1.40603218e+01,   2.85391541e+01,\n",
       "         1.66385483e+02,   5.69792519e+01,   4.90257950e+01,\n",
       "         8.21051598e+01,   6.41302032e+01,   1.58360069e+02,\n",
       "         2.09283752e+01,   1.17144615e+02,   2.24234543e+01,\n",
       "         1.32704582e+02,   1.37052635e+02,   1.77744522e+01,\n",
       "         4.69351730e+01,  -3.63090515e-01,   6.76937866e+00,\n",
       "         1.36683914e+02,   8.39080811e-02,   2.71886292e+01,\n",
       "         3.92539215e+00,   0.00000000e+00])\n",
       " message: 'Optimization terminated successfully.'\n",
       "    nfev: 30947\n",
       "     nit: 142\n",
       "    njev: 142\n",
       "  status: 0\n",
       " success: True\n",
       "       x: array([  1.11237791e-02,   4.08098069e-02,   6.06282603e-07,\n",
       "         6.05743961e-07,   2.31976095e-04,   1.87718592e-03,\n",
       "         7.70138229e-03,   4.02380357e-05,   1.08848637e-02,\n",
       "         8.57081265e-03,   3.73401314e-03,   3.73401314e-03,\n",
       "         6.05906983e-07,   4.03133942e-02,   1.94271297e-02,\n",
       "         6.04188356e-07,   1.85553636e-02,   5.98658973e-07,\n",
       "         2.96810725e-02,   3.94913406e-03,   3.94913406e-03,\n",
       "         2.31553035e-04,   4.40487096e-02,   2.00777842e-02,\n",
       "         6.08871816e-07,   6.01724558e-03,   6.08595677e-07,\n",
       "         2.68214351e-04,   2.68214352e-04,   6.05925425e-07,\n",
       "         6.04896644e-07,   6.06707521e-07,   5.99825741e-07,\n",
       "         6.00355955e-07,   6.00349755e-07,   2.70077765e-03,\n",
       "         6.05865986e-07,   7.70188351e-06,   2.28953833e-02,\n",
       "         6.57131566e-03,   6.00722046e-07,   4.72817713e-03,\n",
       "         5.69580642e-03,   5.97697507e-07,   5.97541336e-07,\n",
       "         5.99100393e-07,   1.94363192e-04,   3.37188460e-06,\n",
       "         3.18609530e-05,   6.03889231e-07,   5.97792603e-07,\n",
       "         5.14009197e-04,   1.05037075e-05,   5.59695602e-03,\n",
       "         6.81307108e-03,   1.96091657e-02,   5.15695439e-05,\n",
       "         4.82801390e-03,   1.42955503e-05,   6.00421469e-07,\n",
       "         5.99877257e-07,   6.04683582e-07,   1.94963763e-03,\n",
       "         6.00898260e-07,   1.45835723e-02,   6.01115465e-07,\n",
       "         5.98036989e-07,   6.08519249e-07,   3.97310163e-05,\n",
       "         6.04439619e-07,   6.00563801e-07,   5.96742081e-07,\n",
       "         6.01621625e-07,   5.99914836e-07,   5.99740812e-07,\n",
       "         5.02555189e-04,   2.13142373e-04,   6.01053504e-07,\n",
       "         5.12528716e-02,   6.00389441e-07,   5.99651091e-07,\n",
       "         5.96507481e-07,   6.20997149e-03,   4.45215209e-03,\n",
       "         4.34803821e-05,   8.09730728e-05,   1.04994239e-02,\n",
       "         5.80231924e-03,   5.80231924e-03,   1.44247005e-02,\n",
       "         6.02849804e-07,   6.01940786e-07,   5.96570208e-07,\n",
       "         5.96740740e-07,   4.02232653e-04,   5.96834497e-07,\n",
       "         5.97406980e-07,   5.98977874e-07,   5.96500002e-07,\n",
       "         1.26729434e-03,   1.97195675e-05,   6.01566438e-07,\n",
       "         5.96985651e-04,   2.92791096e-03,   3.36133766e-02,\n",
       "         9.17171473e-05,   4.23494130e-03,   6.06058310e-07,\n",
       "         1.62758507e-02,   1.23914498e-02,   5.97152914e-07,\n",
       "         2.03403876e-04,   6.04841915e-07,   5.99773538e-07,\n",
       "         1.64827575e-03,   6.00804643e-07,   1.44740169e-01,\n",
       "         6.02034177e-07,   7.79359382e-04,   6.00147577e-07,\n",
       "         6.00047339e-07,   1.22148977e-05,   6.00226568e-07,\n",
       "         6.00000811e-07,   5.99222518e-07,   6.00287331e-07,\n",
       "         1.91994774e-03,   3.35364740e-05,   5.97755111e-07,\n",
       "         1.19946160e-02,   4.70022292e-03,   6.00249419e-07,\n",
       "         5.63548633e-03,   2.18921363e-02,   6.29174283e-03,\n",
       "         6.07901234e-07,   3.32447767e-04,   4.52036742e-04,\n",
       "         9.58499999e-03,   1.77648300e-05,   1.84356911e-03,\n",
       "         7.34244911e-03,   4.91302987e-02,   7.82753368e-04,\n",
       "         7.82753378e-04,   9.62266468e-03,   7.74095686e-04,\n",
       "         5.39878480e-02,   1.13731893e-02,   5.97040317e-07,\n",
       "         1.94810293e-05,   5.99453853e-07,   5.98922248e-07,\n",
       "         3.65553822e-05,   5.99089997e-07,   5.98686904e-07,\n",
       "         1.22157737e-04,   6.06641815e-07,   3.73281027e-05,\n",
       "         1.96272208e-03,   2.69763929e-02,   4.38084081e-04,\n",
       "         6.00546589e-07,   5.99374788e-07,   3.18027759e-05,\n",
       "         5.99715108e-07,   5.97619339e-07,   5.98530727e-07,\n",
       "         6.00217329e-07,   9.62125620e-07,   1.71995780e-04,\n",
       "         5.98629294e-07,   6.00306942e-07,   6.08274230e-07,\n",
       "         6.00451730e-07,   5.98201855e-07,   5.99760388e-07,\n",
       "         1.77261633e-05,   6.00796036e-07,   5.99954220e-07,\n",
       "         6.01055062e-07,   5.99708246e-07,   5.99306764e-07,\n",
       "         6.00593231e-07,   6.01654173e-07,   6.03286275e-07,\n",
       "         4.44452712e-02,   6.06470546e-07,   5.97987535e-07,\n",
       "         7.18276487e-03,   6.02300601e-07,   6.09717405e-07,\n",
       "         4.52173063e-04,   6.00127990e-07,   5.97926590e-07,\n",
       "         6.09468548e-07,   5.98162852e-07,   5.97494979e-07,\n",
       "         6.01274832e-07,   5.99303071e-07,   6.08636410e-07,\n",
       "         5.98790718e-07,   6.04627343e-07,   5.98509392e-07,\n",
       "         6.06259295e-07,   6.06694897e-07,   5.98823250e-07,\n",
       "         5.97499423e-07,   1.85839376e-03,   6.00583610e-07,\n",
       "         6.06668617e-07,   2.67570216e-02,   5.97349273e-07,\n",
       "         1.06739124e-04])"
      ]
     },
     "execution_count": 21,
     "metadata": {},
     "output_type": "execute_result"
    }
   ],
   "source": [
    "res_gap"
   ]
  },
  {
   "cell_type": "code",
   "execution_count": null,
   "metadata": {
    "collapsed": false
   },
   "outputs": [],
   "source": [
    "fig, ax = plt.subplots()\n",
    "ax.plot(res.x, res_gap.x, 'bo')\n",
    "ax.plot([0,0.15], [0,0.15])\n",
    "fig, ax = plt.subplots()\n",
    "ax.hist(res.x, 30, alpha=0.5)\n",
    "ax.hist(res_gap.x, 30, alpha=0.5)"
   ]
  },
  {
   "cell_type": "code",
   "execution_count": null,
   "metadata": {
    "collapsed": false
   },
   "outputs": [],
   "source": []
  },
  {
   "cell_type": "code",
   "execution_count": null,
   "metadata": {
    "collapsed": false
   },
   "outputs": [],
   "source": []
  },
  {
   "cell_type": "code",
   "execution_count": null,
   "metadata": {
    "collapsed": false
   },
   "outputs": [],
   "source": [
    "bin_counts = np.apply_along_axis(lambda x: np.bincount(x, weights=initial_weights, minlength=22),\\\n",
    "                                 axis=1, arr=replaced_seqs_T)\n",
    "gap_frac = bin_counts[:,0]/np.sum(bin_counts, axis=1)\n",
    "trunc_bin_counts = bin_counts[:,1:]\n",
    "i = stats.entropy(trunc_bin_counts.T)"
   ]
  },
  {
   "cell_type": "code",
   "execution_count": null,
   "metadata": {
    "collapsed": false
   },
   "outputs": [],
   "source": [
    "trunc_bin_counts.shape"
   ]
  },
  {
   "cell_type": "code",
   "execution_count": null,
   "metadata": {
    "collapsed": false
   },
   "outputs": [],
   "source": [
    "np.sum(trunc_bin_counts.T, axis=0)"
   ]
  },
  {
   "cell_type": "code",
   "execution_count": null,
   "metadata": {
    "collapsed": false
   },
   "outputs": [],
   "source": [
    "trunc_bin_counts.T[:,0]"
   ]
  },
  {
   "cell_type": "code",
   "execution_count": null,
   "metadata": {
    "collapsed": false
   },
   "outputs": [],
   "source": [
    "stats.entropy(trunc_bin_counts.T[:,0])"
   ]
  },
  {
   "cell_type": "code",
   "execution_count": null,
   "metadata": {
    "collapsed": false
   },
   "outputs": [],
   "source": [
    "stats.entropy(np.bincount(replaced_seqs_T[0]))"
   ]
  },
  {
   "cell_type": "code",
   "execution_count": null,
   "metadata": {
    "collapsed": false
   },
   "outputs": [],
   "source": [
    "np.bincount(replaced_seqs_T[0])"
   ]
  },
  {
   "cell_type": "code",
   "execution_count": null,
   "metadata": {
    "collapsed": false
   },
   "outputs": [],
   "source": [
    "np.bincount(replaced_seqs_T[0:2])"
   ]
  },
  {
   "cell_type": "code",
   "execution_count": null,
   "metadata": {
    "collapsed": false
   },
   "outputs": [],
   "source": [
    "testy = np.apply_along_axis(lambda x: np.bincount(x, minlength=22), axis=1, arr=replaced_seqs_T[:])"
   ]
  },
  {
   "cell_type": "code",
   "execution_count": null,
   "metadata": {
    "collapsed": false
   },
   "outputs": [],
   "source": [
    "replaced_seqs_T.shape"
   ]
  },
  {
   "cell_type": "code",
   "execution_count": null,
   "metadata": {
    "collapsed": false
   },
   "outputs": [],
   "source": [
    "testy.shape"
   ]
  },
  {
   "cell_type": "code",
   "execution_count": null,
   "metadata": {
    "collapsed": false
   },
   "outputs": [],
   "source": [
    "%%timeit\n",
    "blah = np.apply_along_axis(lambda x: stats.entropy(x), axis=1, arr = testy)"
   ]
  },
  {
   "cell_type": "code",
   "execution_count": null,
   "metadata": {
    "collapsed": false
   },
   "outputs": [],
   "source": [
    "np.sum(blah)"
   ]
  },
  {
   "cell_type": "code",
   "execution_count": null,
   "metadata": {
    "collapsed": false
   },
   "outputs": [],
   "source": [
    "all_ents = []\n",
    "for i in testy:\n",
    "    all_ents.append(stats.entropy(i))\n",
    "# print(np.sum(all_ents))"
   ]
  },
  {
   "cell_type": "code",
   "execution_count": null,
   "metadata": {
    "collapsed": false
   },
   "outputs": [],
   "source": [
    "hmm = stats.entropy(testy.T)"
   ]
  },
  {
   "cell_type": "code",
   "execution_count": null,
   "metadata": {
    "collapsed": false
   },
   "outputs": [],
   "source": [
    "list(hmm) == all_ents"
   ]
  },
  {
   "cell_type": "code",
   "execution_count": null,
   "metadata": {
    "collapsed": false
   },
   "outputs": [],
   "source": [
    "np.isclose(hmm, all_ents)"
   ]
  },
  {
   "cell_type": "code",
   "execution_count": null,
   "metadata": {
    "collapsed": false
   },
   "outputs": [],
   "source": [
    "bin_counts = np.apply_along_axis(lambda x: np.bincount(replaced_seqs_T, weights=weights, minlength=22),\\\n",
    "                                     axis=1, arr=seqs)"
   ]
  },
  {
   "cell_type": "code",
   "execution_count": null,
   "metadata": {
    "collapsed": true
   },
   "outputs": [],
   "source": []
  }
 ],
 "metadata": {
  "kernelspec": {
   "display_name": "Python 3",
   "language": "python",
   "name": "python3"
  },
  "language_info": {
   "codemirror_mode": {
    "name": "ipython",
    "version": 3
   },
   "file_extension": ".py",
   "mimetype": "text/x-python",
   "name": "python",
   "nbconvert_exporter": "python",
   "pygments_lexer": "ipython3",
   "version": "3.4.5"
  },
  "toc": {
   "colors": {
    "hover_highlight": "#DAA520",
    "navigate_num": "#000000",
    "navigate_text": "#333333",
    "running_highlight": "#FF0000",
    "selected_highlight": "#FFD700",
    "sidebar_border": "#EEEEEE",
    "wrapper_background": "#FFFFFF"
   },
   "moveMenuLeft": true,
   "nav_menu": {
    "height": "120px",
    "width": "252px"
   },
   "navigate_menu": true,
   "number_sections": true,
   "sideBar": true,
   "threshold": 4,
   "toc_cell": false,
   "toc_section_display": "block",
   "toc_window_display": false,
   "widenNotebook": false
  }
 },
 "nbformat": 4,
 "nbformat_minor": 2
}
