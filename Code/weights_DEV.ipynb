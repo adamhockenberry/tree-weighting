{
 "cells": [
  {
   "cell_type": "code",
   "execution_count": 2,
   "metadata": {},
   "outputs": [],
   "source": [
    "%matplotlib inline\n",
    "%load_ext autoreload\n",
    "%autoreload 2"
   ]
  },
  {
   "cell_type": "code",
   "execution_count": 3,
   "metadata": {
    "collapsed": true
   },
   "outputs": [],
   "source": [
    "from Bio import Phylo, SeqIO\n",
    "import numpy as np\n",
    "\n",
    "import random\n",
    "from matplotlib import pyplot as plt\n",
    "\n",
    "from io import StringIO\n",
    "from collections import defaultdict\n",
    "\n",
    "import pandas as pd\n",
    "from scipy.optimize import minimize\n",
    "from scipy import stats"
   ]
  },
  {
   "cell_type": "code",
   "execution_count": 4,
   "metadata": {},
   "outputs": [],
   "source": [
    "import weighting_methods"
   ]
  },
  {
   "cell_type": "markdown",
   "metadata": {},
   "source": [
    "# Reading in and processing test-trees"
   ]
  },
  {
   "cell_type": "code",
   "execution_count": 178,
   "metadata": {},
   "outputs": [
    {
     "name": "stdout",
     "output_type": "stream",
     "text": [
      "1001\n"
     ]
    }
   ],
   "source": [
    "# tree = Phylo.read('../../Tree_rooting/Data/raw_OMA_trees/OMAGroup_479938.mafft.afa.treefile.Rooted.MPAJH', 'newick')\n",
    "# tree = Phylo.read('/Users/adamhockenberry/Downloads/BM_Folder/paper_tree.txt', 'newick', rooted=True)\n",
    "# tree = Phylo.read(StringIO('(((A:20, B:20):30,C:50):30, D:0.001)'), 'newick', rooted=True)\n",
    "# tree = Phylo.read('../../Tree_rooting_analysis/Data/OMA_group_data/eukaryotes/processed_OMA_trees/'\n",
    "#                   'OMAGroup_479938.treefile.RootedNoZero.MADAJH', 'newick', rooted=True)\n",
    "tree = Phylo.read('../../Phylogenetic_couplings/Data/psicov150_aln_pdb/raw_trees/1a3aA.newick', 'newick')\n",
    "\n",
    "\n",
    "\n",
    "\n",
    "print(len(tree.get_terminals()))\n",
    "# tree = trim_zero_bls(tree)\n",
    "# tree.root_at_midpoint()\n",
    "# print(len(tree.get_terminals()))\n",
    "# initial_order = tree.get_terminals()\n",
    "# dicty = {}\n",
    "# for i,j in enumerate(initial_order):\n",
    "#     dicty[j.name] = i"
   ]
  },
  {
   "cell_type": "code",
   "execution_count": 179,
   "metadata": {},
   "outputs": [
    {
     "data": {
      "text/plain": [
       "True"
      ]
     },
     "execution_count": 179,
     "metadata": {},
     "output_type": "execute_result"
    }
   ],
   "source": [
    "tree.is_bifurcating()"
   ]
  },
  {
   "cell_type": "code",
   "execution_count": 180,
   "metadata": {},
   "outputs": [
    {
     "data": {
      "text/plain": [
       "[Clade(branch_length=0.510945638, name='241'),\n",
       " Clade(branch_length=0.279960657, name='531'),\n",
       " Clade(branch_length=0.000356458, name='238'),\n",
       " Clade(branch_length=0.033825018, name='613'),\n",
       " Clade(branch_length=0.168821304, name='467'),\n",
       " Clade(branch_length=0.055303203, name='264'),\n",
       " Clade(branch_length=0.049879201, name='479'),\n",
       " Clade(branch_length=0.691409902, name='132'),\n",
       " Clade(branch_length=0.276073561, name='443'),\n",
       " Clade(branch_length=0.72421479, name='253'),\n",
       " Clade(branch_length=0.367150808, name='64'),\n",
       " Clade(branch_length=0.140502508, name='287'),\n",
       " Clade(branch_length=0.224302988, name='943'),\n",
       " Clade(branch_length=0.083495881, name='128'),\n",
       " Clade(branch_length=0.031783883, name='314'),\n",
       " Clade(branch_length=0.048315449, name='732'),\n",
       " Clade(branch_length=0.018019686, name='466'),\n",
       " Clade(branch_length=0.451777789, name='25'),\n",
       " Clade(branch_length=0.53551816, name='642'),\n",
       " Clade(branch_length=0.372964623, name='340')]"
      ]
     },
     "execution_count": 180,
     "metadata": {},
     "output_type": "execute_result"
    }
   ],
   "source": [
    "tree.get_terminals()[:20]"
   ]
  },
  {
   "cell_type": "code",
   "execution_count": 181,
   "metadata": {},
   "outputs": [],
   "source": [
    "if len(tree.get_terminals()) < 100:\n",
    "    Phylo.draw(tree)"
   ]
  },
  {
   "cell_type": "markdown",
   "metadata": {},
   "source": [
    "# Using root, get basic variance-covariance method ala Felsenstein\n",
    "\n",
    "So this is the basic method proposed in Altschull et al (ACL) and it works in my implementation (assuming no zero branch lengths)"
   ]
  },
  {
   "cell_type": "code",
   "execution_count": 182,
   "metadata": {},
   "outputs": [],
   "source": [
    "tree.root_at_midpoint()\n",
    "# tree.root_with_outgroup('reference', outgroup_branch_length=0.0)\n",
    "weights_dict_acl, rooted_tree = weighting_methods.calc_ACL_weights(tree)"
   ]
  },
  {
   "cell_type": "code",
   "execution_count": 183,
   "metadata": {},
   "outputs": [
    {
     "data": {
      "text/plain": [
       "{Clade(branch_length=0.91256375, name='210'): 0.0025102636880217186,\n",
       " Clade(branch_length=0.018045952, name='569'): 0.0001884660702595697,\n",
       " Clade(branch_length=1.501346243, name='765'): 0.0001130333009709891,\n",
       " Clade(branch_length=0.018019686, name='466'): 0.0003853233250179974,\n",
       " Clade(branch_length=0.578204574, name='478'): 0.0007401244198601823,\n",
       " Clade(branch_length=0.140838962, name='93'): 1.0120944882053298e-06,\n",
       " Clade(branch_length=0.719207048, name='187'): 0.0005831559883755149,\n",
       " Clade(branch_length=0.065267079, name='168'): 5.117895141309263e-06,\n",
       " Clade(branch_length=0.656693781, name='942'): 0.00028687414296288237,\n",
       " Clade(branch_length=1.038191421, name='798'): 0.0007470781110447142,\n",
       " Clade(branch_length=0.014342941, name='3'): 2.5941841832556407e-11,\n",
       " Clade(branch_length=1.276951395, name='291'): 0.0009283730134309528,\n",
       " Clade(branch_length=0.106739532, name='715'): 0.0006456337906765425,\n",
       " Clade(branch_length=0.026486763, name='689'): 0.00047932409619717685,\n",
       " Clade(branch_length=0.394575298, name='300'): 0.00017414455719813246,\n",
       " Clade(branch_length=1.411035887, name='928'): 0.0036658181002345263,\n",
       " Clade(branch_length=0.021567668, name='2'): 9.835157692726192e-12,\n",
       " Clade(branch_length=0.826610471, name='391'): 0.001370585909800533,\n",
       " Clade(branch_length=0.455865162, name='363'): 0.00015786245592014955,\n",
       " Clade(branch_length=0.07552168, name='598'): 4.447529663977359e-12,\n",
       " Clade(branch_length=0.426319563, name='75'): 0.00044511363214844597,\n",
       " Clade(branch_length=0.047503741, name='940'): 0.00026725776683903896,\n",
       " Clade(branch_length=0.466852007, name='678'): 0.000201604363301754,\n",
       " Clade(branch_length=0.827988279, name='828'): 0.0001757408528588726,\n",
       " Clade(branch_length=1.064288418, name='148'): 0.0006227080158889498,\n",
       " Clade(branch_length=0.275267463, name='784'): 8.824016604096159e-05,\n",
       " Clade(branch_length=1.205587918, name='412'): 4.011447285278782e-06,\n",
       " Clade(branch_length=0.880340376, name='279'): 0.000387838254509358,\n",
       " Clade(branch_length=0.231492536, name='735'): 0.0002968265920743567,\n",
       " Clade(branch_length=0.256492243, name='578'): 1.503361740427009e-06,\n",
       " Clade(branch_length=0.425082844, name='126'): 7.763096161379159e-05,\n",
       " Clade(branch_length=0.56843668, name='103'): 0.00046371474599099727,\n",
       " Clade(branch_length=0.10787035, name='231'): 0.0008768171126390183,\n",
       " Clade(branch_length=0.340720056, name='207'): 0.00021121149980590437,\n",
       " Clade(branch_length=1.05144273, name='972'): 0.0006730770924695371,\n",
       " Clade(branch_length=0.117628554, name='996'): 3.3656270804917124e-05,\n",
       " Clade(branch_length=0.87811395, name='304'): 0.00012844899976950937,\n",
       " Clade(branch_length=0.134174146, name='558'): 3.0491047803660637e-05,\n",
       " Clade(branch_length=0.175288715, name='38'): 0.00020389796046111995,\n",
       " Clade(branch_length=0.515687032, name='705'): 0.00036531377377239656,\n",
       " Clade(branch_length=0.085175844, name='793'): 4.8031381165761824e-05,\n",
       " Clade(branch_length=0.012047531, name='850'): 0.0005119282089484095,\n",
       " Clade(branch_length=0.138203535, name='514'): 7.500768673235125e-06,\n",
       " Clade(branch_length=0.007288206, name='228'): 2.475313313949354e-15,\n",
       " Clade(branch_length=0.655749396, name='585'): 0.0005172654042964641,\n",
       " Clade(branch_length=0.638792937, name='272'): 0.0011883151635768397,\n",
       " Clade(branch_length=0.446255559, name='144'): 0.00013568406545497874,\n",
       " Clade(branch_length=0.166881879, name='668'): 1.822599622720567e-05,\n",
       " Clade(branch_length=0.015074201, name='465'): 3.1764462972352336e-10,\n",
       " Clade(branch_length=0.182667011, name='58'): 2.1962190920271774e-05,\n",
       " Clade(branch_length=0.007185374, name='322'): 8.483782097392416e-10,\n",
       " Clade(branch_length=1.101050589, name='223'): 0.000414494592030919,\n",
       " Clade(branch_length=0.484267717, name='251'): 0.0011439042827809476,\n",
       " Clade(branch_length=0.225766603, name='874'): 0.002293081430079261,\n",
       " Clade(branch_length=0.857143705, name='53'): 0.00039833416882044734,\n",
       " Clade(branch_length=0.00735726, name='939'): -4.724061545746111e-15,\n",
       " Clade(branch_length=0.021751371, name='470'): 7.740571254460629e-16,\n",
       " Clade(branch_length=0.424263153, name='347'): 0.00011681771822957196,\n",
       " Clade(branch_length=0.795586158, name='511'): 0.0001991198188164473,\n",
       " Clade(branch_length=6e-09, name='299'): 1.336047543356416e-10,\n",
       " Clade(branch_length=0.007421472, name='107'): 7.676492308425245e-06,\n",
       " Clade(branch_length=0.406320387, name='455'): 8.330014077558804e-05,\n",
       " Clade(branch_length=0.128148607, name='907'): 0.00013408051376110925,\n",
       " Clade(branch_length=0.132438368, name='104'): 8.50213971582671e-11,\n",
       " Clade(branch_length=0.015000448, name='626'): 2.401381548228541e-11,\n",
       " Clade(branch_length=0.516607554, name='812'): 0.00046456590972968927,\n",
       " Clade(branch_length=0.019684422, name='966'): 8.973093130973932e-11,\n",
       " Clade(branch_length=0.018769605, name='303'): 9.166659383319474e-06,\n",
       " Clade(branch_length=0.693844973, name='30'): 8.059636437264657e-05,\n",
       " Clade(branch_length=0.075640227, name='859'): 2.9396318852505066e-05,\n",
       " Clade(branch_length=0.942338914, name='901'): 6.80620468168424e-05,\n",
       " Clade(branch_length=0.832220467, name='982'): 6.719538525382438e-05,\n",
       " Clade(branch_length=0.437803043, name='252'): 0.0005481877582304719,\n",
       " Clade(branch_length=0.290087146, name='59'): 1.3833228918276618e-06,\n",
       " Clade(branch_length=0.868195131, name='487'): 0.00015308666468781141,\n",
       " Clade(branch_length=0.039125074, name='445'): 8.560485666288444e-07,\n",
       " Clade(branch_length=0.36650828, name='636'): 4.6880891816476494e-05,\n",
       " Clade(branch_length=0.056144451, name='945'): 1.0908306519270953e-05,\n",
       " Clade(branch_length=0.047383557, name='195'): 2.964518023059074e-08,\n",
       " Clade(branch_length=0.755968798, name='541'): 0.000144944865851526,\n",
       " Clade(branch_length=0.050867081, name='833'): 5.2660435296822293e-11,\n",
       " Clade(branch_length=0.264296143, name='584'): 0.0008995395581642049,\n",
       " Clade(branch_length=0.010574011, name='773'): 1.6271457982894258e-05,\n",
       " Clade(branch_length=0.638124941, name='603'): 0.0017273488452369517,\n",
       " Clade(branch_length=0.612912189, name='891'): 0.001926390964539953,\n",
       " Clade(branch_length=0.008250263, name='345'): 1.8937172174352788e-10,\n",
       " Clade(branch_length=0.396473656, name='65'): 0.000334034351133212,\n",
       " Clade(branch_length=0.268786798, name='914'): 0.0002180154628086813,\n",
       " Clade(branch_length=0.042818205, name='102'): 0.002884757441021096,\n",
       " Clade(branch_length=5e-09, name='351'): 4.1781678144577315e-07,\n",
       " Clade(branch_length=0.014754781, name='763'): 5.113049187124365e-05,\n",
       " Clade(branch_length=0.524709858, name='163'): 0.0005583792777893413,\n",
       " Clade(branch_length=0.364937398, name='921'): 0.0019688848436249626,\n",
       " Clade(branch_length=1.696793605, name='219'): 0.00013295891757041691,\n",
       " Clade(branch_length=0.188361323, name='192'): 5.496445702789e-06,\n",
       " Clade(branch_length=0.448858008, name='327'): 0.001121523258716307,\n",
       " Clade(branch_length=0.557432566, name='200'): 0.00028994671074547335,\n",
       " Clade(branch_length=0.13289774, name='758'): 0.003946950419426281,\n",
       " Clade(branch_length=0.016254839, name='526'): 1.4223513713879382e-10,\n",
       " Clade(branch_length=0.939056654, name='18'): 7.385448367800375e-05,\n",
       " Clade(branch_length=0.16537274, name='685'): 3.7033968286840163e-06,\n",
       " Clade(branch_length=0.248866601, name='474'): 1.593177914090929e-05,\n",
       " Clade(branch_length=6e-09, name='560'): 0.0004134853808549096,\n",
       " Clade(branch_length=6e-09, name='849'): 0.0003853365545996884,\n",
       " Clade(branch_length=0.222114728, name='339'): 1.503862753987574e-06,\n",
       " Clade(branch_length=0.013229348, name='265'): 3.1550118072965116e-05,\n",
       " Clade(branch_length=0.966798547, name='767'): 3.413282332430853e-05,\n",
       " Clade(branch_length=0.244527427, name='703'): 1.90203514404031e-06,\n",
       " Clade(branch_length=0.122545872, name='374'): 1.2768783468977215e-06,\n",
       " Clade(branch_length=1.205385628, name='285'): 0.002047412407597151,\n",
       " Clade(branch_length=6e-09, name='156'): 0.0004352678721684316,\n",
       " Clade(branch_length=0.017229015, name='599'): 4.37877156608202e-05,\n",
       " Clade(branch_length=0.514853351, name='675'): 0.0027582912132966143,\n",
       " Clade(branch_length=0.924792454, name='524'): 0.008891738083253168,\n",
       " Clade(branch_length=1.070291754, name='419'): 2.797978091248322e-05,\n",
       " Clade(branch_length=0.35960213, name='555'): 0.004179000530811007,\n",
       " Clade(branch_length=0.611958787, name='131'): 0.00043073565782167166,\n",
       " Clade(branch_length=0.643816186, name='788'): 9.333510958865351e-05,\n",
       " Clade(branch_length=6e-09, name='275'): 0.0029391866133787847,\n",
       " Clade(branch_length=6e-09, name='178'): 0.0003211089353800655,\n",
       " Clade(branch_length=0.569916277, name='177'): 0.00026332561627016816,\n",
       " Clade(branch_length=0.662300965, name='693'): 0.0016928387997019985,\n",
       " Clade(branch_length=0.658867171, name='127'): 2.6145522131234842e-05,\n",
       " Clade(branch_length=0.008655723, name='78'): 0.00022024751042041144,\n",
       " Clade(branch_length=0.881063627, name='800'): 0.0062643118423111495,\n",
       " Clade(branch_length=6e-09, name='696'): 0.0001980495968433847,\n",
       " Clade(branch_length=0.015284737, name='575'): 4.5293605631935256e-07,\n",
       " Clade(branch_length=1.226641401, name='295'): 0.0009415315770073859,\n",
       " Clade(branch_length=0.878351716, name='331'): 0.00010671783797813163,\n",
       " Clade(branch_length=1.454066415, name='725'): 0.0002843605355454152,\n",
       " Clade(branch_length=0.022206735, name='709'): 7.180141205142787e-07,\n",
       " Clade(branch_length=1.457345038, name='999'): 0.00019760252943905806,\n",
       " Clade(branch_length=0.650669127, name='669'): 5.926214179909763e-07,\n",
       " Clade(branch_length=0.014507128, name='97'): 1.762476230031325e-10,\n",
       " Clade(branch_length=6e-09, name='332'): 0.0001805919653606387,\n",
       " Clade(branch_length=0.139725439, name='589'): 1.5609804863041785e-06,\n",
       " Clade(branch_length=0.460353019, name='214'): 0.00034714695421292986,\n",
       " Clade(branch_length=0.315926286, name='120'): 9.053418725984932e-05,\n",
       " Clade(branch_length=0.086153926, name='519'): 0.000490545434197197,\n",
       " Clade(branch_length=1.84226883, name='806'): 0.008618411430934008,\n",
       " Clade(branch_length=0.015034576, name='355'): 7.110410014305486e-11,\n",
       " Clade(branch_length=0.007547205, name='402'): 5.10568481242109e-13,\n",
       " Clade(branch_length=0.273270416, name='284'): 0.0007391993860158389,\n",
       " Clade(branch_length=0.112858084, name='68'): 0.00013759752664882686,\n",
       " Clade(branch_length=2.1282053, name='924'): 0.0059948215025223935,\n",
       " Clade(branch_length=0.432874223, name='644'): 0.0010818038497809265,\n",
       " Clade(branch_length=0.484530974, name='321'): 5.4128077828566326e-05,\n",
       " Clade(branch_length=1.776408589, name='605'): 0.007182024998766824,\n",
       " Clade(branch_length=0.014141587, name='525'): 8.695669231616119e-08,\n",
       " Clade(branch_length=0.950801797, name='329'): 0.010847896239963841,\n",
       " Clade(branch_length=0.52252089, name='801'): 0.00011855401603581561,\n",
       " Clade(branch_length=0.017458495, name='276'): 6.805974926141044e-11,\n",
       " Clade(branch_length=0.093963177, name='973'): 1.690101943508255e-05,\n",
       " Clade(branch_length=5e-09, name='857'): 0.02021865387811771,\n",
       " Clade(branch_length=5e-09, name='822'): 5.369772928730614e-06,\n",
       " Clade(branch_length=0.007742161, name='37'): 3.1900587341993337e-06,\n",
       " Clade(branch_length=0.215801315, name='283'): 0.0001854010773217016,\n",
       " Clade(branch_length=0.374681504, name='366'): 7.633718032971077e-05,\n",
       " Clade(branch_length=0.29753819, name='12'): 4.5618011975402775e-05,\n",
       " Clade(branch_length=5e-09, name='273'): 3.914907858103385e-05,\n",
       " Clade(branch_length=0.126554543, name='899'): 0.0012082580770501265,\n",
       " Clade(branch_length=0.072633023, name='830'): 1.5826357185417165e-10,\n",
       " Clade(branch_length=5e-09, name='552'): 4.241806363140706e-05,\n",
       " Clade(branch_length=0.424403745, name='997'): 8.662976717465513e-05,\n",
       " Clade(branch_length=0.29605916, name='176'): 0.00013514118541992285,\n",
       " Clade(branch_length=0.638533325, name='747'): 0.00014145305216464957,\n",
       " Clade(branch_length=0.644881352, name='143'): 0.0010286059657966663,\n",
       " Clade(branch_length=0.007047018, name='724'): 7.005502286641455e-12,\n",
       " Clade(branch_length=0.010691782, name='246'): 2.0684568453225655e-15,\n",
       " Clade(branch_length=0.055303203, name='264'): 0.0003017612211964314,\n",
       " Clade(branch_length=0.715504357, name='147'): 0.0006722159319885017,\n",
       " Clade(branch_length=6e-09, name='190'): 1.1949054969468211e-09,\n",
       " Clade(branch_length=0.466844382, name='462'): 0.001196513869454909,\n",
       " Clade(branch_length=0.600233631, name='755'): 0.00080130994400806,\n",
       " Clade(branch_length=0.329497851, name='557'): 5.121800528367637e-05,\n",
       " Clade(branch_length=0.032735438, name='820'): 0.00024292713714285977,\n",
       " Clade(branch_length=0.019298321, name='835'): 0.0008869173967336886,\n",
       " Clade(branch_length=1.049445706, name='262'): 0.002945113828791031,\n",
       " Clade(branch_length=1.540606517, name='134'): 0.0033477212697998913,\n",
       " Clade(branch_length=0.343960437, name='785'): 6.2221583099725435e-06,\n",
       " Clade(branch_length=0.533125769, name='532'): 0.001326918487710174,\n",
       " Clade(branch_length=0.449679814, name='504'): 0.00058503453376678,\n",
       " Clade(branch_length=1.268763707, name='70'): 0.00010131819526147609,\n",
       " Clade(branch_length=0.080777179, name='523'): 2.509239525920998e-10,\n",
       " Clade(branch_length=0.409126284, name='640'): 0.00022076916743474375,\n",
       " Clade(branch_length=0.484307306, name='838'): 0.0036435906420726897,\n",
       " Clade(branch_length=0.033957193, name='985'): 3.704236225271546e-08,\n",
       " Clade(branch_length=5e-09, name='809'): 0.0040537819076563895,\n",
       " Clade(branch_length=0.011552527, name='278'): 0.0030556296697940213,\n",
       " Clade(branch_length=6e-09, name='162'): 0.003170364799481053,\n",
       " Clade(branch_length=0.497602298, name='718'): 0.0016940405752514018,\n",
       " Clade(branch_length=0.053107766, name='141'): 2.1402856728124994e-11,\n",
       " Clade(branch_length=0.015264857, name='452'): -3.534779703745307e-14,\n",
       " Clade(branch_length=0.282977632, name='96'): 1.6275126999623965e-05,\n",
       " Clade(branch_length=2.066647595, name='281'): 0.0002764159397279951,\n",
       " Clade(branch_length=0.57969208, name='516'): 0.01173059684118878,\n",
       " Clade(branch_length=0.023893041, name='431'): 0.0004013149410798983,\n",
       " Clade(branch_length=0.007390012, name='343'): 7.709173476451374e-06,\n",
       " Clade(branch_length=0.277075357, name='71'): 0.0029457450074478597,\n",
       " Clade(branch_length=0.008906644, name='614'): 0.00036245248312938224,\n",
       " Clade(branch_length=0.994711745, name='182'): 3.9859675079567945e-06,\n",
       " Clade(branch_length=0.079300553, name='333'): 0.0011972216124961903,\n",
       " Clade(branch_length=0.021068427, name='766'): 0.00015322618707615918,\n",
       " Clade(branch_length=0.461855939, name='743'): 2.586885816489071e-05,\n",
       " Clade(branch_length=0.022632366, name='764'): 0.0028455310008324666,\n",
       " Clade(branch_length=0.033629976, name='451'): 9.959258819227433e-07,\n",
       " Clade(branch_length=0.014458848, name='844'): 0.0007467335185146149,\n",
       " Clade(branch_length=0.201402001, name='681'): 8.489513672590186e-05,\n",
       " Clade(branch_length=0.568444514, name='770'): 0.0004905390321836045,\n",
       " Clade(branch_length=0.019240163, name='342'): 0.0012215941286888973,\n",
       " Clade(branch_length=0.14294316, name='189'): 1.6294274072930112e-06,\n",
       " Clade(branch_length=5e-09, name='133'): 0.0002919653409150014,\n",
       " Clade(branch_length=0.308820994, name='109'): 4.206677769293994e-05,\n",
       " Clade(branch_length=0.024455436, name='385'): 0.0009610816243786305,\n",
       " Clade(branch_length=0.019773238, name='908'): 1.2586545681420011e-06,\n",
       " Clade(branch_length=0.009739265, name='42'): 2.5402688902961893e-05,\n",
       " Clade(branch_length=6e-09, name='157'): 0.00011141454339974628,\n",
       " Clade(branch_length=0.317936114, name='638'): 0.00010378715277569395,\n",
       " Clade(branch_length=0.794646265, name='95'): 7.79553812603015e-05,\n",
       " Clade(branch_length=6e-09, name='413'): 0.00632941660683777,\n",
       " Clade(branch_length=0.773015202, name='439'): 0.00045788872634869754,\n",
       " Clade(branch_length=0.682326837, name='786'): 0.0010578248308880025,\n",
       " Clade(branch_length=0.007657279, name='944'): 1.7097327705618232e-05,\n",
       " Clade(branch_length=0.892713067, name='239'): 0.00013057820964010878,\n",
       " Clade(branch_length=6e-09, name='356'): -5.76043808697185e-14,\n",
       " Clade(branch_length=0.405637495, name='179'): 0.0015231970234078607,\n",
       " Clade(branch_length=0.235143931, name='804'): 0.0010281659221815273,\n",
       " Clade(branch_length=0.318866492, name='153'): 0.00020797014985612846,\n",
       " Clade(branch_length=1.047736267, name='313'): 0.0008355593036471858,\n",
       " Clade(branch_length=0.188258227, name='624'): 4.158218850910249e-05,\n",
       " Clade(branch_length=0.452788024, name='977'): 0.00026368620600250657,\n",
       " Clade(branch_length=1.239740531, name='69'): 0.002643110482507522,\n",
       " Clade(branch_length=0.033051848, name='774'): 0.0001318677411486605,\n",
       " Clade(branch_length=0.472394333, name='171'): 0.001030830100010328,\n",
       " Clade(branch_length=5e-09, name='338'): 2.078570327924082e-05,\n",
       " Clade(branch_length=0.117179049, name='951'): 5.736384053104879e-09,\n",
       " Clade(branch_length=0.779148961, name='208'): 0.007093904494075498,\n",
       " Clade(branch_length=5e-09, name='485'): 1.0649922955933622e-05,\n",
       " Clade(branch_length=0.007019351, name='938'): 5.248233632010048e-05,\n",
       " Clade(branch_length=0.872840289, name='472'): 0.0063324397639174974,\n",
       " Clade(branch_length=0.091543452, name='77'): 0.00045398386781145115,\n",
       " Clade(branch_length=0.007038211, name='797'): 5.234170159545893e-05,\n",
       " Clade(branch_length=0.01577186, name='885'): 7.79676316921149e-08,\n",
       " Clade(branch_length=0.11071748, name='637'): 2.2805270358084338e-08,\n",
       " Clade(branch_length=1.37668974, name='566'): 0.000146661781688983,\n",
       " Clade(branch_length=5e-09, name='684'): 5.275936641009815e-06,\n",
       " Clade(branch_length=0.459157003, name='469'): 0.0021561481898492193,\n",
       " Clade(branch_length=0.279960657, name='531'): 0.0005606554269755997,\n",
       " Clade(branch_length=0.015636338, name='805'): 1.5795225381655626e-06,\n",
       " Clade(branch_length=0.347383542, name='449'): 0.0003454144096890004,\n",
       " Clade(branch_length=0.022608276, name='748'): 0.0002497508757669508,\n",
       " Clade(branch_length=0.007413072, name='607'): 1.6293150192234987e-09,\n",
       " Clade(branch_length=1.304577254, name='976'): 0.004249470450492882,\n",
       " Clade(branch_length=0.470796946, name='670'): 1.5460930045262095e-05,\n",
       " Clade(branch_length=0.4682277, name='249'): 0.00013670699929900105,\n",
       " Clade(branch_length=0.000356458, name='238'): 0.0011113528814759859,\n",
       " Clade(branch_length=0.799549426, name='336'): 0.0013458542968645428,\n",
       " Clade(branch_length=0.160706398, name='615'): 0.0011343844781503748,\n",
       " Clade(branch_length=0.823869943, name='738'): 7.549866431187937e-06,\n",
       " Clade(branch_length=5e-09, name='768'): 1.5409050440855388e-05,\n",
       " Clade(branch_length=0.426921679, name='146'): 0.0004270170675276185,\n",
       " Clade(branch_length=0.116662648, name='609'): 0.00017449308353192786,\n",
       " Clade(branch_length=0.177636102, name='401'): 1.0410110219769311e-05,\n",
       " Clade(branch_length=1.009735982, name='917'): 0.00012665782556226993,\n",
       " Clade(branch_length=0.026159116, name='34'): 2.149937432724706e-06,\n",
       " Clade(branch_length=0.015965252, name='468'): 4.922909956953542e-06,\n",
       " Clade(branch_length=0.824668225, name='671'): 0.002804936145132866,\n",
       " Clade(branch_length=0.013998362, name='998'): 1.9135803163929582e-10,\n",
       " Clade(branch_length=1.420569357, name='117'): 8.617366124996444e-05,\n",
       " Clade(branch_length=0.317551056, name='655'): 3.170516013271381e-05,\n",
       " Clade(branch_length=0.038797129, name='121'): 2.8646942204929054e-10,\n",
       " Clade(branch_length=0.05751599, name='919'): 0.0008769224093111406,\n",
       " Clade(branch_length=0.090609604, name='631'): 1.5196731561754368e-05,\n",
       " Clade(branch_length=0.855360199, name='142'): 0.0016826747926788432,\n",
       " Clade(branch_length=0.80529411, name='113'): 0.0011189901545559514,\n",
       " Clade(branch_length=0.263846128, name='461'): 0.00545504708124884,\n",
       " Clade(branch_length=0.846425241, name='856'): 0.0005567566409400774,\n",
       " Clade(branch_length=0.442525594, name='826'): 0.0027516241216956365,\n",
       " Clade(branch_length=0.033944717, name='383'): 0.00019078347601149002,\n",
       " Clade(branch_length=0.415415631, name='396'): 0.0008863641651772084,\n",
       " Clade(branch_length=0.072454831, name='875'): 0.00013796635946745764,\n",
       " Clade(branch_length=0.602040246, name='995'): 0.00010176897490737668,\n",
       " Clade(branch_length=0.276102464, name='432'): 8.546078702374778e-05,\n",
       " Clade(branch_length=0.02298258, name='425'): 1.1667337952795628e-12,\n",
       " Clade(branch_length=0.210961237, name='499'): 6.054698645266347e-06,\n",
       " Clade(branch_length=0.842764764, name='16'): 0.005722880921312155,\n",
       " Clade(branch_length=0.545444893, name='212'): 7.357007001888997e-07,\n",
       " Clade(branch_length=0.276073561, name='443'): 0.0009065271442806284,\n",
       " Clade(branch_length=0.045524084, name='44'): 3.8528387151216206e-13,\n",
       " Clade(branch_length=0.169358553, name='574'): 0.0015160455373728003,\n",
       " Clade(branch_length=1.033712561, name='166'): 0.000763776614214296,\n",
       " Clade(branch_length=0.72421479, name='253'): 0.0003455716917558578,\n",
       " Clade(branch_length=0.958411651, name='492'): 0.013878700748810119,\n",
       " Clade(branch_length=0.210521643, name='457'): 0.002751597653710966,\n",
       " Clade(branch_length=0.367150808, name='64'): 0.0007312831565812414,\n",
       " Clade(branch_length=1.030778491, name='382'): 0.0003370629271082096,\n",
       " Clade(branch_length=0.724618413, name='99'): 0.0001155213506579808,\n",
       " Clade(branch_length=0.01542213, name='554'): 7.510518428023388e-13,\n",
       " Clade(branch_length=0.015161766, name='654'): 2.9131141603002825e-10,\n",
       " Clade(branch_length=1.037209522, name='353'): 0.00025598569618752123,\n",
       " Clade(branch_length=0.140502508, name='287'): 0.0006322276492084579,\n",
       " Clade(branch_length=0.014768513, name='630'): 7.157102087995624e-10,\n",
       " Clade(branch_length=5e-09, name='416'): 0.006047126460528591,\n",
       " Clade(branch_length=6e-09, name='330'): 0.0007361511937230628,\n",
       " Clade(branch_length=0.405170594, name='852'): 0.0019929523579446614,\n",
       " Clade(branch_length=0.980081126, name='310'): 0.003918571755054773,\n",
       " Clade(branch_length=5e-09, name='372'): 0.0012191888468887334,\n",
       " Clade(branch_length=0.083495881, name='128'): 0.0011549730152747675,\n",
       " Clade(branch_length=0.007235642, name='794'): 6.42167054739285e-05,\n",
       " Clade(branch_length=0.038412262, name='687'): 3.27215107362293e-05,\n",
       " Clade(branch_length=1.498078473, name='346'): 0.00010349085925623374,\n",
       " Clade(branch_length=5e-09, name='612'): 1.906894633436664e-05,\n",
       " Clade(branch_length=0.062646808, name='843'): 0.000133317314962763,\n",
       " Clade(branch_length=0.081429208, name='829'): 9.471365497462666e-05,\n",
       " Clade(branch_length=2.005809682, name='544'): 0.011115315422255335,\n",
       " Clade(branch_length=0.072030706, name='754'): 0.00010707180783914912,\n",
       " Clade(branch_length=0.048315449, name='732'): 0.00014370968608969588,\n",
       " Clade(branch_length=0.048133439, name='935'): 0.00019920942404616954,\n",
       " Clade(branch_length=0.013088266, name='734'): 0.00013806536896699206,\n",
       " Clade(branch_length=0.429630221, name='931'): 0.0016284639270896053,\n",
       " Clade(branch_length=0.023912873, name='744'): 1.2644112585183394e-09,\n",
       " Clade(branch_length=0.058474815, name='437'): 4.238355330240461e-05,\n",
       " Clade(branch_length=0.732564191, name='978'): 0.00029722219323896425,\n",
       " Clade(branch_length=0.553253765, name='530'): 5.131067307066399e-05,\n",
       " Clade(branch_length=0.186339188, name='19'): 0.0027782731840102284,\n",
       " Clade(branch_length=0.625239454, name='512'): 0.00012495374665907698,\n",
       " Clade(branch_length=0.111894607, name='547'): 0.00016181822594702014,\n",
       " Clade(branch_length=5e-09, name='710'): 3.997299249217703e-06,\n",
       " Clade(branch_length=0.451777789, name='25'): 0.002301210956825325,\n",
       " Clade(branch_length=0.172568958, name='387'): 8.257521032759261e-05,\n",
       " Clade(branch_length=0.51013847, name='140'): 7.641998705193728e-05,\n",
       " Clade(branch_length=0.07335057, name='974'): 0.0002468499808217374,\n",
       " Clade(branch_length=0.399175086, name='441'): 0.00016750851956711955,\n",
       " Clade(branch_length=0.53551816, name='642'): 0.001941364599283309,\n",
       " Clade(branch_length=0.314253479, name='149'): 0.001205638532253702,\n",
       " Clade(branch_length=0.003043831, name='1'): 0.0008567270600405272,\n",
       " Clade(branch_length=0.372964623, name='340'): 0.004484656339673723,\n",
       " Clade(branch_length=0.040465757, name='623'): 0.003052460600415697,\n",
       " Clade(branch_length=0.376036723, name='950'): 0.002499003523708764,\n",
       " Clade(branch_length=0.118259379, name='632'): 5.310106602941718e-10,\n",
       " Clade(branch_length=0.31158624, name='100'): 0.00010590247307873396,\n",
       " Clade(branch_length=0.011383925, name='297'): 0.00022907152852743814,\n",
       " Clade(branch_length=0.730816743, name='761'): 0.0011739644940449512,\n",
       " Clade(branch_length=0.021508143, name='274'): 1.6214322691719974e-09,\n",
       " Clade(branch_length=0.425938843, name='118'): 0.00015619196731467378,\n",
       " Clade(branch_length=0.84884885, name='480'): 0.00022453777533980508,\n",
       " Clade(branch_length=0.018158034, name='955'): 3.3094643102783274e-08,\n",
       " Clade(branch_length=0.264276795, name='567'): 4.8434960127251586e-05,\n",
       " Clade(branch_length=0.915165954, name='582'): 0.005013577465892869,\n",
       " Clade(branch_length=0.547272767, name='870'): 0.00012996194626484637,\n",
       " Clade(branch_length=0.175173389, name='983'): 0.0008729096904505802,\n",
       " Clade(branch_length=0.014704405, name='367'): 3.1599312676907634e-05,\n",
       " Clade(branch_length=0.186984638, name='937'): 1.245639775859139e-06,\n",
       " Clade(branch_length=0.823904584, name='493'): 0.00024506207881622237,\n",
       " Clade(branch_length=0.465804845, name='130'): 0.003122797615815031,\n",
       " Clade(branch_length=0.053232748, name='929'): 7.594132157994083e-05,\n",
       " Clade(branch_length=0.272865798, name='561'): 0.0006015664518475178,\n",
       " Clade(branch_length=1.50351832, name='76'): 0.00012676841368917534,\n",
       " Clade(branch_length=0.095394268, name='868'): 0.00017061265638238925,\n",
       " Clade(branch_length=0.536237936, name='604'): 0.0008510765166997193,\n",
       " Clade(branch_length=0.713803495, name='500'): 3.939862872660628e-05,\n",
       " Clade(branch_length=0.790921616, name='108'): 0.0018384160862318965,\n",
       " Clade(branch_length=5e-09, name='52'): 0.00042743813658569445,\n",
       " Clade(branch_length=0.060156749, name='334'): 0.00010765360843363372,\n",
       " Clade(branch_length=0.060839477, name='0'): 4.621197500637959e-07,\n",
       " Clade(branch_length=1.069690467, name='390'): 0.00135931189184141,\n",
       " Clade(branch_length=0.047862284, name='652'): 1.2956297874498446e-07,\n",
       " Clade(branch_length=0.649016778, name='350'): 4.373973681896784e-05,\n",
       " Clade(branch_length=0.098839792, name='521'): 0.0005204292328891963,\n",
       " Clade(branch_length=0.284213975, name='756'): 0.00280503880552551,\n",
       " Clade(branch_length=0.409004396, name='677'): 8.067759180569145e-05,\n",
       " Clade(branch_length=0.075292605, name='639'): 0.0006831895354216168,\n",
       " Clade(branch_length=1.009781783, name='728'): 0.0017502876563782182,\n",
       " Clade(branch_length=0.226739217, name='476'): 0.00032937035288693007,\n",
       " Clade(branch_length=0.580062194, name='215'): 0.00020095925123326166,\n",
       " Clade(branch_length=1.533174396, name='205'): 0.0005533382917826461,\n",
       " Clade(branch_length=0.782042796, name='139'): 0.0004663366938298868,\n",
       " Clade(branch_length=0.538504355, name='135'): 0.0013470569193308752,\n",
       " Clade(branch_length=0.157195105, name='993'): 0.0010493659313118705,\n",
       " Clade(branch_length=0.37617864, name='879'): 0.0010364625839304896,\n",
       " Clade(branch_length=1.087384498, name='173'): 0.0006162531332294252,\n",
       " Clade(branch_length=0.014139754, name='862'): 7.498772852215328e-09,\n",
       " Clade(branch_length=5e-09, name='323'): 0.0005223262439491866,\n",
       " Clade(branch_length=0.013508528, name='453'): 3.974020003020386e-12,\n",
       " Clade(branch_length=0.285151306, name='409'): 0.0010303332743435859,\n",
       " Clade(branch_length=0.007589274, name='254'): 5.090944825287768e-13,\n",
       " Clade(branch_length=1.196868994, name='415'): 0.0003348467155902096,\n",
       " Clade(branch_length=0.092964735, name='900'): 5.8905942498324156e-05,\n",
       " Clade(branch_length=6e-09, name='365'): 2.9238265131199862e-06,\n",
       " Clade(branch_length=0.36240721, name='48'): 0.00028836049525258865,\n",
       " Clade(branch_length=1.161304091, name='876'): 0.0003451014405758652,\n",
       " Clade(branch_length=0.812477249, name='199'): 0.0003255287568538045,\n",
       " Clade(branch_length=5e-09, name='213'): 4.449493837723454e-11,\n",
       " Clade(branch_length=0.171170755, name='861'): 0.00023973562068206966,\n",
       " Clade(branch_length=0.277256322, name='40'): 0.00022837543541547622,\n",
       " Clade(branch_length=0.888025805, name='697'): 0.011214369688431492,\n",
       " Clade(branch_length=0.909022946, name='723'): 0.00028489779821118556,\n",
       " Clade(branch_length=0.020082328, name='550'): 0.0004278611578121516,\n",
       " Clade(branch_length=0.060237481, name='909'): 0.00033651747240723116,\n",
       " Clade(branch_length=6e-09, name='643'): 5.728978352430618e-07,\n",
       " Clade(branch_length=0.038624135, name='971'): 2.3749758466327863e-11,\n",
       " Clade(branch_length=0.007632975, name='778'): 1.715176695125201e-05,\n",
       " Clade(branch_length=0.016582454, name='319'): 1.5658096369024726e-11,\n",
       " Clade(branch_length=0.348985026, name='620'): 0.00029882114118767657,\n",
       " Clade(branch_length=0.030910833, name='486'): 2.9675977958741264e-11,\n",
       " Clade(branch_length=6e-09, name='753'): 8.95060079331443e-06,\n",
       " Clade(branch_length=0.432162929, name='736'): 0.0007996995888698401,\n",
       " Clade(branch_length=0.047737872, name='659'): 7.769399570788214e-08,\n",
       " Clade(branch_length=0.647942114, name='381'): 0.0009977235381042587,\n",
       " Clade(branch_length=0.460540575, name='915'): 7.349307335519202e-05,\n",
       " Clade(branch_length=0.101156017, name='371'): 6.58069016968386e-05,\n",
       " Clade(branch_length=0.192876569, name='673'): 8.77947485373619e-05,\n",
       " Clade(branch_length=0.122134126, name='587'): 2.4093079377746944e-05,\n",
       " Clade(branch_length=0.438701514, name='932'): 0.0010967148145531816,\n",
       " Clade(branch_length=0.129659858, name='404'): 1.2068205856720961e-06,\n",
       " Clade(branch_length=0.008344121, name='884'): 1.0239123143675377e-11,\n",
       " Clade(branch_length=5e-09, name='434'): 7.109289863175899e-05,\n",
       " Clade(branch_length=0.400284466, name='4'): 8.812548066248e-05,\n",
       " Clade(branch_length=0.433344009, name='802'): 0.0008890767103001214,\n",
       " Clade(branch_length=0.008234098, name='949'): 1.045147242624605e-11,\n",
       " Clade(branch_length=0.141468297, name='125'): 0.002052882321200671,\n",
       " Clade(branch_length=5e-09, name='990'): 7.011037048798005e-07,\n",
       " Clade(branch_length=0.068625, name='980'): 0.0005129555475089516,\n",
       " Clade(branch_length=0.00746495, name='597'): 1.5652726672020518e-12,\n",
       " Clade(branch_length=0.112421896, name='633'): 0.0003550435925169173,\n",
       " Clade(branch_length=0.008529645, name='307'): 3.044438595559173e-11,\n",
       " Clade(branch_length=0.007326562, name='172'): 6.549336320862616e-11,\n",
       " Clade(branch_length=0.00725685, name='17'): 3.3728844837624803e-13,\n",
       " Clade(branch_length=5e-09, name='846'): 0.0007289617716796019,\n",
       " Clade(branch_length=6e-09, name='646'): 0.00441912262218871,\n",
       " Clade(branch_length=5e-09, name='666'): 0.00019663388387443928,\n",
       " Clade(branch_length=0.093690233, name='35'): 1.8224247794890435e-12,\n",
       " Clade(branch_length=0.014687157, name='749'): -7.908456746099471e-11,\n",
       " Clade(branch_length=0.011067329, name='898'): 3.3805416406980627e-10,\n",
       " Clade(branch_length=0.021055528, name='925'): 3.838794122094026e-07,\n",
       " Clade(branch_length=0.198372423, name='106'): 0.00010559545133815886,\n",
       " Clade(branch_length=0.408575427, name='150'): 3.487708036557152e-05,\n",
       " Clade(branch_length=0.153338777, name='596'): 1.7755965639413305e-05,\n",
       " Clade(branch_length=0.277478851, name='586'): 1.7304471478596338e-06,\n",
       " Clade(branch_length=0.39421181, name='230'): 0.00209402059625772,\n",
       " Clade(branch_length=0.572080291, name='733'): 0.0022354172569451795,\n",
       " Clade(branch_length=0.643412177, name='918'): 0.0008671938493977374,\n",
       " Clade(branch_length=0.342347557, name='377'): 0.00045505360051405994,\n",
       " Clade(branch_length=0.232496969, name='436'): 0.00425816536505086,\n",
       " Clade(branch_length=0.585499549, name='84'): 0.0003006289434300055,\n",
       " Clade(branch_length=0.144188461, name='335'): 3.029970830100892e-06,\n",
       " Clade(branch_length=0.003772061, name='832'): 0.0002527937773794892,\n",
       " Clade(branch_length=0.758801735, name='94'): 0.0007282910999746781,\n",
       " Clade(branch_length=6e-09, name='533'): 0.00024416052429880353,\n",
       " Clade(branch_length=0.411417206, name='827'): 6.895385755526351e-06,\n",
       " Clade(branch_length=0.014260699, name='33'): 0.00030562823587412135,\n",
       " Clade(branch_length=0.022953458, name='6'): 4.968633554301726e-07,\n",
       " Clade(branch_length=0.7592995, name='312'): 1.3259598349867337e-05,\n",
       " Clade(branch_length=5e-09, name='66'): 0.00013712300078089554,\n",
       " Clade(branch_length=0.494370094, name='817'): 0.00013457169191906585,\n",
       " Clade(branch_length=0.510945638, name='241'): 0.0003071980489110641,\n",
       " Clade(branch_length=0.267503299, name='941'): 1.0605025848835052e-05,\n",
       " Clade(branch_length=6e-09, name='160'): 0.00011426438580655881,\n",
       " Clade(branch_length=0.414327323, name='716'): 0.0002991728981228275,\n",
       " Clade(branch_length=0.197644722, name='282'): 7.1074425420380905e-06,\n",
       " Clade(branch_length=0.007306862, name='79'): 3.282528160533167e-11,\n",
       " Clade(branch_length=0.089666131, name='245'): 4.468389599101997e-06,\n",
       " Clade(branch_length=0.069652574, name='260'): 0.00012966559469576548,\n",
       " Clade(branch_length=0.031783883, name='314'): 0.00021845684560794023,\n",
       " Clade(branch_length=0.123636087, name='459'): 9.951794239564224e-05,\n",
       " Clade(branch_length=0.00737924, name='760'): 5.650787794120437e-14,\n",
       " Clade(branch_length=0.611978651, name='625'): 0.0005284819197081656,\n",
       " Clade(branch_length=0.062264734, name='496'): 5.364058883795212e-05,\n",
       " Clade(branch_length=0.314318002, name='368'): 0.004627842548188008,\n",
       " Clade(branch_length=0.192310585, name='781'): 6.398001041146846e-05,\n",
       " Clade(branch_length=0.012473624, name='440'): 0.00017981521384121004,\n",
       " Clade(branch_length=0.194114766, name='694'): 1.4032485542582825e-05,\n",
       " Clade(branch_length=0.112820575, name='556'): 1.9387848368592637e-05,\n",
       " Clade(branch_length=1.407959613, name='930'): 0.0004099638908933978,\n",
       " Clade(branch_length=0.687418879, name='194'): 0.00010633854595191917,\n",
       " Clade(branch_length=0.025159324, name='961'): 8.693986376303426e-05,\n",
       " Clade(branch_length=0.155313942, name='970'): 6.748338206824944e-06,\n",
       " Clade(branch_length=0.390303287, name='789'): 9.419856914629247e-05,\n",
       " Clade(branch_length=0.014047401, name='700'): 1.090072401065062e-09,\n",
       " Clade(branch_length=0.072234079, name='581'): 1.7400474413149227e-05,\n",
       " Clade(branch_length=0.835278801, name='473'): 0.0020635244919814106,\n",
       " Clade(branch_length=0.354487212, name='549'): 3.962760212319247e-06,\n",
       " Clade(branch_length=5e-09, name='426'): 8.16404830118279e-05,\n",
       " Clade(branch_length=5e-09, name='825'): 8.164151092950839e-05,\n",
       " Clade(branch_length=0.007367775, name='648'): -6.533309508622374e-15,\n",
       " Clade(branch_length=0.661710095, name='288'): 4.9332614956494215e-06,\n",
       " Clade(branch_length=0.846781931, name='152'): 0.00066056371149342,\n",
       " Clade(branch_length=0.100521335, name='91'): 0.00010015781799868345,\n",
       " Clade(branch_length=0.030401557, name='154'): 2.9072861071847405e-14,\n",
       " Clade(branch_length=0.077463288, name='389'): 4.390500246970229e-05,\n",
       " Clade(branch_length=0.840010436, name='237'): 0.0052530315498759235,\n",
       " Clade(branch_length=0.188848207, name='159'): 4.200930238570171e-06,\n",
       " Clade(branch_length=0.671484895, name='290'): 0.000514680981011471,\n",
       " Clade(branch_length=1.210010451, name='594'): 0.0007447176839399822,\n",
       " Clade(branch_length=0.019761165, name='815'): 4.0902364343440214e-07,\n",
       " Clade(branch_length=0.022513849, name='799'): 4.197901334418669e-10,\n",
       " Clade(branch_length=0.087511867, name='688'): 1.3850296906284585e-11,\n",
       " Clade(branch_length=0.171638518, name='405'): 9.961643477337862e-05,\n",
       " Clade(branch_length=0.444319191, name='690'): 0.0004270817795941079,\n",
       " Clade(branch_length=0.374235832, name='250'): 0.0017274323920613722,\n",
       " Clade(branch_length=0.541227524, name='26'): 5.441777993291916e-12,\n",
       " Clade(branch_length=0.01513631, name='370'): 3.163410480233702e-10,\n",
       " Clade(branch_length=0.088713841, name='518'): 3.7494393333888833e-06,\n",
       " Clade(branch_length=0.465298313, name='795'): 0.00019434114636216496,\n",
       " Clade(branch_length=0.464917533, name='737'): 0.0008386327844380727,\n",
       " Clade(branch_length=0.030631749, name='634'): 1.1530989867428378e-10,\n",
       " Clade(branch_length=0.155141143, name='286'): 0.000127311609464751,\n",
       " Clade(branch_length=1.494668331, name='305'): 0.007036768048014052,\n",
       " Clade(branch_length=0.007463297, name='414'): 2.6136880898076746e-10,\n",
       " Clade(branch_length=0.251212331, name='695'): 1.61336727823531e-05,\n",
       " Clade(branch_length=0.441709946, name='775'): 0.00036590952388328987,\n",
       " Clade(branch_length=0.007454265, name='8'): 9.546154604688269e-15,\n",
       " Clade(branch_length=0.436442753, name='20'): 2.8174222555309256e-05,\n",
       " Clade(branch_length=0.067130876, name='263'): 3.2798015302808974e-05,\n",
       " Clade(branch_length=0.007435953, name='428'): 2.6231835733948897e-10,\n",
       " Clade(branch_length=0.006751157, name='963'): 6.910857322065298e-05,\n",
       " Clade(branch_length=0.865700418, name='491'): 0.0028507800219370926,\n",
       " Clade(branch_length=0.030560554, name='853'): 9.793058542724608e-12,\n",
       " Clade(branch_length=0.204356347, name='444'): 0.0013169940362604304,\n",
       " Clade(branch_length=0.007444315, name='897'): 2.6203128746728684e-10,\n",
       " Clade(branch_length=0.014881114, name='704'): -1.1650163547525774e-11,\n",
       " Clade(branch_length=0.290564326, name='927'): 0.010729468622524966,\n",
       " Clade(branch_length=0.014878596, name='373'): 1.3112064753244574e-10,\n",
       " Clade(branch_length=0.012013627, name='364'): 6.542192011351753e-06,\n",
       " Clade(branch_length=0.037718994, name='62'): 2.3386081183099597e-10,\n",
       " Clade(branch_length=0.830914051, name='247'): 0.00015995528657309263,\n",
       " Clade(branch_length=0.470750803, name='225'): 0.004672928636841194,\n",
       " Clade(branch_length=0.417415876, name='821'): 0.000264318644832139,\n",
       " Clade(branch_length=0.077014779, name='890'): 0.0008362176372311948,\n",
       " Clade(branch_length=0.008312826, name='882'): 1.0273614990458533e-11,\n",
       " Clade(branch_length=0.682305291, name='892'): 0.000161702871346829,\n",
       " Clade(branch_length=0.205602291, name='564'): 0.0003225387763942212,\n",
       " Clade(branch_length=0.460332352, name='706'): 0.0012199103615416513,\n",
       " Clade(branch_length=0.023445458, name='667'): 0.0004474502240163772,\n",
       " Clade(branch_length=0.003916901, name='676'): 0.00024344599041319578,\n",
       " Clade(branch_length=0.340364222, name='337'): 7.41835334711636e-09,\n",
       " Clade(branch_length=1.298134266, name='553'): 0.010246635341375812,\n",
       " Clade(branch_length=0.318069435, name='834'): 0.003031733973338479,\n",
       " Clade(branch_length=0.663510187, name='959'): 0.0018544382018994593,\n",
       " Clade(branch_length=0.007165064, name='886'): 5.14152069294149e-05,\n",
       " Clade(branch_length=1.389602812, name='791'): 0.10472103325682122,\n",
       " Clade(branch_length=0.154045302, name='661'): 0.001567847324350448,\n",
       " Clade(branch_length=0.091656614, name='953'): 0.0005669343814169843,\n",
       " Clade(branch_length=0.514484631, name='600'): 0.0012944480019264797,\n",
       " Clade(branch_length=0.668164889, name='408'): 0.0012187202430855688,\n",
       " Clade(branch_length=0.717135032, name='611'): 7.288018993330697e-07,\n",
       " Clade(branch_length=0.067634831, name='392'): 0.00024063739387577497,\n",
       " Clade(branch_length=0.313887919, name='266'): 0.00014684920950744384,\n",
       " Clade(branch_length=0.014387722, name='808'): 1.2947079272433044e-12,\n",
       " Clade(branch_length=0.42492994, name='783'): 0.0006226415610508992,\n",
       " Clade(branch_length=0.223185567, name='947'): 0.00020652854551687423,\n",
       " Clade(branch_length=0.007207365, name='73'): 5.176935049078319e-12,\n",
       " Clade(branch_length=0.515992714, name='975'): 0.0005127573063557632,\n",
       " Clade(branch_length=0.645328844, name='803'): 5.466197457503264e-05,\n",
       " Clade(branch_length=5e-09, name='235'): 0.00247378592066104,\n",
       " Clade(branch_length=0.78224379, name='417'): 0.0007132854946874884,\n",
       " Clade(branch_length=0.220382592, name='948'): 2.1308795355400663e-06,\n",
       " Clade(branch_length=0.056165953, name='707'): 2.2022048345948267e-10,\n",
       " Clade(branch_length=0.097178238, name='713'): 5.810392168800882e-05,\n",
       " Clade(branch_length=0.58476772, name='433'): 0.004078952468648658,\n",
       " Clade(branch_length=0.279096117, name='551'): 5.297475937765443e-07,\n",
       " Clade(branch_length=0.800298305, name='591'): 0.0001488921229439591,\n",
       " Clade(branch_length=0.603444265, name='641'): 0.0028335589036197917,\n",
       " Clade(branch_length=0.760810513, name='203'): 0.003923257421951898,\n",
       " Clade(branch_length=0.241408926, name='46'): 0.0003572938110187692,\n",
       " Clade(branch_length=0.271547225, name='780'): 0.0010633115893267904,\n",
       " Clade(branch_length=0.014379295, name='55'): 2.2465082557960327e-14,\n",
       " Clade(branch_length=0.028262486, name='712'): 7.936112230729788e-05,\n",
       " Clade(branch_length=0.290743946, name='424'): 2.5036698577989643e-05,\n",
       " Clade(branch_length=0.038114382, name='296'): 1.6860666427115548e-06,\n",
       " Clade(branch_length=0.109862022, name='952'): 1.2624178910775905e-06,\n",
       " Clade(branch_length=0.022801542, name='869'): 6.10128116198783e-07,\n",
       " Clade(branch_length=0.356450926, name='81'): 0.00010609970957512743,\n",
       " Clade(branch_length=6e-09, name='726'): 0.00026039665980371685,\n",
       " Clade(branch_length=0.318192865, name='47'): 0.0002811362074098974,\n",
       " Clade(branch_length=0.084333871, name='711'): 9.70650604608595e-06,\n",
       " Clade(branch_length=0.042456816, name='488'): 0.0008907719252070139,\n",
       " Clade(branch_length=0.443982831, name='184'): 0.0012581247267652745,\n",
       " Clade(branch_length=0.007470663, name='858'): 4.7584665931745564e-11,\n",
       " Clade(branch_length=0.374561177, name='686'): 0.00023882741003705758,\n",
       " Clade(branch_length=5e-09, name='123'): 0.0035270246719696927,\n",
       " Clade(branch_length=0.025115592, name='920'): 2.289945051807483e-06,\n",
       " Clade(branch_length=0.41366762, name='839'): 0.0003889259981449097,\n",
       " Clade(branch_length=0.699746289, name='129'): 0.0004411414174387213,\n",
       " Clade(branch_length=0.240826883, name='112'): 0.0006680570292003704,\n",
       " Clade(branch_length=0.479705143, name='836'): 0.00024839866865043194,\n",
       " Clade(branch_length=1.247267931, name='63'): 0.00025930205118721066,\n",
       " Clade(branch_length=0.791761135, name='222'): 0.005853239256913036,\n",
       " Clade(branch_length=0.052668432, name='406'): 1.661390300513337e-06,\n",
       " Clade(branch_length=0.136362492, name='209'): 9.288149334917021e-07,\n",
       " Clade(branch_length=0.053829835, name='893'): 0.0012341145894979805,\n",
       " Clade(branch_length=0.875400885, name='427'): 0.005293994919874275,\n",
       " Clade(branch_length=0.015522086, name='872'): 8.96259323846679e-07,\n",
       " Clade(branch_length=0.616332286, name='866'): 3.003443931082058e-05,\n",
       " Clade(branch_length=0.739189871, name='967'): 0.0005187874996386702,\n",
       " Clade(branch_length=0.233290598, name='344'): 2.652705456973218e-05,\n",
       " Clade(branch_length=0.123134554, name='813'): 0.0001240522044552684,\n",
       " Clade(branch_length=0.219313678, name='501'): 1.2565735176206737e-06,\n",
       " Clade(branch_length=1.39687972, name='438'): 0.010091591347961377,\n",
       " Clade(branch_length=0.008313287, name='204'): 1.0344897469737728e-11,\n",
       " Clade(branch_length=0.264938003, name='645'): 1.4942886347342693e-05,\n",
       " Clade(branch_length=0.019693466, name='635'): 8.171807465085265e-06,\n",
       " Clade(branch_length=0.118167484, name='720'): 5.438330912913024e-07,\n",
       " Clade(branch_length=5e-09, name='155'): 0.0002873694422837925,\n",
       " Clade(branch_length=0.015338129, name='229'): -2.6996585086466405e-15,\n",
       " Clade(branch_length=0.02145961, name='663'): 7.476094096955521e-13,\n",
       " Clade(branch_length=0.007183387, name='576'): 1.941331116288794e-10,\n",
       " Clade(branch_length=0.53660637, name='912'): 0.00024066400118142987,\n",
       " Clade(branch_length=0.279035896, name='422'): 0.0007239258944484278,\n",
       " Clade(branch_length=6e-09, name='960'): 0.00023243730235366904,\n",
       " Clade(branch_length=0.007979476, name='621'): 0.00034791292288340715,\n",
       " Clade(branch_length=6e-09, name='289'): 0.0017581251974094544,\n",
       " Clade(branch_length=0.645040623, name='185'): 0.0007804232444948888,\n",
       " Clade(branch_length=5e-09, name='481'): 7.44178675202322e-05,\n",
       " Clade(branch_length=0.543425235, name='757'): 0.0029829467050780808,\n",
       " Clade(branch_length=0.139268115, name='280'): 1.1495457873073316e-05,\n",
       " Clade(branch_length=0.284214343, name='616'): 6.71244889469365e-05,\n",
       " Clade(branch_length=0.17077086, name='503'): 2.34620471572001e-06,\n",
       " Clade(branch_length=0.677467103, name='984'): 0.002392748676680975,\n",
       " Clade(branch_length=0.070728949, name='105'): 0.000350223165305323,\n",
       " Clade(branch_length=0.033825018, name='613'): 1.1711706562985966e-05,\n",
       " Clade(branch_length=0.194484843, name='277'): 1.681465423802762e-05,\n",
       " Clade(branch_length=0.287914035, name='269'): 0.0033663634899016885,\n",
       " Clade(branch_length=0.008578453, name='988'): 0.0012229099389162068,\n",
       " Clade(branch_length=6e-09, name='114'): 0.0006363144510790191,\n",
       " Clade(branch_length=0.684862362, name='482'): 0.0014152088790853174,\n",
       " Clade(branch_length=0.385247572, name='731'): 6.106791967321449e-05,\n",
       " Clade(branch_length=5e-09, name='202'): 0.0007635786584820448,\n",
       " Clade(branch_length=0.014610978, name='649'): 0.00019000526988475336,\n",
       " Clade(branch_length=0.016339358, name='447'): 0.0006207053455775766,\n",
       " Clade(branch_length=0.284919569, name='301'): 6.608559367884014e-05,\n",
       " Clade(branch_length=0.762068164, name='911'): 2.2604839358321253e-05,\n",
       " Clade(branch_length=1.294508866, name='490'): 0.00013458569880079075,\n",
       " Clade(branch_length=0.231924113, name='87'): 0.0009269147910088279,\n",
       " Clade(branch_length=0.021602151, name='60'): 0.00015983936877677783,\n",
       " Clade(branch_length=0.490233191, name='448'): 0.006721648037137838,\n",
       " Clade(branch_length=0.306813255, name='965'): 0.0007006668950190931,\n",
       " Clade(branch_length=0.074993255, name='572'): 0.0002793214608409259,\n",
       " Clade(branch_length=0.133506393, name='860'): 1.0722501724386106e-05,\n",
       " Clade(branch_length=0.014783174, name='515'): 0.00015247771089874922,\n",
       " Clade(branch_length=0.423919504, name='672'): 0.0001643332274627239,\n",
       " Clade(branch_length=5e-09, name='535'): 2.9411500426937024e-05,\n",
       " Clade(branch_length=0.033600834, name='740'): 4.861529872692234e-06,\n",
       " Clade(branch_length=0.438486525, name='51'): 0.0015272709363612772,\n",
       " Clade(branch_length=0.707255957, name='463'): 0.0035136498181368597,\n",
       " Clade(branch_length=0.416848223, name='110'): 0.0016065524879341655,\n",
       " Clade(branch_length=0.077084356, name='889'): 8.146603543026949e-10,\n",
       " Clade(branch_length=0.007324848, name='717'): 9.70050288812332e-10,\n",
       " Clade(branch_length=0.289680159, name='9'): 0.0029617247894958895,\n",
       " Clade(branch_length=0.008870193, name='151'): 0.00027940436526504875,\n",
       " Clade(branch_length=0.048379496, name='471'): 0.00019532125957646949,\n",
       " Clade(branch_length=0.007532889, name='722'): 3.759835156822977e-10,\n",
       " Clade(branch_length=0.168821304, name='467'): 0.0007075388737737891,\n",
       " Clade(branch_length=0.606274175, name='981'): 0.0012720210803495483,\n",
       " Clade(branch_length=0.083199797, name='24'): 0.0005771328985325921,\n",
       " Clade(branch_length=0.091215262, name='936'): 1.1389381547915259e-05,\n",
       " Clade(branch_length=0.014979251, name='956'): 1.8907434038544507e-10,\n",
       " Clade(branch_length=0.091930977, name='186'): 4.896440028380616e-06,\n",
       " Clade(branch_length=0.190179071, name='294'): 7.621282064639417e-06,\n",
       " Clade(branch_length=0.007370881, name='394'): 1.7673297043621194e-09,\n",
       " Clade(branch_length=0.007201515, name='855'): 0.0003087606192457357,\n",
       " Clade(branch_length=0.022077202, name='650'): 2.9764592569774372e-05,\n",
       " Clade(branch_length=0.00765557, name='543'): 3.5606199150622652e-12,\n",
       " Clade(branch_length=0.346633982, name='164'): 0.0010622430231692378,\n",
       " Clade(branch_length=0.023525911, name='326'): 1.8832616063513525e-07,\n",
       " Clade(branch_length=0.007950343, name='845'): 8.265290223148684e-05,\n",
       " Clade(branch_length=0.792372274, name='691'): 0.0030102515317747525,\n",
       " Clade(branch_length=0.76642053, name='400'): 0.00020450903796679552,\n",
       " Clade(branch_length=0.067198084, name='399'): 2.2002189288527447e-06,\n",
       " Clade(branch_length=0.68254226, name='161'): 0.001052710951252247,\n",
       " Clade(branch_length=0.12081433, name='29'): 4.175232068727553e-05,\n",
       " Clade(branch_length=0.048464187, name='67'): 0.0001040824082890433,\n",
       " Clade(branch_length=0.023099246, name='840'): 0.00036719394804358654,\n",
       " Clade(branch_length=0.087212878, name='727'): 8.868955115423975e-07,\n",
       " Clade(branch_length=6e-09, name='657'): 4.73205060943708e-08,\n",
       " Clade(branch_length=6e-09, name='450'): 1.4733376875227264e-07,\n",
       " Clade(branch_length=0.284522522, name='702'): 3.3835154883730885e-06,\n",
       " Clade(branch_length=0.045887532, name='923'): 0.0001848411314771251,\n",
       " Clade(branch_length=0.007258098, name='513'): 1.061037063639276e-11,\n",
       " Clade(branch_length=0.794933971, name='489'): 0.0008928061383837295,\n",
       " Clade(branch_length=1.445032067, name='458'): 0.007487679731035695,\n",
       " Clade(branch_length=0.021149577, name='588'): 6.313694178645873e-05,\n",
       " Clade(branch_length=0.190958568, name='306'): 0.0006680173283669106,\n",
       " Clade(branch_length=0.034980854, name='49'): 2.7007636063157026e-10,\n",
       " Clade(branch_length=0.869517605, name='545'): 0.0014224777854539826,\n",
       " Clade(branch_length=0.038060201, name='261'): 0.0005347887021335661,\n",
       " Clade(branch_length=0.00982715, name='548'): 2.5372371458237985e-09,\n",
       " Clade(branch_length=0.458448072, name='823'): 5.084147392252437e-05,\n",
       " Clade(branch_length=6e-09, name='341'): 0.0015745808086474306,\n",
       " Clade(branch_length=0.580371674, name='378'): 0.0038633562804058644,\n",
       " Clade(branch_length=0.218079933, name='887'): 0.0003141086293582613,\n",
       " Clade(branch_length=0.174466359, name='124'): 0.0003955411820980305,\n",
       " Clade(branch_length=0.031202055, name='559'): 4.413074167446245e-05,\n",
       " Clade(branch_length=0.027042052, name='529'): 4.217406331848012e-07,\n",
       " Clade(branch_length=0.001454131, name='508'): 0.00028703568759689266,\n",
       " Clade(branch_length=1.457126986, name='442'): 0.003387507889479442,\n",
       " Clade(branch_length=0.733230434, name='145'): 0.0008426625468829916,\n",
       " Clade(branch_length=0.282574408, name='922'): 0.000422522533839112,\n",
       " Clade(branch_length=0.172351681, name='43'): 2.5348525924920597e-06,\n",
       " Clade(branch_length=0.152569314, name='475'): 8.301539013245386e-07,\n",
       " Clade(branch_length=0.023475911, name='739'): 0.00404415981703305,\n",
       " Clade(branch_length=0.08789956, name='837'): 0.00016449103911416878,\n",
       " Clade(branch_length=0.036924587, name='259'): 5.121974473128241e-11,\n",
       " Clade(branch_length=0.128297516, name='537'): 0.00015866889568236058,\n",
       " Clade(branch_length=0.64127117, name='881'): 0.008097086277270881,\n",
       " Clade(branch_length=0.231640632, name='969'): 2.6716000587747065e-05,\n",
       " Clade(branch_length=6e-09, name='719'): 0.0003152236968277223,\n",
       " Clade(branch_length=0.338526845, name='680'): 8.140629563031471e-07,\n",
       " Clade(branch_length=0.010956, name='407'): 0.0027426378949935654,\n",
       " Clade(branch_length=0.018643537, name='895'): 0.0018934306436774431,\n",
       " Clade(branch_length=0.144008001, name='902'): 0.0031341287062719766,\n",
       " Clade(branch_length=0.188283017, name='818'): 0.0001595913495346217,\n",
       " Clade(branch_length=0.049879201, name='479'): 0.00033457560473316875,\n",
       " Clade(branch_length=0.106390259, name='320'): 0.00017059735697339578,\n",
       " Clade(branch_length=0.149542168, name='268'): 5.851377294700533e-07,\n",
       " Clade(branch_length=0.277227687, name='180'): 0.009596876200827317,\n",
       " Clade(branch_length=0.443298153, name='745'): 0.0006452495158899129,\n",
       " Clade(branch_length=0.536680243, name='865'): 0.00031934767303386957,\n",
       " Clade(branch_length=0.050569935, name='851'): 0.0005250523054905092,\n",
       " Clade(branch_length=0.028541981, name='563'): 1.0750785105140837e-05,\n",
       " Clade(branch_length=1.257485648, name='217'): 0.010369015246408791,\n",
       " Clade(branch_length=0.007352733, name='308'): 0.0002592779367465908,\n",
       " Clade(branch_length=0.006967322, name='762'): 0.0001475484203655154,\n",
       " Clade(branch_length=0.345674028, name='39'): 3.8464571310103395e-05,\n",
       " Clade(branch_length=0.137382035, name='811'): 0.0021139428158974865,\n",
       " Clade(branch_length=0.474873408, name='23'): 0.0003160281588186768,\n",
       " Clade(branch_length=0.984246434, name='595'): 0.010118044959193037,\n",
       " Clade(branch_length=0.960079126, name='683'): 0.001826195412835347,\n",
       " Clade(branch_length=0.183566816, name='627'): 8.721351625304143e-06,\n",
       " Clade(branch_length=0.007835153, name='357'): 1.3584652264383378e-05,\n",
       " Clade(branch_length=0.038396454, name='464'): 5.224756724415505e-05,\n",
       " Clade(branch_length=0.432154978, name='877'): 0.0031522033401813337,\n",
       " Clade(branch_length=0.111929194, name='527'): 0.00042900838874838796,\n",
       " Clade(branch_length=0.006780946, name='992'): 1.5696604709377658e-05,\n",
       " Clade(branch_length=0.271878411, name='653'): 1.6402766241268249e-06,\n",
       " Clade(branch_length=0.691409902, name='132'): 0.0029159081510386257,\n",
       " Clade(branch_length=0.459374225, name='243'): 0.002965426205894393,\n",
       " Clade(branch_length=0.045784714, name='384'): 1.415528676187567e-06,\n",
       " Clade(branch_length=0.498797888, name='964'): 0.024219329306412622,\n",
       " Clade(branch_length=0.17273534, name='769'): 0.0003995049876600722,\n",
       " Clade(branch_length=0.031608098, name='369'): 5.0242614429469933e-05,\n",
       " Clade(branch_length=0.15216044, name='779'): 0.0018423293961338885,\n",
       " Clade(branch_length=0.709174823, name='699'): 0.0013614161986094675,\n",
       " Clade(branch_length=0.618133048, name='991'): 0.008928914786717139,\n",
       " Clade(branch_length=0.331582129, name='562'): 0.0014098455248166691,\n",
       " Clade(branch_length=0.026081453, name='375'): 0.0007900488150404264,\n",
       " Clade(branch_length=0.231773603, name='122'): 0.00030872064556692556,\n",
       " Clade(branch_length=0.551538849, name='934'): 0.00045046320195592525,\n",
       " Clade(branch_length=0.092940746, name='397'): 0.00040013893879842726,\n",
       " Clade(branch_length=5e-09, name='608'): 2.3071332359657843e-06,\n",
       " Clade(branch_length=0.029772274, name='538'): 0.0006921077320855329,\n",
       " Clade(branch_length=0.007361264, name='270'): -9.007318868411413e-13,\n",
       " Clade(branch_length=0.335850691, name='962'): 0.0006539006186698146,\n",
       " Clade(branch_length=1.022641035, name='577'): 0.0012194356948561666,\n",
       " Clade(branch_length=0.222404356, name='933'): 2.515833624870408e-05,\n",
       " Clade(branch_length=0.810177957, name='864'): 2.958758641971721e-05,\n",
       " Clade(branch_length=0.09641508, name='571'): 0.00019787094015871398,\n",
       " Clade(branch_length=0.215527969, name='196'): 8.579913824691657e-06,\n",
       " Clade(branch_length=0.007468171, name='729'): 5.754938969884884e-15,\n",
       " Clade(branch_length=0.391826573, name='359'): 4.344416123090157e-05,\n",
       " Clade(branch_length=0.142111495, name='41'): 3.433966867718312e-05,\n",
       " Clade(branch_length=0.014197743, name='910'): 6.721986912181205e-10,\n",
       " Clade(branch_length=0.419600669, name='536'): 0.0006850640141948349,\n",
       " Clade(branch_length=0.067575246, name='841'): 6.974505852757693e-05,\n",
       " Clade(branch_length=6e-09, name='916'): 0.0015906022240675677,\n",
       " Clade(branch_length=0.360500987, name='226'): 0.002567775076359426,\n",
       " Clade(branch_length=0.072769612, name='622'): 9.241657555062753e-06,\n",
       " Clade(branch_length=6e-09, name='257'): 2.9289029120024575e-10,\n",
       " Clade(branch_length=0.071464348, name='198'): 0.0010188639693095966,\n",
       " Clade(branch_length=0.225971488, name='362'): 3.510785785360912e-06,\n",
       " Clade(branch_length=0.970236367, name='376'): 0.001030992595559817,\n",
       " Clade(branch_length=0.345341751, name='926'): 3.736893147745717e-07,\n",
       " Clade(branch_length=5e-09, name='423'): 5.304427337624482e-05,\n",
       " Clade(branch_length=0.007276306, name='267'): 1.8141728031071605e-09,\n",
       " Clade(branch_length=0.019171025, name='871'): 0.00014654467115639055,\n",
       " Clade(branch_length=0.584149303, name='435'): 0.004754917656929992,\n",
       " Clade(branch_length=0.615538953, name='169'): 0.0006458869086103092,\n",
       " Clade(branch_length=0.254050685, name='242'): 1.0745043247709894e-05,\n",
       " Clade(branch_length=6e-09, name='568'): 4.434255688016041e-06,\n",
       " Clade(branch_length=0.126618932, name='72'): 4.996962260580064e-06,\n",
       " Clade(branch_length=0.124056888, name='505'): 3.275581817197166e-05,\n",
       " Clade(branch_length=0.227217072, name='570'): 0.00174973008086794,\n",
       " Clade(branch_length=0.026505465, name='958'): 1.0035479769947387e-12,\n",
       " Clade(branch_length=0.005143019, name='460'): 4.81047258338093e-05,\n",
       " Clade(branch_length=6e-09, name='224'): 4.95779363732844e-06,\n",
       " Clade(branch_length=0.317826258, name='240'): 0.0014708654764347435,\n",
       " Clade(branch_length=0.159773572, name='446'): 4.467911727474204e-05,\n",
       " Clade(branch_length=0.564325768, name='664'): 0.003808707039473758,\n",
       " Clade(branch_length=0.68413319, name='714'): 0.0013530778260027936,\n",
       " Clade(branch_length=0.657918198, name='540'): 0.0016918695566321051,\n",
       " Clade(branch_length=1.132195166, name='796'): 0.004972449140061854,\n",
       " Clade(branch_length=0.024036634, name='82'): 7.517842449907655e-05,\n",
       " Clade(branch_length=6e-09, name='reference'): 3.9984249181968064e-05,\n",
       " Clade(branch_length=0.153363734, name='606'): 3.885845113412347e-06,\n",
       " Clade(branch_length=0.405731709, name='358'): 0.0013826251675051148,\n",
       " Clade(branch_length=0.202101977, name='674'): 6.387065145520095e-06,\n",
       " Clade(branch_length=0.5685845, name='494'): 0.001425506992533899,\n",
       " Clade(branch_length=0.228543369, name='328'): 0.0002486429782907315,\n",
       " Clade(branch_length=0.538169884, name='191'): 0.0001798218035176814,\n",
       " Clade(branch_length=0.651713586, name='98'): 0.0007092883954391753,\n",
       " Clade(branch_length=0.409632807, name='816'): 0.00456353289613511,\n",
       " Clade(branch_length=0.010625229, name='136'): 5.6557242995975815e-08,\n",
       " Clade(branch_length=0.149553139, name='484'): 0.0005869563017768725,\n",
       " Clade(branch_length=0.318546438, name='421'): 9.666434654311655e-06,\n",
       " Clade(branch_length=0.767457035, name='211'): 0.00041774541380610176,\n",
       " Clade(branch_length=0.164209333, name='656'): 8.276437040953816e-05,\n",
       " Clade(branch_length=0.351139714, name='658'): 3.470905027322524e-05,\n",
       " Clade(branch_length=0.354823091, name='721'): 0.0001884466637036348,\n",
       " Clade(branch_length=0.195090457, name='10'): 0.0010518366487801782,\n",
       " Clade(branch_length=0.023985088, name='232'): 7.2453383241404605e-06,\n",
       " Clade(branch_length=0.467296347, name='777'): 0.004599547071596867,\n",
       " Clade(branch_length=0.784258071, name='483'): 0.0012895888724378135,\n",
       " Clade(branch_length=0.338845723, name='742'): 6.739205061079123e-06,\n",
       " Clade(branch_length=0.834550048, name='819'): 0.0012118751695872358,\n",
       " Clade(branch_length=0.078074548, name='579'): 0.0009326016113138701,\n",
       " Clade(branch_length=0.007482779, name='116'): 0.0001639412323664754,\n",
       " Clade(branch_length=0.581555933, name='380'): 0.001403464917568976,\n",
       " Clade(branch_length=0.313030749, name='31'): 0.0010241858279433525,\n",
       " Clade(branch_length=0.007098103, name='325'): 0.0001728258959809972,\n",
       " Clade(branch_length=0.790113976, name='662'): 0.0018289730365417295,\n",
       " Clade(branch_length=5e-09, name='13'): 0.0002167064953455292,\n",
       " Clade(branch_length=0.023094873, name='298'): 9.253814759837484e-11,\n",
       " Clade(branch_length=0.54145158, name='546'): 0.0020386825134931846,\n",
       " Clade(branch_length=0.452405789, name='256'): 0.0020289022733329474,\n",
       " Clade(branch_length=0.279989972, name='863'): 4.853990179342574e-05,\n",
       " Clade(branch_length=0.379120071, name='418'): 0.0005529117696122954,\n",
       " Clade(branch_length=0.599384401, name='244'): 0.003553834753695038,\n",
       " Clade(branch_length=0.815085028, name='618'): 0.001126124393077945,\n",
       " Clade(branch_length=0.114084449, name='867'): 0.00019178690522569925,\n",
       " Clade(branch_length=0.123362157, name='167'): 4.33734654069674e-06,\n",
       " Clade(branch_length=0.52488477, name='842'): 0.008128618281017748,\n",
       " Clade(branch_length=0.045392552, name='316'): 8.325313336056702e-06,\n",
       " Clade(branch_length=0.213523074, name='542'): 7.144584120456735e-05,\n",
       " Clade(branch_length=0.281457457, name='679'): 6.129530000615694e-05,\n",
       " Clade(branch_length=0.351054101, name='429'): 0.00104447544262188,\n",
       " Clade(branch_length=0.771190679, name='86'): 0.0015098143288489782,\n",
       " Clade(branch_length=5e-09, name='92'): 5.026734751172315e-05,\n",
       " Clade(branch_length=0.008063772, name='138'): 3.2881306420675266e-09,\n",
       " Clade(branch_length=0.626928443, name='751'): 2.8632939373922652e-05,\n",
       " Clade(branch_length=0.428033482, name='311'): 0.0027202422338711845,\n",
       " Clade(branch_length=0.89679068, name='913'): 0.0017960157012662198,\n",
       " Clade(branch_length=1.394073273, name='80'): 6.0046268300964264e-05,\n",
       " Clade(branch_length=0.503540717, name='7'): 0.002344812371838564,\n",
       " Clade(branch_length=0.90555284, name='772'): 0.0037013720076995893,\n",
       " Clade(branch_length=0.007083462, name='601'): 5.200740316465573e-05,\n",
       " Clade(branch_length=0.608553737, name='22'): 7.946960288615573e-06,\n",
       " Clade(branch_length=5e-09, name='698'): 5.983703021407306e-05,\n",
       " Clade(branch_length=0.56294692, name='206'): 0.006529261297261487,\n",
       " Clade(branch_length=0.196203939, name='520'): 0.0026734467886186546,\n",
       " Clade(branch_length=6e-09, name='986'): 0.0002685190511587484,\n",
       " Clade(branch_length=0.532470899, name='619'): 0.006902964251894837,\n",
       " Clade(branch_length=0.237790739, name='497'): 0.0035767489253583813,\n",
       " Clade(branch_length=0.013448878, name='83'): 0.00015599943411493043,\n",
       " Clade(branch_length=0.610623524, name='602'): 0.002800244193837413,\n",
       " Clade(branch_length=5e-09, name='831'): 0.021627390971959457,\n",
       " Clade(branch_length=0.657184289, name='593'): 0.0011266963314934858,\n",
       " Clade(branch_length=0.188476228, name='746'): 0.00034748601489990275,\n",
       " Clade(branch_length=0.014814959, name='119'): 1.0196316503750845e-11,\n",
       " Clade(branch_length=0.044356051, name='271'): 6.33850923691467e-07,\n",
       " Clade(branch_length=0.015407918, name='255'): 4.2077729712079215e-09,\n",
       " Clade(branch_length=0.054436257, name='905'): 3.330950488299392e-05,\n",
       " Clade(branch_length=0.654570916, name='509'): 0.0014267098493692583,\n",
       " Clade(branch_length=0.023364212, name='847'): 2.1385779115433183e-09,\n",
       " Clade(branch_length=0.071342887, name='15'): 9.831087194986622e-10,\n",
       " Clade(branch_length=0.504854736, name='188'): 0.0011595423908048077,\n",
       " Clade(branch_length=0.081138443, name='137'): 1.636359464570209e-06,\n",
       " Clade(branch_length=0.020312179, name='90'): 0.0009646451618684361,\n",
       " Clade(branch_length=0.20973527, name='904'): 8.11622042017294e-05,\n",
       " Clade(branch_length=0.039428838, name='701'): 1.3818835133245698e-11,\n",
       " Clade(branch_length=0.350700413, name='692'): 1.2097991525432994e-05,\n",
       " Clade(branch_length=0.018014118, name='388'): 0.0010877049260488664,\n",
       " Clade(branch_length=6e-09, name='628'): 0.0015751804490487787,\n",
       " Clade(branch_length=0.008141328, name='352'): 0.0002576996477120348,\n",
       " Clade(branch_length=0.268979334, name='848'): 0.0002660178210678643,\n",
       " Clade(branch_length=0.016908319, name='348'): 6.631479388595381e-12,\n",
       " Clade(branch_length=0.016109933, name='592'): 4.551699305529395e-10,\n",
       " Clade(branch_length=5e-09, name='989'): 0.0026401119663031366,\n",
       " Clade(branch_length=0.21031825, name='165'): 1.2951388740937664e-05,\n",
       " Clade(branch_length=6e-09, name='708'): 0.0001435577130544643,\n",
       " Clade(branch_length=0.273336758, name='590'): 0.003111611300457396,\n",
       " Clade(branch_length=5e-09, name='776'): 2.3146240767404376e-06,\n",
       " Clade(branch_length=0.157920057, name='534'): 1.0508869458368094e-06,\n",
       " Clade(branch_length=0.949785459, name='979'): 0.005078033510813116,\n",
       " Clade(branch_length=0.449769638, name='32'): 0.0005369841372018659,\n",
       " Clade(branch_length=0.026710372, name='386'): -2.2102218541408677e-17,\n",
       " Clade(branch_length=1.005554305, name='629'): 6.897045994435718e-05,\n",
       " Clade(branch_length=0.16681479, name='896'): 2.5434009149052485e-05,\n",
       " Clade(branch_length=0.077906449, name='354'): 1.1771230574270419e-05,\n",
       " Clade(branch_length=6e-09, name='792'): 2.0396302018333416e-10,\n",
       " Clade(branch_length=5e-09, name='221'): 2.2962375793147325e-12,\n",
       " Clade(branch_length=0.224302988, name='943'): 0.00039602498340522013,\n",
       " Clade(branch_length=0.070810264, name='528'): 8.41612052594529e-06,\n",
       " Clade(branch_length=0.626578695, name='824'): 0.0002455321754124474,\n",
       " Clade(branch_length=0.022272481, name='379'): 9.039041233245962e-10,\n",
       " Clade(branch_length=0.159589745, name='502'): 1.078326573199721e-05,\n",
       " Clade(branch_length=0.202259287, name='197'): 0.0008155630814371641,\n",
       " Clade(branch_length=0.061047944, name='216'): 4.5930262295015076e-08,\n",
       " Clade(branch_length=0.559147186, name='477'): 4.470848532968514e-05,\n",
       " Clade(branch_length=0.376416867, name='258'): 0.00028070587079276837,\n",
       " Clade(branch_length=5e-09, name='790'): 3.413244733385186e-05,\n",
       " Clade(branch_length=0.136156982, name='181'): 1.2874513383866352e-05,\n",
       " Clade(branch_length=0.008418136, name='57'): 0.0002677676544242256,\n",
       " Clade(branch_length=0.004550679, name='318'): 5.965692569822647e-05,\n",
       " Clade(branch_length=0.474582264, name='759'): 1.0499884144456553e-05,\n",
       " Clade(branch_length=0.928808221, name='175'): 0.00016342918077043775,\n",
       " Clade(branch_length=0.302243948, name='968'): 3.9529942146701076e-05,\n",
       " Clade(branch_length=0.015651033, name='873'): 4.851162336607078e-11,\n",
       " Clade(branch_length=0.016040254, name='11'): 2.8107547548685543e-12,\n",
       " Clade(branch_length=0.228576837, name='730'): 4.091756657046466e-06,\n",
       " Clade(branch_length=0.724719198, name='957'): 0.0002205130719764401,\n",
       " Clade(branch_length=6e-09, name='495'): 7.517145335942683e-06,\n",
       " Clade(branch_length=0.024568014, name='994'): 3.892434545948944e-06,\n",
       " Clade(branch_length=0.196961881, name='771'): 4.7485447593267995e-06,\n",
       " Clade(branch_length=0.518069231, name='292'): 0.00018679873914344283,\n",
       " Clade(branch_length=0.007136192, name='660'): 5.1623400504156325e-05,\n",
       " Clade(branch_length=0.014374439, name='193'): 1.8452803266255892e-11,\n",
       " Clade(branch_length=0.020377331, name='583'): 2.759951854461613e-06,\n",
       " Clade(branch_length=0.010447793, name='506'): 5.995437452072541e-11,\n",
       " Clade(branch_length=0.148440132, name='617'): 0.00016583984630328376,\n",
       " Clade(branch_length=0.923560305, name='88'): 0.000597494429448621,\n",
       " Clade(branch_length=0.828470205, name='236'): 0.006267488993279279,\n",
       " Clade(branch_length=0.428210117, name='403'): 4.722644888212538e-05,\n",
       " Clade(branch_length=0.048922161, name='946'): 0.0005031932827701999,\n",
       " Clade(branch_length=1.002783038, name='888'): 0.00027047486512602836,\n",
       " Clade(branch_length=0.749466439, name='27'): 0.0007271689613085803,\n",
       " Clade(branch_length=0.347837067, name='14'): 5.926347687540499e-05,\n",
       " Clade(branch_length=0.027598239, name='201'): 7.997240561042192e-05,\n",
       " Clade(branch_length=0.38494529, name='807'): 7.585355875083995e-06,\n",
       " Clade(branch_length=0.193176842, name='810'): 0.00010671068846400618,\n",
       " Clade(branch_length=0.101717394, name='522'): 8.117455146217487e-06,\n",
       " Clade(branch_length=0.712586326, name='987'): 0.00015828658911091632,\n",
       " Clade(branch_length=0.258958415, name='880'): 0.0001628106876048888,\n",
       " Clade(branch_length=0.153895386, name='248'): 5.427001062603075e-05,\n",
       " Clade(branch_length=0.022476913, name='170'): 7.47490077406323e-06,\n",
       " Clade(branch_length=6e-09, name='45'): 0.0011842436764434314,\n",
       " Clade(branch_length=0.067745493, name='324'): 0.00012621154014315735,\n",
       " Clade(branch_length=0.007093076, name='227'): 1.0279464050616869e-10,\n",
       " Clade(branch_length=0.018342659, name='498'): 5.663764896107565e-05,\n",
       " Clade(branch_length=5e-09, name='682'): 0.009985527607702905,\n",
       " Clade(branch_length=6e-09, name='50'): 0.0013159998138942916,\n",
       " Clade(branch_length=0.122410254, name='395'): 6.31880383065079e-07,\n",
       " Clade(branch_length=0.110548555, name='309'): 1.3703306510021432e-05,\n",
       " Clade(branch_length=0.009678415, name='565'): 0.00013796880321270496,\n",
       " Clade(branch_length=0.515084787, name='752'): 0.0017949033514512132,\n",
       " Clade(branch_length=0.201343957, name='610'): 1.5293277400506344e-05,\n",
       " Clade(branch_length=0.138710403, name='315'): 1.0921130085411248e-05,\n",
       " Clade(branch_length=0.058125544, name='398'): 3.797121560658051e-05,\n",
       " Clade(branch_length=0.447196798, name='317'): 0.0010336676956707168,\n",
       " Clade(branch_length=0.262971059, name='361'): 5.693087744392082e-07,\n",
       " Clade(branch_length=0.50078526, name='174'): 0.0005301889267280714,\n",
       " Clade(branch_length=0.059407691, name='349'): 2.5223755761672593e-05,\n",
       " Clade(branch_length=0.34622965, name='233'): 0.0006054361587807683,\n",
       " Clade(branch_length=0.202197531, name='954'): 7.404222312541253e-07,\n",
       " Clade(branch_length=0.1663138, name='750'): 1.0978283637902139e-05,\n",
       " Clade(branch_length=0.005693901, name='647'): 5.389077292022472e-05,\n",
       " Clade(branch_length=0.022380059, name='903'): 2.6612138142850023e-10,\n",
       " Clade(branch_length=0.020886762, name='158'): 4.410273536974008e-06,\n",
       " Clade(branch_length=0.013648739, name='101'): 4.788497454161655e-06,\n",
       " Clade(branch_length=0.025997939, name='782'): 3.543070831608357e-06,\n",
       " Clade(branch_length=0.015252397, name='507'): 1.2471586294889246e-09,\n",
       " Clade(branch_length=0.006987212, name='878'): 7.151973412375401e-09,\n",
       " Clade(branch_length=0.038541277, name='665'): 3.165080005744225e-11,\n",
       " Clade(branch_length=0.390849265, name='183'): 9.962582199819089e-05,\n",
       " Clade(branch_length=6e-09, name='74'): 3.262498838248018e-05,\n",
       " Clade(branch_length=0.221557227, name='218'): 2.9447449841809893e-07,\n",
       " Clade(branch_length=0.391011603, name='54'): 3.3955938430911535e-07,\n",
       " Clade(branch_length=0.085457728, name='787'): 3.404217380064972e-05,\n",
       " Clade(branch_length=0.898457715, name='302'): 0.00013468472224607286,\n",
       " Clade(branch_length=5e-09, name='456'): 0.0001718296653408788,\n",
       " Clade(branch_length=5e-09, name='111'): 6.20340927956339e-07,\n",
       " Clade(branch_length=5e-09, name='410'): 7.751892821583641e-05,\n",
       " Clade(branch_length=0.031524906, name='420'): 2.1854637542982066e-07,\n",
       " Clade(branch_length=0.390535586, name='894'): 4.739951397732498e-05,\n",
       " Clade(branch_length=0.6527207, name='293'): 0.0030587384142636126,\n",
       " Clade(branch_length=5e-09, name='883'): 0.00011505452153054547,\n",
       " Clade(branch_length=0.165984351, name='517'): 2.940073340722076e-05,\n",
       " Clade(branch_length=5e-09, name='510'): 0.0004939917728007144,\n",
       " Clade(branch_length=0.227380005, name='89'): 0.0019849573398814596,\n",
       " Clade(branch_length=6e-09, name='234'): 4.0900187223906757e-07,\n",
       " Clade(branch_length=0.39906381, name='393'): 0.0008520324063114641,\n",
       " Clade(branch_length=0.007671086, name='220'): 1.1753257047240858e-11,\n",
       " Clade(branch_length=5e-09, name='61'): 7.060996011949299e-06,\n",
       " Clade(branch_length=0.461513533, name='854'): 0.001297676853100019,\n",
       " Clade(branch_length=5e-09, name='430'): 0.0024156456675195224,\n",
       " Clade(branch_length=0.119396983, name='651'): 0.00014712404898305917,\n",
       " Clade(branch_length=6e-09, name='56'): 0.0018766722916302141,\n",
       " Clade(branch_length=0.448963836, name='573'): 5.580842979038599e-07,\n",
       " Clade(branch_length=0.698252191, name='906'): 0.002342009326170333,\n",
       " Clade(branch_length=0.099463009, name='539'): 0.00397748054624157,\n",
       " Clade(branch_length=0.135756983, name='411'): 0.0021641677083692992,\n",
       " Clade(branch_length=0.590234533, name='115'): 4.758397331481695e-05,\n",
       " Clade(branch_length=0.082955787, name='28'): 3.745372736438965e-14,\n",
       " Clade(branch_length=0.003779248, name='36'): 0.000479789833400784,\n",
       " Clade(branch_length=1.15409284, name='454'): 0.003327737596516418,\n",
       " Clade(branch_length=0.365988498, name='21'): 0.00019973074708544176,\n",
       " Clade(branch_length=0.983722249, name='85'): 0.00026886114252942783,\n",
       " Clade(branch_length=0.973812174, name='814'): 2.1230468048852132e-05,\n",
       " Clade(branch_length=0.014387473, name='580'): 1.9357049804625463e-11,\n",
       " Clade(branch_length=0.498094397, name='360'): 2.669414347986728e-05,\n",
       " Clade(branch_length=0.497226005, name='5'): 4.1579660579356795e-05,\n",
       " ...}"
      ]
     },
     "execution_count": 183,
     "metadata": {},
     "output_type": "execute_result"
    }
   ],
   "source": [
    "weights_dict_acl"
   ]
  },
  {
   "cell_type": "code",
   "execution_count": 184,
   "metadata": {},
   "outputs": [
    {
     "data": {
      "text/plain": [
       "1.000000017324112"
      ]
     },
     "execution_count": 184,
     "metadata": {},
     "output_type": "execute_result"
    }
   ],
   "source": [
    "np.sum(list(weights_dict_acl.values()))"
   ]
  },
  {
   "cell_type": "code",
   "execution_count": 185,
   "metadata": {},
   "outputs": [
    {
     "data": {
      "text/plain": [
       "3.9984249181968064e-05"
      ]
     },
     "execution_count": 185,
     "metadata": {},
     "output_type": "execute_result"
    }
   ],
   "source": [
    "weights_dict_acl[next(tree.find_elements('reference'))]"
   ]
  },
  {
   "cell_type": "code",
   "execution_count": 188,
   "metadata": {},
   "outputs": [
    {
     "data": {
      "text/plain": [
       "(array([ 788.,  882.,  927.,  950.,  962.,  971.,  979.,  982.,  985.,\n",
       "         991.,  995.,  996.,  996.,  997.,  997.,  997.,  997.,  997.,\n",
       "         997.,  998.,  999.,  999.,  999., 1000., 1000., 1000., 1000.,\n",
       "        1000., 1000., 1000., 1000., 1000., 1000., 1000., 1000., 1000.,\n",
       "        1000., 1000., 1000., 1000., 1000., 1000., 1000., 1000., 1000.,\n",
       "        1000., 1000., 1000., 1000., 1000., 1000., 1000., 1000., 1000.,\n",
       "        1000., 1000., 1000., 1000., 1000., 1000., 1000., 1000., 1000.,\n",
       "        1000., 1000., 1000., 1000., 1000., 1000., 1000., 1000., 1000.,\n",
       "        1000., 1000., 1000., 1000., 1000., 1000., 1000., 1000., 1000.,\n",
       "        1000., 1000., 1000., 1000., 1000., 1000., 1000., 1000., 1000.,\n",
       "        1000., 1000., 1000., 1000., 1000., 1000., 1000., 1000., 1000.,\n",
       "        1001.]),\n",
       " array([-7.90845675e-11,  1.04721025e-03,  2.09442059e-03,  3.14163092e-03,\n",
       "         4.18884125e-03,  5.23605159e-03,  6.28326192e-03,  7.33047225e-03,\n",
       "         8.37768259e-03,  9.42489292e-03,  1.04721033e-02,  1.15193136e-02,\n",
       "         1.25665239e-02,  1.36137343e-02,  1.46609446e-02,  1.57081549e-02,\n",
       "         1.67553653e-02,  1.78025756e-02,  1.88497859e-02,  1.98969963e-02,\n",
       "         2.09442066e-02,  2.19914169e-02,  2.30386273e-02,  2.40858376e-02,\n",
       "         2.51330479e-02,  2.61802583e-02,  2.72274686e-02,  2.82746789e-02,\n",
       "         2.93218893e-02,  3.03690996e-02,  3.14163099e-02,  3.24635203e-02,\n",
       "         3.35107306e-02,  3.45579409e-02,  3.56051513e-02,  3.66523616e-02,\n",
       "         3.76995719e-02,  3.87467823e-02,  3.97939926e-02,  4.08412029e-02,\n",
       "         4.18884133e-02,  4.29356236e-02,  4.39828339e-02,  4.50300443e-02,\n",
       "         4.60772546e-02,  4.71244649e-02,  4.81716753e-02,  4.92188856e-02,\n",
       "         5.02660959e-02,  5.13133063e-02,  5.23605166e-02,  5.34077269e-02,\n",
       "         5.44549373e-02,  5.55021476e-02,  5.65493579e-02,  5.75965683e-02,\n",
       "         5.86437786e-02,  5.96909889e-02,  6.07381993e-02,  6.17854096e-02,\n",
       "         6.28326199e-02,  6.38798303e-02,  6.49270406e-02,  6.59742509e-02,\n",
       "         6.70214613e-02,  6.80686716e-02,  6.91158819e-02,  7.01630923e-02,\n",
       "         7.12103026e-02,  7.22575129e-02,  7.33047233e-02,  7.43519336e-02,\n",
       "         7.53991439e-02,  7.64463543e-02,  7.74935646e-02,  7.85407749e-02,\n",
       "         7.95879853e-02,  8.06351956e-02,  8.16824059e-02,  8.27296163e-02,\n",
       "         8.37768266e-02,  8.48240369e-02,  8.58712473e-02,  8.69184576e-02,\n",
       "         8.79656679e-02,  8.90128783e-02,  9.00600886e-02,  9.11072989e-02,\n",
       "         9.21545093e-02,  9.32017196e-02,  9.42489299e-02,  9.52961403e-02,\n",
       "         9.63433506e-02,  9.73905609e-02,  9.84377713e-02,  9.94849816e-02,\n",
       "         1.00532192e-01,  1.01579402e-01,  1.02626613e-01,  1.03673823e-01,\n",
       "         1.04721033e-01]),\n",
       " <a list of 1 Patch objects>)"
      ]
     },
     "execution_count": 188,
     "metadata": {},
     "output_type": "execute_result"
    },
    {
     "data": {
      "image/png": "[encoded data removed]",
      "text/plain": [
       "<matplotlib.figure.Figure at 0x11cfdd0f0>"
      ]
     },
     "metadata": {},
     "output_type": "display_data"
    }
   ],
   "source": [
    "fig, ax = plt.subplots()\n",
    "ax.hist(list(weights_dict_acl.values()), 100, cumulative=True, histtype='step')"
   ]
  },
  {
   "cell_type": "markdown",
   "metadata": {},
   "source": [
    "# Stone and Sidow proposed \"Branch_Manager\" which I at one point implemented and subsequently deleted. Their code works and at the moment I don't see the point.\n",
    "\n",
    "I, of course, deleted solely because I've gotten a much better grasp on these methods so if I decide to re-write don't want to even deal with the previous monstrosity that surely existed below"
   ]
  },
  {
   "cell_type": "code",
   "execution_count": null,
   "metadata": {
    "collapsed": true
   },
   "outputs": [],
   "source": []
  },
  {
   "cell_type": "markdown",
   "metadata": {},
   "source": [
    "# GSC implementation!\n",
    "\n",
    "There are a few free parameter choices that I haven't fully settled on so as of now GSC methods are really a cluster of related methods all producing slightly different outputs.\n",
    "\n",
    "Of note, GSC values are highly dependent on the location of the tree root."
   ]
  },
  {
   "cell_type": "code",
   "execution_count": 24,
   "metadata": {},
   "outputs": [
    {
     "ename": "TypeError",
     "evalue": "unorderable types: NoneType() > float()",
     "output_type": "error",
     "traceback": [
      "\u001b[0;31m---------------------------------------------------------------------------\u001b[0m",
      "\u001b[0;31mTypeError\u001b[0m                                 Traceback (most recent call last)",
      "\u001b[0;32m<ipython-input-24-314919357e80>\u001b[0m in \u001b[0;36m<module>\u001b[0;34m()\u001b[0m\n\u001b[0;32m----> 1\u001b[0;31m \u001b[0;32mNone\u001b[0m \u001b[0;34m>\u001b[0m \u001b[0;36m0.0\u001b[0m\u001b[0;34m\u001b[0m\u001b[0m\n\u001b[0m",
      "\u001b[0;31mTypeError\u001b[0m: unorderable types: NoneType() > float()"
     ]
    }
   ],
   "source": []
  },
  {
   "cell_type": "code",
   "execution_count": 41,
   "metadata": {},
   "outputs": [
    {
     "name": "stdout",
     "output_type": "stream",
     "text": [
      "190.0 190.0\n",
      "2.546875 190.0\n"
     ]
    }
   ],
   "source": [
    "# tree = Phylo.read('/Users/adamhockenberry/Downloads/BM_Folder/paper_tree.txt', 'newick', rooted=True)\n",
    "tree = Phylo.read(StringIO('(((A:0, B:0):30,C:50):30, D:80)'), 'newick', rooted=True)\n",
    "# tree = Phylo.read('../../Tree_rooting/Data/euk_trees/KOG0001.faa.aln.nwk.Rooted.MADAJH', 'newick')\n",
    "# tree = Phylo.read('../../Phylogenetic_couplings/Data/psicov150_aln_pdb/mp_root_trees/1aoeA.newick',\\\n",
    "#                   'newick', rooted=True)\n",
    "\n",
    "\n",
    "\n",
    "weights_dict = weighting_methods.GSC_adhock(tree)\n",
    "normed_weights_dict = weighting_methods.normalize_GSC_weights(weights_dict, tree)\n",
    "print(np.sum([i for i in weights_dict.values()]), tree.total_branch_length())\n",
    "print(np.sum([i for i in normed_weights_dict.values()]), tree.total_branch_length())"
   ]
  },
  {
   "cell_type": "code",
   "execution_count": 42,
   "metadata": {},
   "outputs": [
    {
     "data": {
      "text/plain": [
       "{Clade(branch_length=50.0, name='C'): 68.75,\n",
       " Clade(branch_length=0.0, name='B'): 20.625,\n",
       " Clade(branch_length=80.0, name='D'): 80.0,\n",
       " Clade(branch_length=0.0, name='A'): 20.625}"
      ]
     },
     "execution_count": 42,
     "metadata": {},
     "output_type": "execute_result"
    }
   ],
   "source": [
    "weights_dict"
   ]
  },
  {
   "cell_type": "code",
   "execution_count": null,
   "metadata": {},
   "outputs": [],
   "source": [
    "weights_dict_v2 = weighting_methods.GSC_adhock_modified(tree)\n",
    "normed_weights_dict_v2 = weighting_methods.normalize_GSC_weights(weights_dict_v2, tree)\n",
    "\n",
    "print(np.sum([i[-1] for i in weights_dict_v2.values()]), tree.total_branch_length())\n",
    "print(np.sum([i[-1] for i in normed_weights_dict_v2.values()]), tree.total_branch_length())"
   ]
  },
  {
   "cell_type": "code",
   "execution_count": null,
   "metadata": {},
   "outputs": [],
   "source": [
    "a = [i[-1] for i in weights_dict.values()]\n",
    "b = [i[-1] for i in normed_weights_dict.values()]\n",
    "c = [i[-1] for i in weights_dict_v2.values()]\n",
    "d = [i[-1] for i in normed_weights_dict_v2.values()]\n",
    "e = [i for i in weights_dict_acl.values()]\n",
    "\n",
    "a = np.array(a)/np.mean(a)\n",
    "b = np.array(b)/np.mean(b)\n",
    "c = np.array(c)/np.mean(c)\n",
    "d = np.array(d)/np.mean(d)\n",
    "e = np.array(e)/np.mean(e)"
   ]
  },
  {
   "cell_type": "code",
   "execution_count": null,
   "metadata": {},
   "outputs": [],
   "source": [
    "fig, ax_arr = plt.subplots(ncols=2, nrows=1)\n",
    "ax_arr[0].hist(a)\n",
    "ax_arr[0].hist(b)\n",
    "ax_arr[1].hist(c)\n",
    "ax_arr[1].hist(d)"
   ]
  },
  {
   "cell_type": "code",
   "execution_count": null,
   "metadata": {},
   "outputs": [],
   "source": [
    "np.std(a), np.std(b), np.std(c), np.std(d), np.std(e)"
   ]
  },
  {
   "cell_type": "code",
   "execution_count": null,
   "metadata": {},
   "outputs": [],
   "source": []
  },
  {
   "cell_type": "code",
   "execution_count": null,
   "metadata": {
    "collapsed": true
   },
   "outputs": [],
   "source": []
  },
  {
   "cell_type": "code",
   "execution_count": null,
   "metadata": {
    "collapsed": true
   },
   "outputs": [],
   "source": []
  },
  {
   "cell_type": "markdown",
   "metadata": {},
   "source": [
    "# Scratch"
   ]
  },
  {
   "cell_type": "code",
   "execution_count": null,
   "metadata": {},
   "outputs": [],
   "source": [
    "for term_a in tree.get_terminals():\n",
    "    for term_b in tree.get_terminals():\n",
    "        print(term_a.name, term_b.name, (weights_dict_v2[term_a][-1]*weights_dict_v2[term_b][-1])/\\\n",
    "        (2*np.sqrt(weights_dict_v2[term_a][-1]*weights_dict_v2[term_b][-1])))"
   ]
  },
  {
   "cell_type": "code",
   "execution_count": null,
   "metadata": {
    "collapsed": true
   },
   "outputs": [],
   "source": []
  },
  {
   "cell_type": "code",
   "execution_count": null,
   "metadata": {
    "collapsed": true
   },
   "outputs": [],
   "source": []
  },
  {
   "cell_type": "code",
   "execution_count": null,
   "metadata": {
    "collapsed": true
   },
   "outputs": [],
   "source": []
  },
  {
   "cell_type": "code",
   "execution_count": null,
   "metadata": {
    "collapsed": true
   },
   "outputs": [],
   "source": []
  },
  {
   "cell_type": "code",
   "execution_count": null,
   "metadata": {
    "collapsed": true
   },
   "outputs": [],
   "source": []
  },
  {
   "cell_type": "markdown",
   "metadata": {},
   "source": [
    "# Henikoff weights"
   ]
  },
  {
   "cell_type": "code",
   "execution_count": null,
   "metadata": {
    "collapsed": true
   },
   "outputs": [],
   "source": [
    "from Bio import SeqIO\n",
    "from collections import Counter\n",
    "from scipy import stats"
   ]
  },
  {
   "cell_type": "code",
   "execution_count": null,
   "metadata": {},
   "outputs": [],
   "source": [
    "# records = list(SeqIO.parse('../../Tree_rooting/Data/Tria_et_al_data/'\n",
    "#                            'eukaryotes/ingroup/aln/KOG0018.faa.aln', 'fasta'))\n",
    "# tree = Phylo.read('../../Tree_rooting/Data/Tria_et_al_data/'\n",
    "#                   'eukaryotes/processed_trees/KOG0018.faa.aln.nwk.Rooted.MADAJH', 'newick')\n",
    "\n",
    "records = list(SeqIO.parse('../../Tree_rooting/Data/OMA_group_data/eukaryotes/aligned_OMA_groups/'\n",
    "                           'OMAGroup_833097.mafft.afa', 'fasta'))\n",
    "tree = Phylo.read('../../Tree_rooting/Data/OMA_group_data/eukaryotes/processed_OMA_trees/'\n",
    "                           'OMAGroup_833097.treefile.Rooted.MADAJH', 'newick')"
   ]
  },
  {
   "cell_type": "code",
   "execution_count": null,
   "metadata": {},
   "outputs": [],
   "source": [
    "print(len(records))\n",
    "seqs = np.array([list(record.seq) for record in records])\n",
    "print(seqs.shape)\n",
    "seqs_T = seqs.T\n",
    "print(seqs_T.shape)"
   ]
  },
  {
   "cell_type": "code",
   "execution_count": null,
   "metadata": {
    "collapsed": true
   },
   "outputs": [],
   "source": [
    "# seqs = np.array([list('GYVGS'),\n",
    "#                  list('GFDGF'),\n",
    "#                  list('GYDGF'),\n",
    "#                  list('GYQGG')])\n",
    "# seqs_T = seqs.T"
   ]
  },
  {
   "cell_type": "code",
   "execution_count": null,
   "metadata": {},
   "outputs": [],
   "source": [
    "weights_T = []\n",
    "all_weights = []\n",
    "for i in seqs_T[:]:\n",
    "    counter_dict = Counter(i)\n",
    "    del counter_dict['-']\n",
    "    r = len(counter_dict.keys())\n",
    "    positions = np.sum(list(counter_dict.values()))\n",
    "    weights_dict = {}\n",
    "    for key, val in counter_dict.items():\n",
    "    ####Adjust (or don't) according to the percentage of gaps in the sequence\n",
    "        weights_dict[key] = 1./(r*val)\n",
    "    temp_array = np.zeros(i.shape)\n",
    "    for key, val in weights_dict.items():\n",
    "        np.place(temp_array, i==key, [val])\n",
    "    temp_array = temp_array * (positions/seqs_T.shape[1])\n",
    "    weights_T.append(temp_array)\n",
    "weights_T = np.array(weights_T)\n",
    "all_weights = weights_T.T\n",
    "all_weights = np.sum(all_weights, axis=1)"
   ]
  },
  {
   "cell_type": "code",
   "execution_count": null,
   "metadata": {},
   "outputs": [],
   "source": [
    "all_weights = all_weights/np.mean(all_weights)\n",
    "print(np.sum(all_weights))"
   ]
  },
  {
   "cell_type": "code",
   "execution_count": null,
   "metadata": {},
   "outputs": [],
   "source": [
    "# all_weights = np.sum(all_weights, axis=1)"
   ]
  },
  {
   "cell_type": "code",
   "execution_count": null,
   "metadata": {},
   "outputs": [],
   "source": [
    "# all_weights = all_weights_T.T\n",
    "# all_weights = np.sum(all_weights, axis=1)"
   ]
  },
  {
   "cell_type": "code",
   "execution_count": null,
   "metadata": {},
   "outputs": [],
   "source": [
    "all_weights"
   ]
  },
  {
   "cell_type": "code",
   "execution_count": null,
   "metadata": {},
   "outputs": [],
   "source": [
    "weights_dict = weighting_methods.GSC_adhock(tree)\n",
    "normed_weights_dict = weighting_methods.normalize_GSC_weights(weights_dict, tree)\n",
    "# acl_dict, x = weighting_methods.ACL_adhock(tree)"
   ]
  },
  {
   "cell_type": "code",
   "execution_count": null,
   "metadata": {},
   "outputs": [],
   "source": [
    "a = []\n",
    "b = []\n",
    "c = []\n",
    "# d = []\n",
    "for i, record in enumerate(records):\n",
    "#     if tree.find_any(record.id) not in acl_dict.keys():\n",
    "#         continue\n",
    "    a.append(all_weights[i])\n",
    "    b.append(weights_dict[tree.find_any(record.id)][-1])\n",
    "    c.append(normed_weights_dict[tree.find_any(record.id)][-1])\n",
    "#     d.append(acl_dict[tree.find_any(record.id)])\n",
    "\n",
    "\n",
    "a = np.array(a)/np.mean(a)\n",
    "b = np.array(b)/np.mean(b)\n",
    "c = np.array(c)/np.mean(c)\n",
    "# d = np.array(d)/np.mean(d)"
   ]
  },
  {
   "cell_type": "code",
   "execution_count": null,
   "metadata": {},
   "outputs": [],
   "source": [
    "fig, ax_arr = plt.subplots(ncols=3, figsize=(16,3))\n",
    "ax_arr[0].plot(a,b, 'bo')\n",
    "ax_arr[1].plot(a,c, 'bo')\n",
    "ax_arr[2].plot(b,c, 'bo')"
   ]
  },
  {
   "cell_type": "code",
   "execution_count": null,
   "metadata": {},
   "outputs": [],
   "source": [
    "print(stats.spearmanr(a,b),'\\n',stats.spearmanr(a,c),'\\n',stats.spearmanr(b,c))"
   ]
  },
  {
   "cell_type": "code",
   "execution_count": null,
   "metadata": {},
   "outputs": [],
   "source": [
    "# print(stats.spearmanr(a,d),'\\n',stats.spearmanr(b,d),'\\n',stats.spearmanr(c,d))"
   ]
  },
  {
   "cell_type": "code",
   "execution_count": null,
   "metadata": {},
   "outputs": [],
   "source": [
    "fig, ax_arr = plt.subplots(nrows=2, ncols=2, figsize=(12,8))\n",
    "ax_arr[0,0].hist(a,normed=True)\n",
    "ax_arr[0,1].hist(b, normed=True)\n",
    "ax_arr[1,0].hist(c, normed=True)\n",
    "ax_arr[1,1].hist(d, normed=True)"
   ]
  },
  {
   "cell_type": "code",
   "execution_count": null,
   "metadata": {
    "collapsed": true
   },
   "outputs": [],
   "source": []
  },
  {
   "cell_type": "markdown",
   "metadata": {},
   "source": [
    "# Krogh and Mitchison max-ent"
   ]
  },
  {
   "cell_type": "code",
   "execution_count": null,
   "metadata": {},
   "outputs": [],
   "source": [
    "# records = list(SeqIO.parse('../../Tree_rooting/Data/Tria_et_al_data/'\n",
    "#                            'eukaryotes/ingroup/aln/KOG0018.faa.aln', 'fasta'))\n",
    "# tree = Phylo.read('../../Tree_rooting/Data/Tria_et_al_data/'\n",
    "#                   'eukaryotes/processed_trees/KOG0018.faa.aln.nwk.Rooted.MADAJH', 'newick')\n",
    "\n",
    "# records = list(SeqIO.parse('../../Tree_rooting/Data/OMA_group_data/eukaryotes/aligned_OMA_groups/'\n",
    "#                            'OMAGroup_833097.mafft.afa', 'fasta'))\n",
    "# tree = Phylo.read('../../Tree_rooting/Data/OMA_group_data/eukaryotes/processed_OMA_trees/'\n",
    "#                            'OMAGroup_833097.treefile.Rooted.MADAJH', 'newick')\n",
    "\n",
    "records = list(SeqIO.parse('../../Phylogenetic_couplings/Data/psicov150_aln_pdb/'\n",
    "                           'aln_fasta_max1k/1aoeA.fasta', 'fasta'))\n",
    "tree = Phylo.read('../../Phylogenetic_couplings/Data/psicov150_aln_pdb/'\n",
    "                  'mp_root_trees/1aoeA.newick', 'newick')"
   ]
  },
  {
   "cell_type": "code",
   "execution_count": null,
   "metadata": {},
   "outputs": [],
   "source": [
    "print(len(records))\n",
    "seqs = np.array([list(record.seq) for record in records])\n",
    "print(seqs.shape)\n",
    "seqs_T = seqs.T\n",
    "print(seqs_T.shape)"
   ]
  },
  {
   "cell_type": "code",
   "execution_count": null,
   "metadata": {},
   "outputs": [],
   "source": [
    "initial_shape = seqs_T.shape\n",
    "flat_seqs = seqs_T.flatten()\n",
    "order, flat_array = np.unique(flat_seqs, return_inverse=True)\n",
    "assert order[0] == '-'\n",
    "print(flat_array.shape)\n",
    "replaced_seqs_T = flat_array.reshape(initial_shape)\n",
    "initial_weights = np.full(replaced_seqs_T[0].shape, fill_value=1./replaced_seqs_T[0].shape[0])\n",
    "print(initial_weights.shape)\n",
    "print(replaced_seqs_T.shape)"
   ]
  },
  {
   "cell_type": "code",
   "execution_count": null,
   "metadata": {
    "collapsed": true
   },
   "outputs": [],
   "source": [
    "def total_ent_fxn(weights, seqs):\n",
    "    bin_counts = np.apply_along_axis(lambda x: np.bincount(x, weights=weights, minlength=22),\\\n",
    "                                     axis=1, arr=seqs)\n",
    "    all_ents = stats.entropy(bin_counts.T)\n",
    "    return -1*np.sum(all_ents)\n",
    "\n",
    "def total_ent_fxn_weighted(weights, seqs):\n",
    "    bin_counts = np.apply_along_axis(lambda x: np.bincount(x, weights=weights, minlength=22),\\\n",
    "                                     axis=1, arr=seqs)\n",
    "    trunc_bin_counts = bin_counts[:,1:]\n",
    "    ungapped_frac = np.sum(trunc_bin_counts, axis=1)/np.sum(bin_counts, axis=1)\n",
    "    all_ents = stats.entropy(trunc_bin_counts.T)\n",
    "    scaled_ents = all_ents*ungapped_frac\n",
    "    return -1*np.sum(scaled_ents)\n",
    "\n",
    "def total_ent_fxn_sim_ann(weights, seqs):\n",
    "    scaled_weights = weights/np.sum(weights)\n",
    "    bin_counts = np.apply_along_axis(lambda x: np.bincount(x, weights=weights, minlength=22),\\\n",
    "                                     axis=1, arr=seqs)\n",
    "    all_ents = stats.entropy(bin_counts.T)\n",
    "    return -1*np.sum(all_ents)"
   ]
  },
  {
   "cell_type": "code",
   "execution_count": null,
   "metadata": {},
   "outputs": [],
   "source": [
    "#Says the sum of all variables must be zero\n",
    "cons = ({'type': 'eq', 'fun': lambda x: 1- np.sum(x)})\n",
    "options = {'maxiter':500}\n",
    "\n",
    "\n",
    "#Required to have non negative values\n",
    "bnds = tuple((10e-16,1) for x in initial_weights)\n",
    "\n",
    "# res = minimize(total_ent_fxn, initial_weights, args=(replaced_seqs_T),\\\n",
    "#                method='SLSQP', bounds=bnds, constraints=cons, options=options)\n",
    "res_gap = minimize(total_ent_fxn_weighted, initial_weights, args=(replaced_seqs_T),\\\n",
    "               method='SLSQP', bounds=bnds, constraints=cons, options=options)\n",
    "# res_sim_ann = basinhopping(total_ent_fxn_sim_ann, initial_weights,\\\n",
    "#                            minimizer_kwargs={\"method\": \"BFGS\", \"args\": replaced_seqs_T,\\\n",
    "#                                             \"options\": options})"
   ]
  },
  {
   "cell_type": "code",
   "execution_count": null,
   "metadata": {},
   "outputs": [],
   "source": [
    "# res"
   ]
  },
  {
   "cell_type": "code",
   "execution_count": null,
   "metadata": {},
   "outputs": [],
   "source": [
    "res_gap"
   ]
  },
  {
   "cell_type": "code",
   "execution_count": null,
   "metadata": {},
   "outputs": [],
   "source": [
    "fig, ax = plt.subplots()\n",
    "ax.plot(res.x, res_gap.x, 'bo')\n",
    "ax.plot([0,0.15], [0,0.15])\n",
    "fig, ax = plt.subplots()\n",
    "ax.hist(res.x, 30, alpha=0.5)\n",
    "ax.hist(res_gap.x, 30, alpha=0.5)"
   ]
  },
  {
   "cell_type": "code",
   "execution_count": null,
   "metadata": {},
   "outputs": [],
   "source": []
  },
  {
   "cell_type": "code",
   "execution_count": null,
   "metadata": {},
   "outputs": [],
   "source": []
  },
  {
   "cell_type": "code",
   "execution_count": null,
   "metadata": {},
   "outputs": [],
   "source": [
    "bin_counts = np.apply_along_axis(lambda x: np.bincount(x, weights=initial_weights, minlength=22),\\\n",
    "                                 axis=1, arr=replaced_seqs_T)\n",
    "gap_frac = bin_counts[:,0]/np.sum(bin_counts, axis=1)\n",
    "trunc_bin_counts = bin_counts[:,1:]\n",
    "i = stats.entropy(trunc_bin_counts.T)"
   ]
  },
  {
   "cell_type": "code",
   "execution_count": null,
   "metadata": {},
   "outputs": [],
   "source": [
    "trunc_bin_counts.shape"
   ]
  },
  {
   "cell_type": "code",
   "execution_count": null,
   "metadata": {},
   "outputs": [],
   "source": [
    "np.sum(trunc_bin_counts.T, axis=0)"
   ]
  },
  {
   "cell_type": "code",
   "execution_count": null,
   "metadata": {},
   "outputs": [],
   "source": [
    "trunc_bin_counts.T[:,0]"
   ]
  },
  {
   "cell_type": "code",
   "execution_count": null,
   "metadata": {},
   "outputs": [],
   "source": [
    "stats.entropy(trunc_bin_counts.T[:,0])"
   ]
  },
  {
   "cell_type": "code",
   "execution_count": null,
   "metadata": {},
   "outputs": [],
   "source": [
    "stats.entropy(np.bincount(replaced_seqs_T[0]))"
   ]
  },
  {
   "cell_type": "code",
   "execution_count": null,
   "metadata": {},
   "outputs": [],
   "source": [
    "np.bincount(replaced_seqs_T[0])"
   ]
  },
  {
   "cell_type": "code",
   "execution_count": null,
   "metadata": {},
   "outputs": [],
   "source": [
    "np.bincount(replaced_seqs_T[0:2])"
   ]
  },
  {
   "cell_type": "code",
   "execution_count": null,
   "metadata": {},
   "outputs": [],
   "source": [
    "testy = np.apply_along_axis(lambda x: np.bincount(x, minlength=22), axis=1, arr=replaced_seqs_T[:])"
   ]
  },
  {
   "cell_type": "code",
   "execution_count": null,
   "metadata": {},
   "outputs": [],
   "source": [
    "replaced_seqs_T.shape"
   ]
  },
  {
   "cell_type": "code",
   "execution_count": null,
   "metadata": {},
   "outputs": [],
   "source": [
    "testy.shape"
   ]
  },
  {
   "cell_type": "code",
   "execution_count": null,
   "metadata": {},
   "outputs": [],
   "source": [
    "%%timeit\n",
    "blah = np.apply_along_axis(lambda x: stats.entropy(x), axis=1, arr = testy)"
   ]
  },
  {
   "cell_type": "code",
   "execution_count": null,
   "metadata": {},
   "outputs": [],
   "source": [
    "np.sum(blah)"
   ]
  },
  {
   "cell_type": "code",
   "execution_count": null,
   "metadata": {},
   "outputs": [],
   "source": [
    "all_ents = []\n",
    "for i in testy:\n",
    "    all_ents.append(stats.entropy(i))\n",
    "# print(np.sum(all_ents))"
   ]
  },
  {
   "cell_type": "code",
   "execution_count": null,
   "metadata": {},
   "outputs": [],
   "source": [
    "hmm = stats.entropy(testy.T)"
   ]
  },
  {
   "cell_type": "code",
   "execution_count": null,
   "metadata": {},
   "outputs": [],
   "source": [
    "list(hmm) == all_ents"
   ]
  },
  {
   "cell_type": "code",
   "execution_count": null,
   "metadata": {},
   "outputs": [],
   "source": [
    "np.isclose(hmm, all_ents)"
   ]
  },
  {
   "cell_type": "code",
   "execution_count": null,
   "metadata": {},
   "outputs": [],
   "source": [
    "bin_counts = np.apply_along_axis(lambda x: np.bincount(replaced_seqs_T, weights=weights, minlength=22),\\\n",
    "                                     axis=1, arr=seqs)"
   ]
  },
  {
   "cell_type": "code",
   "execution_count": null,
   "metadata": {
    "collapsed": true
   },
   "outputs": [],
   "source": []
  },
  {
   "cell_type": "code",
   "execution_count": null,
   "metadata": {
    "collapsed": true
   },
   "outputs": [],
   "source": []
  },
  {
   "cell_type": "markdown",
   "metadata": {},
   "source": [
    "# Better GSC implementation?\n",
    "starting from root and working towards tips rather than vice versa?"
   ]
  },
  {
   "cell_type": "code",
   "execution_count": 4,
   "metadata": {},
   "outputs": [
    {
     "name": "stdout",
     "output_type": "stream",
     "text": [
      "1001\n"
     ]
    }
   ],
   "source": [
    "# tree = Phylo.read('../../Tree_rooting/Data/raw_OMA_trees/OMAGroup_479938.mafft.afa.treefile.Rooted.MPAJH', 'newick')\n",
    "# tree = Phylo.read('/Users/adamhockenberry/Downloads/BM_Folder/paper_tree.txt', 'newick', rooted=True)\n",
    "# tree = Phylo.read(StringIO('(((A:20, B:20):30,C:50):30, D:80)'), 'newick', rooted=False)\n",
    "# tree = Phylo.read('../../Tree_rooting/Data/euk_trees/KOG0001.faa.aln.nwk.Rooted.MADAJH', 'newick')\n",
    "tree = Phylo.read('../../Phylogenetic_couplings/Data/psicov150_aln_pdb/raw_trees/1a3aA.newick', 'newick')\n",
    "\n",
    "\n",
    "\n",
    "\n",
    "print(len(tree.get_terminals()))\n",
    "# tree = trim_zero_bls(tree)\n",
    "# tree.root_at_midpoint()\n",
    "# print(len(tree.get_terminals()))\n",
    "# initial_order = tree.get_terminals()\n",
    "# dicty = {}\n",
    "# for i,j in enumerate(initial_order):\n",
    "#     dicty[j.name] = i"
   ]
  },
  {
   "cell_type": "code",
   "execution_count": 5,
   "metadata": {
    "collapsed": true
   },
   "outputs": [],
   "source": [
    "for i,j in enumerate(tree.get_nonterminals()):\n",
    "    j.name = 'I{}'.format(i)"
   ]
  },
  {
   "cell_type": "code",
   "execution_count": null,
   "metadata": {},
   "outputs": [],
   "source": [
    "tree.get_terminals()"
   ]
  },
  {
   "cell_type": "code",
   "execution_count": null,
   "metadata": {},
   "outputs": [],
   "source": [
    "tree.get_nonterminals()"
   ]
  },
  {
   "cell_type": "code",
   "execution_count": null,
   "metadata": {},
   "outputs": [],
   "source": [
    "def recursive_quick_GSC(node, weights_dicty, finished):\n",
    "    if len(node.clades) == 2:\n",
    "        lclade = node.clades[0]\n",
    "        rclade = node.clades[1]\n",
    "        if node.branch_length:\n",
    "            l_tot = lclade.total_branch_length()\n",
    "            r_tot = rclade.total_branch_length()\n",
    "            weights_dicty[lclade] += weights_dicty[node]*(l_tot/(l_tot + r_tot))\n",
    "            weights_dicty[rclade] += weights_dicty[node]*(r_tot/(l_tot + r_tot))\n",
    "        recursive_quick_GSC(lclade, weights_dicty, finished)\n",
    "        recursive_quick_GSC(rclade,weights_dicty,finished)\n",
    "        finished.append(node)\n",
    "    elif len(node.clades) == 0:\n",
    "        finished.append(node)\n",
    "    return"
   ]
  },
  {
   "cell_type": "code",
   "execution_count": null,
   "metadata": {},
   "outputs": [],
   "source": [
    "weights_dicty = {}\n",
    "for node in tree.get_terminals() + tree.get_nonterminals():\n",
    "    weights_dicty[node] = node.branch_length\n",
    "recursive_quick_GSC(tree.root, weights_dicty, [])"
   ]
  },
  {
   "cell_type": "code",
   "execution_count": null,
   "metadata": {},
   "outputs": [],
   "source": [
    "weights_dicty"
   ]
  },
  {
   "cell_type": "code",
   "execution_count": null,
   "metadata": {},
   "outputs": [],
   "source": [
    "weighting_methods.GSC_adhock(tree)"
   ]
  },
  {
   "cell_type": "code",
   "execution_count": null,
   "metadata": {},
   "outputs": [],
   "source": [
    "tree.depths()"
   ]
  },
  {
   "cell_type": "code",
   "execution_count": null,
   "metadata": {
    "collapsed": true
   },
   "outputs": [],
   "source": []
  },
  {
   "cell_type": "code",
   "execution_count": null,
   "metadata": {},
   "outputs": [],
   "source": [
    "30*(50/120)"
   ]
  },
  {
   "cell_type": "code",
   "execution_count": null,
   "metadata": {},
   "outputs": [],
   "source": [
    "43.75 / (43.75+43.75+62.5)"
   ]
  },
  {
   "cell_type": "code",
   "execution_count": null,
   "metadata": {},
   "outputs": [],
   "source": [
    "62.5 / (43.75+43.75+62.5)"
   ]
  },
  {
   "cell_type": "code",
   "execution_count": null,
   "metadata": {},
   "outputs": [],
   "source": [
    "8.75/30"
   ]
  },
  {
   "cell_type": "code",
   "execution_count": null,
   "metadata": {},
   "outputs": [],
   "source": [
    "12.5/30"
   ]
  },
  {
   "cell_type": "code",
   "execution_count": null,
   "metadata": {
    "collapsed": true
   },
   "outputs": [],
   "source": [
    "np.concatenate"
   ]
  }
 ],
 "metadata": {
  "kernelspec": {
   "display_name": "Python 3",
   "language": "python",
   "name": "python3"
  },
  "language_info": {
   "codemirror_mode": {
    "name": "ipython",
    "version": 3
   },
   "file_extension": ".py",
   "mimetype": "text/x-python",
   "name": "python",
   "nbconvert_exporter": "python",
   "pygments_lexer": "ipython3",
   "version": "3.7.4"
  },
  "toc": {
   "colors": {
    "hover_highlight": "#DAA520",
    "navigate_num": "#000000",
    "navigate_text": "#333333",
    "running_highlight": "#FF0000",
    "selected_highlight": "#FFD700",
    "sidebar_border": "#EEEEEE",
    "wrapper_background": "#FFFFFF"
   },
   "moveMenuLeft": true,
   "nav_menu": {
    "height": "120px",
    "width": "252px"
   },
   "navigate_menu": true,
   "number_sections": true,
   "sideBar": true,
   "threshold": 4,
   "toc_cell": false,
   "toc_section_display": "block",
   "toc_window_display": false,
   "widenNotebook": false
  }
 },
 "nbformat": 4,
 "nbformat_minor": 2
}
