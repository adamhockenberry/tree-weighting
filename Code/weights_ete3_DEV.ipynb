{
 "cells": [
  {
   "cell_type": "code",
   "execution_count": 1,
   "metadata": {},
   "outputs": [],
   "source": [
    "%matplotlib inline\n",
    "%load_ext autor"
   ]
  },
  {
   "cell_type": "code",
   "execution_count": 2,
   "metadata": {},
   "outputs": [],
   "source": [
    "import ete3\n",
    "from Bio import Phylo\n",
    "from io import StringIO\n",
    "\n",
    "import numpy as np"
   ]
  },
  {
   "cell_type": "code",
   "execution_count": 233,
   "metadata": {},
   "outputs": [],
   "source": [
    "def GSC_ete3(my_tree, weight=0):\n",
    "    \"\"\"\n",
    "    A super simple implementation using the ete3 data structure. \n",
    "    And it checks out as far as I'm concerned, but probably needs some work around the edges.\n",
    "    \n",
    "    One ideological flaw that I see with the method, however, is this:\n",
    "    test_tree = ete3.Tree('(((A:20, B:0):30,C:50):30, D:80);') \n",
    "    Node \"B\" should get zero weight as if it's not there?\n",
    "    \n",
    "    For the implementation, I should have a very short wrapper that checks the tree structure \n",
    "    for errors and then checks the output for consistency/expectation. Also (probably) removes\n",
    "    the weights for internal nodes since these are just place-holders and need to be removed.\n",
    "    \"\"\"\n",
    "    my_tree.add_features(weight=weight)\n",
    "    if len(my_tree.get_children()) == 0:\n",
    "        return\n",
    "    elif len(my_tree.get_children())==2:\n",
    "        l_child = my_tree.children[0]\n",
    "        r_child = my_tree.children[1]\n",
    "        l_ds = np.sum([i.dist for i in l_child.traverse()])\n",
    "        r_ds = np.sum([i.dist for i in r_child.traverse()])\n",
    "        total = l_ds + r_ds\n",
    "        if total != 0:\n",
    "            l_push = my_tree.weight * (l_ds/total)\n",
    "            r_push = my_tree.weight * (r_ds/total)\n",
    "        else:\n",
    "            l_push = my_tree.weight/2.\n",
    "            r_push = my_tree.weight/2.\n",
    "        my_tree = GSC_ete3(l_child, l_push+l_child.dist)\n",
    "        my_tree = GSC_ete3(r_child, r_push+r_child.dist)\n",
    "    else:\n",
    "        print('Error, tree does not appear to be bifurcating')\n",
    "        return\n",
    "    return\n",
    "\n",
    "def normalize_GSC_ete3(my_tree):\n",
    "    \"\"\"\n",
    "    This makes these numbers a *bit* more meaningful (imho) and this scaling alters some relative \n",
    "    relationships on non-ultrametric trees (slightly up-weighting sequences closer to the root\n",
    "    compared to the base-line method. I think of it as a \"% independence\" metric.\n",
    "    \n",
    "    If trees are ultrametric, this should just re-scale without altering relationshps between leaves.\n",
    "    \"\"\"\n",
    "    for leaf in my_tree.get_leaves():\n",
    "        leaf.weight = leaf.weight/my_tree.get_distance(leaf)\n",
    "    return"
   ]
  },
  {
   "cell_type": "code",
   "execution_count": 236,
   "metadata": {},
   "outputs": [],
   "source": [
    "test_tree = ete3.Tree('(((A:20, B:0):30,C:50):30, D:80);')\n",
    "GSC_ete3(test_tree)"
   ]
  },
  {
   "cell_type": "code",
   "execution_count": 237,
   "metadata": {},
   "outputs": [
    {
     "data": {
      "image/png": "[encoded data removed]",
      "text/plain": [
       "<Figure size 432x288 with 1 Axes>"
      ]
     },
     "metadata": {
      "needs_background": "light"
     },
     "output_type": "display_data"
    }
   ],
   "source": [
    "Phylo.draw(Phylo.read(StringIO(test_tree.write()), format='newick'), show_confidence=False)"
   ]
  },
  {
   "cell_type": "code",
   "execution_count": 238,
   "metadata": {},
   "outputs": [
    {
     "name": "stdout",
     "output_type": "stream",
     "text": [
      "A 65.0\n",
      "B 0.0\n",
      "C 65.0\n",
      "D 80.0\n",
      "210.0\n",
      "210.0\n"
     ]
    }
   ],
   "source": [
    "for i in test_tree.get_leaves():\n",
    "    print(i.name, i.weight)\n",
    "print(np.sum([i.weight for i in test_tree.get_leaves()]))\n",
    "print(np.sum([i.dist for i in test_tree.traverse()]))"
   ]
  },
  {
   "cell_type": "code",
   "execution_count": 239,
   "metadata": {},
   "outputs": [
    {
     "name": "stdout",
     "output_type": "stream",
     "text": [
      "A 0.8125\n",
      "B 0.0\n",
      "C 0.8125\n",
      "D 1.0\n",
      "2.625\n",
      "210.0\n"
     ]
    }
   ],
   "source": [
    "normalize_GSC_ete3(test_tree)\n",
    "for i in test_tree.get_leaves():\n",
    "    print(i.name, i.weight)\n",
    "print(np.sum([i.weight for i in test_tree.get_leaves()]))\n",
    "print(np.sum([i.dist for i in test_tree.traverse()]))"
   ]
  },
  {
   "cell_type": "code",
   "execution_count": null,
   "metadata": {},
   "outputs": [],
   "source": []
  },
  {
   "cell_type": "code",
   "execution_count": null,
   "metadata": {},
   "outputs": [],
   "source": []
  },
  {
   "cell_type": "markdown",
   "metadata": {},
   "source": [
    "# Comparing implementations"
   ]
  },
  {
   "cell_type": "code",
   "execution_count": 133,
   "metadata": {},
   "outputs": [],
   "source": [
    "from Bio import Phylo\n",
    "import weighting_methods"
   ]
  },
  {
   "cell_type": "code",
   "execution_count": 164,
   "metadata": {},
   "outputs": [
    {
     "name": "stdout",
     "output_type": "stream",
     "text": [
      "218 ms ± 7.76 ms per loop (mean ± std. dev. of 7 runs, 1 loop each)\n"
     ]
    }
   ],
   "source": [
    "phylo_tree = Phylo.read('../../Phylogenetic_couplings/Data/psicov150_aln_pdb/raw_trees/1a3aA.newick',\\\n",
    "                  'newick', rooted=True)\n",
    "phylo_weights_dict = weighting_methods.calc_GSC_weights(phylo_tree)\n"
   ]
  },
  {
   "cell_type": "code",
   "execution_count": 165,
   "metadata": {},
   "outputs": [
    {
     "name": "stdout",
     "output_type": "stream",
     "text": [
      "60.2 ms ± 446 µs per loop (mean ± std. dev. of 7 runs, 10 loops each)\n"
     ]
    }
   ],
   "source": [
    "ete3_tree = ete3.Tree('../../Phylogenetic_couplings/Data/psicov150_aln_pdb/raw_trees/1a3aA.newick')\n",
    "GSC_ete3(ete3_tree)"
   ]
  },
  {
   "cell_type": "code",
   "execution_count": 136,
   "metadata": {},
   "outputs": [],
   "source": [
    "phylo_weights = []\n",
    "ete3_weights = []\n",
    "for term in phylo_tree.get_terminals():\n",
    "    phylo_weights.append(phylo_weights_dict[term])\n",
    "    ete3_weights.append(ete3_tree.get_leaves_by_name(term.name)[0].weight)"
   ]
  },
  {
   "cell_type": "code",
   "execution_count": 137,
   "metadata": {},
   "outputs": [
    {
     "data": {
      "text/plain": [
       "2.220446049250313e-16"
      ]
     },
     "execution_count": 137,
     "metadata": {},
     "output_type": "execute_result"
    }
   ],
   "source": [
    "np.max([a-b for (a,b) in list(zip(phylo_weights, ete3_weights))])"
   ]
  },
  {
   "cell_type": "code",
   "execution_count": 138,
   "metadata": {},
   "outputs": [
    {
     "data": {
      "text/plain": [
       "<matplotlib.collections.PathCollection at 0x11d4a1990>"
      ]
     },
     "execution_count": 138,
     "metadata": {},
     "output_type": "execute_result"
    },
    {
     "data": {
      "image/png": "[encoded data removed]",
      "text/plain": [
       "<Figure size 432x288 with 1 Axes>"
      ]
     },
     "metadata": {
      "needs_background": "light"
     },
     "output_type": "display_data"
    }
   ],
   "source": [
    "fig, ax = plt.subplots()\n",
    "ax.scatter(phylo_weights, ete3_weights)"
   ]
  },
  {
   "cell_type": "code",
   "execution_count": 173,
   "metadata": {},
   "outputs": [
    {
     "name": "stdout",
     "output_type": "stream",
     "text": [
      "511.990423436\n",
      "511.990423436\n"
     ]
    }
   ],
   "source": [
    "print(np.sum([i.weight for i in ete3_tree.get_leaves()]))\n",
    "print(np.sum([i.dist for i in ete3_tree.traverse()]))"
   ]
  },
  {
   "cell_type": "code",
   "execution_count": null,
   "metadata": {},
   "outputs": [],
   "source": []
  },
  {
   "cell_type": "markdown",
   "metadata": {},
   "source": [
    "# ACL method...\n",
    "\n",
    "I'm increasingly hard-pressed to see a purpose behind this method, at least for \"raw\" trees where tips are non-contemporaneous. This just makes most leaves roughly zero and gives a ton of weight to leaves that are close to the root. Which makes sense if you're trying to estimate the root but that's rarely the purpose of any methods that I can think of.\n",
    "\n",
    "I think it might have some use/purpose on ultrametric trees (but this is of course it's own complicated and error-prone model). "
   ]
  },
  {
   "cell_type": "code",
   "execution_count": 267,
   "metadata": {},
   "outputs": [],
   "source": [
    "def vcv_recursive(my_tree, vcv_matrix, finished):\n",
    "    leaves = len(my_tree.get_leaves())\n",
    "    #if not set(my_tree.get_leaves()).issubset(set(finished)):\n",
    "    vcv_matrix[len(finished):len(finished)+leaves,\\\n",
    "               len(finished):len(finished)+leaves] += my_tree.dist\n",
    "    if len(my_tree.children) == 2:\n",
    "        vcv_matrix, finished = vcv_recursive(my_tree.children[0], vcv_matrix, finished)\n",
    "        vcv_matrix, finished = vcv_recursive(my_tree.children[1], vcv_matrix, finished)\n",
    "    elif len(my_tree.children) == 0:\n",
    "        finished.append(my_tree)\n",
    "    return vcv_matrix, finished"
   ]
  },
  {
   "cell_type": "code",
   "execution_count": 315,
   "metadata": {},
   "outputs": [],
   "source": [
    "test_tree = ete3.Tree('(((A:20, B:20):30,C:50):30, D:80);')\n",
    "# test_tree = ete3.Tree('(((A:20, B:20):30,(E:40, F:40):10):30, D:80);')\n",
    "test_tree = ete3.Tree('../../Phylogenetic_couplings/Data/psicov150_aln_pdb/raw_trees/1a3aA.newick')\n",
    "initial_matrix = np.zeros((len(test_tree.get_leaves()), len(test_tree.get_leaves())))\n",
    "vcv_matrix, finished = vcv_recursive(test_tree, initial_matrix, [])"
   ]
  },
  {
   "cell_type": "code",
   "execution_count": 307,
   "metadata": {},
   "outputs": [
    {
     "data": {
      "text/plain": [
       "array([[80., 60., 30.,  0.],\n",
       "       [60., 80., 30.,  0.],\n",
       "       [30., 30., 80.,  0.],\n",
       "       [ 0.,  0.,  0., 80.]])"
      ]
     },
     "execution_count": 307,
     "metadata": {},
     "output_type": "execute_result"
    }
   ],
   "source": [
    "# vcv_matrix"
   ]
  },
  {
   "cell_type": "code",
   "execution_count": 316,
   "metadata": {},
   "outputs": [],
   "source": [
    "# Phylo.draw(Phylo.read(StringIO(test_tree.write()), format='newick'), show_confidence=False)"
   ]
  },
  {
   "cell_type": "code",
   "execution_count": 317,
   "metadata": {},
   "outputs": [],
   "source": [
    "inv_vcv_matrix = np.linalg.inv(vcv_matrix)                                                                                                                                                                 \n",
    "inv_weights = inv_vcv_matrix.sum(axis=1)/inv_vcv_matrix.sum()"
   ]
  },
  {
   "cell_type": "code",
   "execution_count": 320,
   "metadata": {},
   "outputs": [
    {
     "data": {
      "text/plain": [
       "(array([0.0003072 , 0.00056066, 0.00111135, ..., 0.0138787 , 0.01024664,\n",
       "        0.10472103]), 0.9999999951270815)"
      ]
     },
     "execution_count": 320,
     "metadata": {},
     "output_type": "execute_result"
    }
   ],
   "source": [
    "inv_weights, np.sum(inv_weights)"
   ]
  },
  {
   "cell_type": "code",
   "execution_count": 325,
   "metadata": {},
   "outputs": [
    {
     "data": {
      "text/plain": [
       "[<matplotlib.lines.Line2D at 0x11e4501d0>]"
      ]
     },
     "execution_count": 325,
     "metadata": {},
     "output_type": "execute_result"
    },
    {
     "data": {
      "image/png": "[encoded data removed]",
      "text/plain": [
       "<Figure size 432x288 with 1 Axes>"
      ]
     },
     "metadata": {
      "needs_background": "light"
     },
     "output_type": "display_data"
    }
   ],
   "source": [
    "fig, ax = plt.subplots()\n",
    "ax.semilogx([test_tree.get_distance(i) for i in test_tree.get_leaves()], inv_weights,\\\n",
    "        marker='o', linestyle='')"
   ]
  },
  {
   "cell_type": "code",
   "execution_count": null,
   "metadata": {},
   "outputs": [],
   "source": []
  },
  {
   "cell_type": "code",
   "execution_count": null,
   "metadata": {},
   "outputs": [],
   "source": []
  },
  {
   "cell_type": "code",
   "execution_count": null,
   "metadata": {},
   "outputs": [],
   "source": []
  },
  {
   "cell_type": "code",
   "execution_count": 371,
   "metadata": {},
   "outputs": [
    {
     "data": {
      "text/plain": [
       "4.226507198536251"
      ]
     },
     "execution_count": 371,
     "metadata": {},
     "output_type": "execute_result"
    }
   ],
   "source": [
    "np.log(2)/0.164"
   ]
  },
  {
   "cell_type": "code",
   "execution_count": null,
   "metadata": {},
   "outputs": [],
   "source": []
  }
 ],
 "metadata": {
  "kernelspec": {
   "display_name": "Python 3",
   "language": "python",
   "name": "python3"
  },
  "language_info": {
   "codemirror_mode": {
    "name": "ipython",
    "version": 3
   },
   "file_extension": ".py",
   "mimetype": "text/x-python",
   "name": "python",
   "nbconvert_exporter": "python",
   "pygments_lexer": "ipython3",
   "version": "3.7.4"
  },
  "toc": {
   "colors": {
    "hover_highlight": "#DAA520",
    "navigate_num": "#000000",
    "navigate_text": "#333333",
    "running_highlight": "#FF0000",
    "selected_highlight": "#FFD700",
    "sidebar_border": "#EEEEEE",
    "wrapper_background": "#FFFFFF"
   },
   "moveMenuLeft": true,
   "nav_menu": {
    "height": "12px",
    "width": "252px"
   },
   "navigate_menu": true,
   "number_sections": true,
   "sideBar": true,
   "threshold": 4,
   "toc_cell": false,
   "toc_section_display": "block",
   "toc_window_display": false,
   "widenNotebook": false
  }
 },
 "nbformat": 4,
 "nbformat_minor": 2
}
